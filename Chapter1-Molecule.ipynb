{
 "cells": [
  {
   "cell_type": "markdown",
   "metadata": {},
   "source": [
    "# Chapter 1 에서 배울 내용\n",
    "\n",
    "1. **분자의 데이터 표기법**  \n",
    "   - 화학에서 분자의 의미  \n",
    "   - 데이터를 다루기 위해 알아야 할 기본 사항  \n",
    "---\n",
    "2. **SMILES를 활용한 분자 데이터 변환**  \n",
    "   - 분자 데이터를 컴퓨터에서 표현하는 기초 형식인 SMILES  \n",
    "   - SMILES를 다루는 기초적인 방법 (문자열, 지문, 설명자, 이미지, 그래프 등)\n",
    "---\n",
    "3. **다양한 형태 변환을 지원하는 종합 함수 제작**  \n",
    "   - 여러 변환 기능을 종합한 함수 구현  \n"
   ]
  },
  {
   "cell_type": "markdown",
   "metadata": {},
   "source": [
    "### Ignore warnings\n",
    "코드 실행에서 불필요한 경고 문구 해제 "
   ]
  },
  {
   "cell_type": "code",
   "execution_count": 3,
   "metadata": {
    "ExecuteTime": {
     "end_time": "2024-11-29T08:23:11.680737Z",
     "start_time": "2024-11-29T08:23:11.432108Z"
    }
   },
   "outputs": [],
   "source": [
    "import warnings \n",
    "warnings.filterwarnings('ignore')\n",
    "\n",
    "from rdkit import RDLogger\n",
    "RDLogger.DisableLog('rdApp.*')"
   ]
  },
  {
   "cell_type": "markdown",
   "metadata": {},
   "source": [
    "### Library Import\n",
    "코드 실행에 필요한 라이브러리를 호출"
   ]
  },
  {
   "cell_type": "code",
   "execution_count": 4,
   "metadata": {
    "ExecuteTime": {
     "end_time": "2024-11-29T08:23:53.582930Z",
     "start_time": "2024-11-29T08:23:53.580013Z"
    }
   },
   "outputs": [
    {
     "ename": "ModuleNotFoundError",
     "evalue": "No module named 'utils.seq_to_graph'",
     "output_type": "error",
     "traceback": [
      "\u001b[1;31m---------------------------------------------------------------------------\u001b[0m",
      "\u001b[1;31mModuleNotFoundError\u001b[0m                       Traceback (most recent call last)",
      "Cell \u001b[1;32mIn[4], line 14\u001b[0m\n\u001b[0;32m     11\u001b[0m rdDepictor\u001b[38;5;241m.\u001b[39mSetPreferCoordGen(\u001b[38;5;28;01mTrue\u001b[39;00m)\n\u001b[0;32m     12\u001b[0m IPythonConsole\u001b[38;5;241m.\u001b[39mipython_3d \u001b[38;5;241m=\u001b[39m \u001b[38;5;28;01mTrue\u001b[39;00m\n\u001b[1;32m---> 14\u001b[0m \u001b[38;5;28;01mfrom\u001b[39;00m \u001b[38;5;21;01mutils\u001b[39;00m\u001b[38;5;21;01m.\u001b[39;00m\u001b[38;5;21;01mseq_to_graph\u001b[39;00m \u001b[38;5;28;01mimport\u001b[39;00m drug_to_graph\n\u001b[0;32m     15\u001b[0m \u001b[38;5;28;01mfrom\u001b[39;00m \u001b[38;5;21;01mdeepchem\u001b[39;00m\u001b[38;5;21;01m.\u001b[39;00m\u001b[38;5;21;01mfeat\u001b[39;00m\u001b[38;5;21;01m.\u001b[39;00m\u001b[38;5;21;01msmiles_tokenizer\u001b[39;00m \u001b[38;5;28;01mimport\u001b[39;00m BasicSmilesTokenizer\n\u001b[0;32m     17\u001b[0m \u001b[38;5;28mprint\u001b[39m(rdkit\u001b[38;5;241m.\u001b[39m__version__)\n",
      "\u001b[1;31mModuleNotFoundError\u001b[0m: No module named 'utils.seq_to_graph'"
     ]
    }
   ],
   "source": [
    "import torch\n",
    "import rdkit\n",
    "import py3Dmol\n",
    "import numpy as np\n",
    "import networkx as nx\n",
    "import matplotlib.pyplot as plt\n",
    "\n",
    "from rdkit import Chem\n",
    "from rdkit.Chem import AllChem, Draw, Descriptors, rdDepictor, rdDistGeom, MACCSkeys, rdMolDescriptors\n",
    "from rdkit.Chem.Draw import IPythonConsole\n",
    "rdDepictor.SetPreferCoordGen(True)\n",
    "IPythonConsole.ipython_3d = True\n",
    "\n",
    "from torch_geometric import utils as pyg_utils\n",
    "from deepchem.feat.smiles_tokenizer import BasicSmilesTokenizer\n",
    "\n",
    "print(rdkit.__version__)"
   ]
  },
  {
   "cell_type": "markdown",
   "metadata": {},
   "source": [
    "## 1) 분자의 데이터 표기법\n",
    "분자는 화학적으로 결합된 두 개 이상의 원자로 이루어진 물질의 가장 작은 단위로, 해당 물질의 화학적 성질을 유지하며 독립적으로 존재할 수 있다.\n",
    "\n",
    "이러한 화학 물질은 상황에 따라 다양한 용어로 불리는데, 예를 들어 **분자(Molecule)**, **화합물(Compound)**, **약물(Drug)** 등으로 구분된다.\n",
    "\n",
    "예시를 들어, 대표 항생제로 알려진 __\"페니실린\"__ 은 세균 감염을 치료하는데 사용되는 중요한 약물질이다.\n",
    "\n",
    "페니실린의 분자 구조가 어떻게 생겼는지와 어떤 식으로 표기하여 사용되고 있는지 확인해보자.\n",
    " \n",
    "아래 항목은 화학 물질이나 약물을 데이터로 표기할 때 사용하는 표준 정보들에 대한 설명이다.\n",
    "\n",
    "---\n",
    "\n",
    "* Generic Name: 일반적으로 사용되는 명칭\n",
    "* Formula: 분자의 원자 구성과 비율을 나타낸 화학식\n",
    "* IUPAC Name: 국제순수화학연합(IUPAC)이 권장하는 화학 명명법에 따른 공식 이름\n",
    "* CAS RN (Chemical Abstracts Service Registry Number): 특정 화합물(분자)을 식별하기 위한 고유 번호\n",
    "* SMILES (Simplified Molecular Input Line Entry System): 화합물의 구조를 텍스트로 나타내는 선형 표기법\n",
    "* InChI (International Chemical Identifier): 화학 구조를 표현하기 위해 사용하는 기계가 읽을 수 있는 표준 코드\n",
    "\n",
    "출처 : https://pubchem.ncbi.nlm.nih.gov/compound/Penicillin-G\n",
    "\n",
    "---"
   ]
  },
  {
   "cell_type": "code",
   "execution_count": 31,
   "metadata": {
    "ExecuteTime": {
     "end_time": "2024-11-29T08:23:57.206609Z",
     "start_time": "2024-11-29T08:23:57.193266Z"
    }
   },
   "outputs": [
    {
     "name": "stdout",
     "output_type": "stream",
     "text": [
      "Molecule Data:\n",
      "Generic Name: Penicillin\n",
      "Formula: C16H18N2O4S\n",
      "IUPAC Name: (2S,5R,6R)-3,3-dimethyl-7-oxo-6-[(2-phenylacetyl)amino]-4-thia-1-azabicyclo[3.2.0]heptane-2-carboxylic acid\n",
      "CAS RN: 61-33-6\n",
      "SMILES: CC1([C@@H](N2[C@H](S1)[C@@H](C2=O)NC(=O)CC3=CC=CC=C3)C(=O)O)C\n",
      "InChI: InChI=1S/C16H18N2O4S/c1-16(2)12(15(21)22)18-13(20)11(14(18)23-16)17-10(19)8-9-6-4-3-5-7-9/h3-7,11-12,14H,8H2,1-2H3,(H,17,19)(H,21,22)/t11-,12+,14-/m1/s1\n"
     ]
    },
    {
     "data": {
      "image/jpeg": "[encoded data removed]",
      "image/png": "[encoded data removed]",
      "text/plain": [
       "<PIL.PngImagePlugin.PngImageFile image mode=RGB size=300x300>"
      ]
     },
     "execution_count": 31,
     "metadata": {},
     "output_type": "execute_result"
    }
   ],
   "source": [
    "molecule_smiles = \"CC1([C@@H](N2[C@H](S1)[C@@H](C2=O)NC(=O)CC3=CC=CC=C3)C(=O)O)C\"\n",
    "molecule = Chem.MolFromSmiles(molecule_smiles)\n",
    "\n",
    "molecule_data = {\n",
    "    \"Generic Name\": \"Penicillin\",\n",
    "    \"Formula\": Chem.rdMolDescriptors.CalcMolFormula(molecule),\n",
    "    \"IUPAC Name\": \"(2S,5R,6R)-3,3-dimethyl-7-oxo-6-[(2-phenylacetyl)amino]-4-thia-1-azabicyclo[3.2.0]heptane-2-carboxylic acid\",\n",
    "    \"CAS RN\": \"61-33-6\",\n",
    "    \"SMILES\": molecule_smiles,\n",
    "    \"InChI\": Chem.MolToInchi(molecule),\n",
    "}\n",
    "\n",
    "\n",
    "print(\"Molecule Data:\")\n",
    "for key, value in molecule_data.items():\n",
    "    print(f\"{key}: {value}\")\n",
    "\n",
    "# Draw molecule\n",
    "Draw.MolToImage(molecule)"
   ]
  },
  {
   "cell_type": "markdown",
   "metadata": {},
   "source": [
    "## 2) SMILES 활용한 분자 데이터 변환\n",
    "SMILES는 컴퓨터가 분자 구조를 쉽게 저장하고 처리할 수 있도록 설계되어 가장 보편적으로 사용되는 데이터 형식이다.\n",
    "\n",
    "원자는 원소의 기호로 (ex: 탄소 -> C), 단일 결합을 제외한 이중, 삼중 결합은 (=, #)형태로 표기한다.\n",
    "\n",
    "고리를 이루는 구조는 고리의 시작과 끝을 숫자로 (ex: 벤젠 -> c1ccccc1), 갈라지는 분기는 괄호로 (ex: CC(C)C) 표기한다.\n",
    "\n",
    "수소는 표기를 생략하지만 암묵적으로 포함된 것으로 간주한다. \n",
    "\n",
    "이제, SMILES가 무엇인지 이해하였다면, 이것으로 어떻게 분자 데이터를 처리할 수 있는지 하나씩 살펴보도록 하자.\n",
    "\n",
    "파이썬에서 SMILES는 주로 `RDkit 오픈 소스 라이브러리` 를 통해 가공되기에 사용법에 익숙해지면 연구에 편리하다.    "
   ]
  },
  {
   "cell_type": "markdown",
   "metadata": {},
   "source": [
    "### a) 문자열 기반 접근: String Tokenization\n",
    "SMILES는 문자열이기에 자연어 처리에서 단어를 다루듯이 처리할 수 있다.\n",
    "\n",
    "가장 간단한 예시로, 문자열을 __\"개별적인 단위(토큰)\"__ 로 분리하여 컴퓨터가 처리하기 쉽게 변환하는 것이다.\n",
    "\n",
    "이 과정이 필요한 이유는, 머신러닝 및 딥러닝 모델에서 분자 데이털르 입력으로 사용하려면 SMILES를 숫자 벡터로 변환해야하기 때문이다.\n",
    "\n",
    "이를 위해, SMILES를 __\"의미 있는 조각\"__ 으로 나누는 작업이 필요하다.\n",
    "\n",
    "아래 예시에서는 SMILES를 조각 단위로 분리한 후, 각 조각에 고유한 값을 할당하여 Vocabulary(단어 사전)를 생성한다.\n",
    "\n",
    "> **Tip**: SMILES가 여러 개인 경우, 모든 SMILES에서 고유 조각을 모아 전체 Vocabulary를 만든 후 각 SMILES의 벡터 변환을 진행해야 한다. (예시를 위해, 진통제에서 자주 볼 수 있는 성분인 **아스피린** 분자를 함께 가공해보자)"
   ]
  },
  {
   "cell_type": "code",
   "execution_count": 32,
   "metadata": {
    "ExecuteTime": {
     "end_time": "2024-11-29T08:57:31.166890Z",
     "start_time": "2024-11-29T08:57:31.163505Z"
    }
   },
   "outputs": [
    {
     "name": "stdout",
     "output_type": "stream",
     "text": [
      "Aspirin (아스피린)\n"
     ]
    },
    {
     "data": {
      "image/png": "[encoded data removed]",
      "text/plain": [
       "<rdkit.Chem.rdchem.Mol at 0x169e744da10>"
      ]
     },
     "execution_count": 32,
     "metadata": {},
     "output_type": "execute_result"
    }
   ],
   "source": [
    "def generate_smiles_vocab(smis):\n",
    "    vocab = []\n",
    "    max_len = 0\n",
    "    tokenizer = BasicSmilesTokenizer()\n",
    "    for smi in smis:\n",
    "        tokens = tokenizer.tokenize(smi)\n",
    "        max_len = max(max_len, len(tokens))\n",
    "        vocab += tokens\n",
    "        \n",
    "    uniq_vocab = sorted(set(vocab))\n",
    "    smiles_vocab = {v: i for i, v in enumerate(uniq_vocab)}\n",
    "    smiles_vocab['Unk'] = len(smiles_vocab)\n",
    "    \n",
    "    encoded_smiles = [[smiles_vocab.get(token, smiles_vocab['Unk']) for token in tokenizer.tokenize(smi)] for smi in smis]\n",
    "    smiles_vec = []\n",
    "    for vec in encoded_smiles:\n",
    "        pad_len = max_len - len(vec)\n",
    "        vec = vec + ([0] * pad_len)\n",
    "        smiles_vec.append(vec)\n",
    "    smiles_vec = np.array(smiles_vec)\n",
    "    return smiles_vocab, smiles_vec\n",
    "\n",
    "aspirin = 'CC(=O)OC1=CC=CC=C1C(=O)O'\n",
    "smiles_vocab, encoded_smiles = generate_smiles_vocab([molecule_smiles, aspirin])\n",
    "print('Aspirin (아스피린)')\n",
    "Chem.MolFromSmiles(aspirin)"
   ]
  },
  {
   "cell_type": "code",
   "execution_count": 33,
   "metadata": {
    "ExecuteTime": {
     "end_time": "2024-11-29T08:57:31.491251Z",
     "start_time": "2024-11-29T08:57:31.487784Z"
    }
   },
   "outputs": [
    {
     "name": "stdout",
     "output_type": "stream",
     "text": [
      "Original SMILES (페니실린):\n",
      "\tCC1([C@@H](N2[C@H](S1)[C@@H](C2=O)NC(=O)CC3=CC=CC=C3)C(=O)O)C\n",
      "\n",
      "Another SMILES (아스피린):\n",
      "\tCC(=O)OC1=CC=CC=C1C(=O)O\n",
      "\n",
      "-----------------------------------------------------------------------------------------\n",
      "SMILES Vocab (페니실린과 아스피린을 구성하는 의미를 가진 조각들을 숫자로 맵핑하여 단어집을 형성):\n",
      "\t{'(': 0, ')': 1, '1': 2, '2': 3, '3': 4, '=': 5, 'C': 6, 'N': 7, 'O': 8, 'S': 9, '[C@@H]': 10, '[C@H]': 11, 'Unk': 12}\n",
      "\n",
      "-----------------------------------------------------------------------------------------\n",
      "Encoded SMILES by Vocab (페니실린 SMILES를 위치별로 숫자 벡터 변환):\n",
      "\t[ 6  6  2  0 10  0  7  3 11  0  9  2  1 10  0  6  3  5  8  1  7  6  0  5\n",
      "  8  1  6  6  4  5  6  6  5  6  6  5  6  4  1  6  0  5  8  1  8  1  6]\n",
      "\n",
      "Encoded SMILES by Vocab (아스피린 SMILES를 위치별로 숫자 벡터 변환):\n",
      "\t[6 6 0 5 8 1 8 6 2 5 6 6 5 6 6 5 6 2 6 0 5 8 1 8 0 0 0 0 0 0 0 0 0 0 0 0 0\n",
      " 0 0 0 0 0 0 0 0 0 0]\n",
      "\n"
     ]
    }
   ],
   "source": [
    "print(f\"Original SMILES (페니실린):\\n\\t{molecule_smiles}\\n\")\n",
    "print(f\"Another SMILES (아스피린):\\n\\t{aspirin}\\n\")\n",
    "print(f\"-----------------------------------------------------------------------------------------\")\n",
    "print(f\"SMILES Vocab (페니실린과 아스피린을 구성하는 의미를 가진 조각들을 숫자로 맵핑하여 단어집을 형성):\\n\\t{smiles_vocab}\\n\")\n",
    "print(f\"-----------------------------------------------------------------------------------------\")\n",
    "print(f\"Encoded SMILES by Vocab (페니실린 SMILES를 위치별로 숫자 벡터 변환):\\n\\t{encoded_smiles[0]}\\n\")\n",
    "print(f\"Encoded SMILES by Vocab (아스피린 SMILES를 위치별로 숫자 벡터 변환):\\n\\t{encoded_smiles[1]}\\n\")"
   ]
  },
  {
   "cell_type": "markdown",
   "metadata": {},
   "source": [
    "### b) 지문 기반 접근: Figerprint\n",
    "화학에서 __Fingerprint(지문)__ 는 분자의 화학적 구조나 특성을 간결하고 압축된 방식으로 표현한 이진 벡터 형식의 데이터이다.\n",
    "\n",
    "이는 분자 간 유사성을 계산하거나 머신러닝 모델에서 분자 특성을 입력 데이터로 사용할 때 주로 활용되며\n",
    "\n",
    "특정 칸에 임의의 구조를 정의하고 그 구조가 분자에 있다면 1, 없다면 0으로 값을 준다고 보면 되겠다.\n",
    "\n",
    "분자 지문은 분석하는 방식에 따라 다양항 종류로 나뉜다.\n",
    "\n",
    "* **RDKFingerprint**: 분자의 연결 정보를 중심으로 경로 방식으로 생성된 지문 (포괄적인 분석이 가능하지만, 단순 경로 중심이기에 분자 간의 복잡한 관계 반영이 어려움)\n",
    "* **MACCS Keys**: 166개의 고정된 패턴을 정의하여 생성된 지문 (간결하기에 계산이 빠르고 메모리 효율적, 표현에 대한 유연성은 낮아 새로운 패턴 반영이 없음) \n",
    "* **Morgan Fingerprint**: 특정 반지름(radius) 내의 원자와 결합 정보를 패턴으로 정의하여 지문을 생성 (ECFP로도 알려져 있으며, 반경 크기로 국소적 또는 전체적 특징을 자유롭게 표현 가능하지만 고정된 구조적 패턴이 없으므로 직관성이 떨어질 수 있음, 현재 머신러닝에서 가장 많이 사용되고 있는 방식)\n",
    "\n",
    "아래 예시에서는 MACCS Keys를 제외한 나머지 지문의 비트를 128로 고정하여 육안상 전체적인 비트를 확인하기 쉽게 하였으나\n",
    "\n",
    "> **Tip**: 일반적으로 사용되는 비트 수는 __1024__ 또는 __2048__ 이다. "
   ]
  },
  {
   "cell_type": "code",
   "execution_count": 34,
   "metadata": {
    "ExecuteTime": {
     "end_time": "2024-11-29T08:24:00.365837Z",
     "start_time": "2024-11-29T08:24:00.358766Z"
    }
   },
   "outputs": [
    {
     "name": "stdout",
     "output_type": "stream",
     "text": [
      "RDKit Fingerprint: \n",
      " [1, 1, 1, 1, 1, 1, 1, 1, 1, 1, 1, 1, 1, 1, 1, 1, 1, 1, 1, 1, 1, 1, 1, 1, 1, 1, 1, 1, 1, 1, 1, 1, 1, 1, 1, 1, 1, 1, 1, 1, 1, 1, 1, 1, 1, 1, 1, 1, 1, 1, 1, 1, 1, 1, 1, 1, 1, 1, 1, 1, 1, 1, 1, 1, 1, 1, 1, 1, 1, 1, 1, 1, 1, 1, 1, 1, 1, 1, 1, 1, 1, 1, 1, 1, 1, 1, 1, 1, 1, 1, 1, 1, 1, 1, 1, 1, 1, 1, 1, 1, 1, 1, 1, 1, 1, 1, 1, 1, 1, 1, 1, 1, 1, 1, 1, 1, 1, 1, 1, 1, 1, 1, 1, 1, 1, 1, 1, 1] \n",
      "\n",
      "MACCS Keys Fingerprint: \n",
      " [0, 0, 0, 0, 0, 0, 0, 0, 1, 0, 0, 1, 0, 0, 0, 0, 0, 0, 0, 1, 0, 0, 0, 0, 0, 0, 0, 0, 0, 0, 0, 0, 0, 0, 0, 0, 1, 0, 0, 0, 0, 0, 0, 0, 0, 0, 0, 1, 0, 0, 0, 0, 0, 0, 0, 0, 0, 0, 0, 0, 0, 0, 0, 0, 0, 0, 1, 0, 0, 0, 0, 0, 0, 0, 1, 0, 0, 0, 0, 1, 0, 1, 0, 1, 0, 1, 0, 0, 1, 0, 0, 0, 1, 0, 0, 1, 1, 1, 0, 0, 0, 0, 0, 0, 1, 1, 0, 0, 0, 0, 1, 1, 1, 0, 0, 0, 0, 1, 0, 0, 1, 1, 1, 1, 0, 0, 0, 1, 0, 0, 0, 1, 1, 1, 0, 0, 1, 1, 0, 1, 1, 0, 1, 1, 0, 0, 1, 0, 1, 1, 1, 1, 0, 0, 1, 1, 1, 1, 1, 1, 1, 1, 1, 1, 1, 1, 0] \n",
      "\n",
      "Morgan Fingerprint: \n",
      " [1, 0, 1, 1, 0, 1, 0, 0, 0, 0, 1, 0, 0, 0, 0, 0, 0, 1, 1, 0, 0, 0, 0, 1, 0, 0, 0, 0, 0, 0, 1, 0, 0, 1, 0, 1, 1, 0, 0, 1, 0, 1, 1, 0, 0, 0, 0, 1, 0, 0, 0, 0, 0, 1, 0, 0, 0, 1, 1, 0, 0, 1, 0, 0, 1, 0, 0, 0, 0, 1, 0, 0, 0, 0, 0, 0, 0, 0, 0, 0, 1, 1, 0, 0, 0, 0, 1, 0, 0, 0, 1, 0, 0, 0, 0, 0, 0, 0, 0, 1, 1, 0, 0, 0, 0, 1, 1, 0, 0, 0, 0, 0, 0, 1, 0, 0, 0, 0, 0, 0, 0, 0, 1, 1, 0, 1, 1, 1] \n",
      "\n"
     ]
    }
   ],
   "source": [
    "# RDKit Fingerprint\n",
    "rdkit_fp = Chem.RDKFingerprint(molecule, fpSize=128)\n",
    "print(\"RDKit Fingerprint:\", '\\n', list(rdkit_fp), '\\n')\n",
    "\n",
    "# MACCS Keys Fingerprint (167개로 고정된 차원, 비트 0은 항상 설정되지 않으며, 비트 1~166에만 설정됨)\n",
    "maccs_fp = MACCSkeys.GenMACCSKeys(molecule)\n",
    "print(\"MACCS Keys Fingerprint:\", '\\n', list(maccs_fp), '\\n')\n",
    "\n",
    "# Morgan Fingerprint (radius=2)\n",
    "morgan_fp = AllChem.GetMorganFingerprintAsBitVect(molecule, radius=2, nBits=128)\n",
    "print(\"Morgan Fingerprint:\", '\\n', list(morgan_fp), '\\n')"
   ]
  },
  {
   "cell_type": "markdown",
   "metadata": {},
   "source": [
    "Morgan Fingerprint를 예시로 들어, 1로 표시된 부분이 어떤 구조를 나타내는지 시각화를 통해 확인할 수 있다."
   ]
  },
  {
   "cell_type": "code",
   "execution_count": 35,
   "metadata": {
    "ExecuteTime": {
     "end_time": "2024-11-29T08:24:01.063664Z",
     "start_time": "2024-11-29T08:24:01.055799Z"
    }
   },
   "outputs": [],
   "source": [
    "drawOptions = Draw.rdMolDraw2D.MolDrawOptions()\n",
    "drawOptions.prepareMolsBeforeDrawing = False\n",
    "\n",
    "# to obtain smi\n",
    "def getsmi(mol, bit, bit_info):\n",
    "    if not bit in bit_info.keys():\n",
    "        return None\n",
    "\n",
    "    atomidx, radius = bit_info[bit][0]\n",
    "    env = Chem.FindAtomEnvironmentOfRadiusN(mol, radius, atomidx)\n",
    "\n",
    "    atomsToUse = set((atomidx, ))\n",
    "    for b in env:\n",
    "        atomsToUse.add(mol.GetBondWithIdx(b).GetBeginAtomIdx())\n",
    "        atomsToUse.add(mol.GetBondWithIdx(b).GetEndAtomIdx())\n",
    "\n",
    "    enlargedEnv = set()\n",
    "    for atom in atomsToUse:\n",
    "        a = mol.GetAtomWithIdx(atom)\n",
    "        for b in a.GetBonds():\n",
    "          bidx = b.GetIdx()\n",
    "          if bidx not in env:\n",
    "            enlargedEnv.add(bidx)\n",
    "\n",
    "    enlargedEnv = list(enlargedEnv)\n",
    "    enlargedEnv += env\n",
    "\n",
    "    # find all relevant neighbors\n",
    "    anyAtoms = []\n",
    "    for a in atomsToUse:\n",
    "        neighbors = mol.GetAtomWithIdx(a).GetNeighbors()\n",
    "        for n in neighbors:\n",
    "            anyIdx = n.GetIdx()\n",
    "            if anyIdx not in atomsToUse:\n",
    "                anyAtoms.append(anyIdx)\n",
    "\n",
    "    # replace atomic number to zero (there is no number for any atom)\n",
    "    for aA in anyAtoms:\n",
    "        mol.GetAtomWithIdx(aA).SetAtomicNum(0)\n",
    "\n",
    "    submol = Chem.PathToSubmol(mol, enlargedEnv)\n",
    "\n",
    "    # change [0] to *\n",
    "    MorganBitSmiles = Chem.MolToSmiles(submol)\n",
    "    MorganBitSmarts = Chem.MolToSmarts(submol).replace('[#0]', '*')\n",
    "    return MorganBitSmiles, MorganBitSmarts\n",
    "\n",
    "\n",
    "\n",
    "def visualize_bits(mol):\n",
    "    bi = {}\n",
    "    fp = rdMolDescriptors.GetMorganFingerprintAsBitVect(mol, radius=2, nBits=256, bitInfo=bi)\n",
    "    tpls = [(mol, x, bi) for x in fp.GetOnBits()]\n",
    "    img = Draw.DrawMorganBits(tpls, molsPerRow=10, legends=[str(x) for x in fp.GetOnBits()], drawOptions=drawOptions)\n",
    "    plt.figure(figsize=(10, 10))\n",
    "    plt.title(\"Morgan Fingerprint Visualization\")\n",
    "    plt.imshow(img)\n",
    "    plt.axis('off')\n",
    "    plt.show()"
   ]
  },
  {
   "cell_type": "code",
   "execution_count": 36,
   "metadata": {
    "ExecuteTime": {
     "end_time": "2024-11-29T08:24:01.680858Z",
     "start_time": "2024-11-29T08:24:01.535226Z"
    }
   },
   "outputs": [
    {
     "data": {
      "image/png": "[encoded data removed]",
      "text/plain": [
       "<Figure size 1000x1000 with 1 Axes>"
      ]
     },
     "metadata": {},
     "output_type": "display_data"
    }
   ],
   "source": [
    "visualize_bits(molecule)"
   ]
  },
  {
   "cell_type": "markdown",
   "metadata": {},
   "source": [
    "### c) 물리화학적 특성 기반 접근: Descriptor\n",
    "Descriptor는 분자의 화학적, 물리적, 또는 생물학적 특성을 수치화한 __정량적 표현__ 값이다.\n",
    "\n",
    "즉, 분자 구조와 관련된 정보를 수학적으로 변환하는 것이다.\n",
    "\n",
    "간단한 예시로, 분자량 (Weight)는 분자를 구성하는 원자들의 무게 합을 의미한다.\n",
    "\n",
    "LogP는 분자의 친수성/소수성 지표를 나타내는 값으로 용해도와 직접적으로 관련있는 수치이다.\n",
    "\n",
    "Hydrogen Bond Donor/Acceptor는 분자가 수소 결합을 할 때, 어떤 원소가 전자를 주는/받는 입장인지 구분하고 그 개수를 계산한 것이다.\n",
    "\n",
    "분자의 Descriptor는 매우 다양하며, RDKit 라이브러리를 사용하면 최대 210가지 정보를 계산할 수 있다.\n",
    "\n",
    "> **Tip**: Descriptor를 머신러닝 모델에 학습시키기 위해서는 서로 다른 단위를 가진 Descriptor들의 **스케일을 조정**해야 한다는 점을 기억하자!"
   ]
  },
  {
   "cell_type": "code",
   "execution_count": 37,
   "metadata": {
    "ExecuteTime": {
     "end_time": "2024-11-29T08:24:02.227614Z",
     "start_time": "2024-11-29T08:24:02.222536Z"
    }
   },
   "outputs": [
    {
     "name": "stdout",
     "output_type": "stream",
     "text": [
      "Molecular Descriptors:\n",
      "Molecular Weight: 334.39700000000005\n",
      "LogP: 0.8607999999999993\n",
      "Number of Hydrogen Bond Donors: 2\n",
      "Number of Hydrogen Bond Acceptors: 4\n"
     ]
    }
   ],
   "source": [
    "descriptors = {\n",
    "    \"Molecular Weight\": Descriptors.MolWt(molecule),\n",
    "    \"LogP\": Descriptors.MolLogP(molecule),\n",
    "    \"Number of Hydrogen Bond Donors\": Descriptors.NumHDonors(molecule),\n",
    "    \"Number of Hydrogen Bond Acceptors\": Descriptors.NumHAcceptors(molecule),\n",
    "}\n",
    "print(\"Molecular Descriptors:\")\n",
    "for key, value in descriptors.items():\n",
    "    print(f\"{key}: {value}\")"
   ]
  },
  {
   "cell_type": "code",
   "execution_count": 38,
   "metadata": {
    "ExecuteTime": {
     "end_time": "2024-11-29T08:24:02.559869Z",
     "start_time": "2024-11-29T08:24:02.544365Z"
    }
   },
   "outputs": [
    {
     "name": "stdout",
     "output_type": "stream",
     "text": [
      "전체 Descriptors (210가지) :\n"
     ]
    },
    {
     "data": {
      "text/plain": [
       "{'MaxAbsEStateIndex': 12.268318846056943,\n",
       " 'MaxEStateIndex': 12.268318846056943,\n",
       " 'MinAbsEStateIndex': 0.20214151864449437,\n",
       " 'MinEStateIndex': -1.007025845576982,\n",
       " 'qed': 0.7977632704521286,\n",
       " 'SPS': 28.0,\n",
       " 'MolWt': 334.39700000000005,\n",
       " 'HeavyAtomMolWt': 316.25300000000004,\n",
       " 'ExactMolWt': 334.09872805599997,\n",
       " 'NumValenceElectrons': 122,\n",
       " 'NumRadicalElectrons': 0,\n",
       " 'MaxPartialCharge': 0.3273993847026587,\n",
       " 'MinPartialCharge': -0.4796728023655438,\n",
       " 'MaxAbsPartialCharge': 0.4796728023655438,\n",
       " 'MinAbsPartialCharge': 0.3273993847026587,\n",
       " 'FpDensityMorgan1': 1.3043478260869565,\n",
       " 'FpDensityMorgan2': 1.9565217391304348,\n",
       " 'FpDensityMorgan3': 2.5652173913043477,\n",
       " 'BCUT2D_MWHI': 32.16690614916108,\n",
       " 'BCUT2D_MWLOW': 9.956816977411961,\n",
       " 'BCUT2D_CHGHI': 2.6362075433409933,\n",
       " 'BCUT2D_CHGLO': -2.4313369018698783,\n",
       " 'BCUT2D_LOGPHI': 2.5022450893783947,\n",
       " 'BCUT2D_LOGPLOW': -2.7029184926640752,\n",
       " 'BCUT2D_MRHI': 8.013146257169787,\n",
       " 'BCUT2D_MRLOW': -0.16058803827234566,\n",
       " 'AvgIpc': 2.741987834077,\n",
       " 'BalabanJ': 1.66490359617118,\n",
       " 'BertzCT': 661.3038986246087,\n",
       " 'Chi0': 16.775656403009393,\n",
       " 'Chi0n': 12.853329287558925,\n",
       " 'Chi0v': 13.669825868486651,\n",
       " 'Chi1': 10.809367635193633,\n",
       " 'Chi1n': 7.371634471739615,\n",
       " 'Chi1v': 8.25128728299451,\n",
       " 'Chi2n': 6.305705976733618,\n",
       " 'Chi2v': 8.07659111610618,\n",
       " 'Chi3n': 4.198926417267648,\n",
       " 'Chi3v': 5.770457012115133,\n",
       " 'Chi4n': 3.1511383951469214,\n",
       " 'Chi4v': 4.77653498475625,\n",
       " 'HallKierAlpha': -2.0199999999999996,\n",
       " 'Ipc': 129114.72313101777,\n",
       " 'Kappa1': 15.859752401338886,\n",
       " 'Kappa2': 5.559882097428593,\n",
       " 'Kappa3': 2.6923858356032686,\n",
       " 'LabuteASA': 137.78076788790858,\n",
       " 'PEOE_VSA1': 15.323225729697514,\n",
       " 'PEOE_VSA10': 17.45755447126466,\n",
       " 'PEOE_VSA11': 0.0,\n",
       " 'PEOE_VSA12': 11.814359458703011,\n",
       " 'PEOE_VSA13': 0.0,\n",
       " 'PEOE_VSA14': 5.969305287951849,\n",
       " 'PEOE_VSA2': 9.589074368143644,\n",
       " 'PEOE_VSA3': 4.794537184071822,\n",
       " 'PEOE_VSA4': 0.0,\n",
       " 'PEOE_VSA5': 11.761884949391115,\n",
       " 'PEOE_VSA6': 30.33183534230805,\n",
       " 'PEOE_VSA7': 19.410925891078243,\n",
       " 'PEOE_VSA8': 4.747022453217559,\n",
       " 'PEOE_VSA9': 6.4208216229260096,\n",
       " 'SMR_VSA1': 19.490138947056174,\n",
       " 'SMR_VSA10': 29.545549696045974,\n",
       " 'SMR_VSA2': 0.0,\n",
       " 'SMR_VSA3': 10.216698334856808,\n",
       " 'SMR_VSA4': 0.0,\n",
       " 'SMR_VSA5': 42.47287294678948,\n",
       " 'SMR_VSA6': 0.0,\n",
       " 'SMR_VSA7': 35.89528683400505,\n",
       " 'SMR_VSA8': 0.0,\n",
       " 'SMR_VSA9': 0.0,\n",
       " 'SlogP_VSA1': 5.316788604006331,\n",
       " 'SlogP_VSA10': 0.0,\n",
       " 'SlogP_VSA11': 0.0,\n",
       " 'SlogP_VSA12': 11.761884949391115,\n",
       " 'SlogP_VSA2': 49.99467879682826,\n",
       " 'SlogP_VSA3': 20.804433175141476,\n",
       " 'SlogP_VSA4': 0.0,\n",
       " 'SlogP_VSA5': 19.410925891078243,\n",
       " 'SlogP_VSA6': 30.33183534230805,\n",
       " 'SlogP_VSA7': 0.0,\n",
       " 'SlogP_VSA8': 0.0,\n",
       " 'SlogP_VSA9': 0.0,\n",
       " 'TPSA': 86.71000000000001,\n",
       " 'EState_VSA1': 22.80000939946533,\n",
       " 'EState_VSA10': 19.490138947056174,\n",
       " 'EState_VSA11': 0.0,\n",
       " 'EState_VSA2': 23.60905389459776,\n",
       " 'EState_VSA3': 0.0,\n",
       " 'EState_VSA4': 5.563451491696996,\n",
       " 'EState_VSA5': 16.66179468024159,\n",
       " 'EState_VSA6': 0.0,\n",
       " 'EState_VSA7': 44.179309741689295,\n",
       " 'EState_VSA8': 5.316788604006331,\n",
       " 'EState_VSA9': 0.0,\n",
       " 'VSA_EState1': -0.5783058915140895,\n",
       " 'VSA_EState10': 1.4237074305030653,\n",
       " 'VSA_EState2': 37.19097428557031,\n",
       " 'VSA_EState3': 11.789438746504459,\n",
       " 'VSA_EState4': 0.8717091967960026,\n",
       " 'VSA_EState5': -1.5549260303422459,\n",
       " 'VSA_EState6': 7.784420219356602,\n",
       " 'VSA_EState7': 0.20214151864449437,\n",
       " 'VSA_EState8': 3.6208405244813977,\n",
       " 'VSA_EState9': 0.0,\n",
       " 'FractionCSP3': 0.4375,\n",
       " 'HeavyAtomCount': 23,\n",
       " 'NHOHCount': 2,\n",
       " 'NOCount': 6,\n",
       " 'NumAliphaticCarbocycles': 0,\n",
       " 'NumAliphaticHeterocycles': 2,\n",
       " 'NumAliphaticRings': 2,\n",
       " 'NumAromaticCarbocycles': 1,\n",
       " 'NumAromaticHeterocycles': 0,\n",
       " 'NumAromaticRings': 1,\n",
       " 'NumHAcceptors': 4,\n",
       " 'NumHDonors': 2,\n",
       " 'NumHeteroatoms': 7,\n",
       " 'NumRotatableBonds': 4,\n",
       " 'NumSaturatedCarbocycles': 0,\n",
       " 'NumSaturatedHeterocycles': 2,\n",
       " 'NumSaturatedRings': 2,\n",
       " 'RingCount': 3,\n",
       " 'MolLogP': 0.8607999999999993,\n",
       " 'MolMR': 85.80450000000003,\n",
       " 'fr_Al_COO': 1,\n",
       " 'fr_Al_OH': 0,\n",
       " 'fr_Al_OH_noTert': 0,\n",
       " 'fr_ArN': 0,\n",
       " 'fr_Ar_COO': 0,\n",
       " 'fr_Ar_N': 0,\n",
       " 'fr_Ar_NH': 0,\n",
       " 'fr_Ar_OH': 0,\n",
       " 'fr_COO': 1,\n",
       " 'fr_COO2': 1,\n",
       " 'fr_C_O': 3,\n",
       " 'fr_C_O_noCOO': 2,\n",
       " 'fr_C_S': 0,\n",
       " 'fr_HOCCN': 0,\n",
       " 'fr_Imine': 0,\n",
       " 'fr_NH0': 1,\n",
       " 'fr_NH1': 1,\n",
       " 'fr_NH2': 0,\n",
       " 'fr_N_O': 0,\n",
       " 'fr_Ndealkylation1': 0,\n",
       " 'fr_Ndealkylation2': 0,\n",
       " 'fr_Nhpyrrole': 0,\n",
       " 'fr_SH': 0,\n",
       " 'fr_aldehyde': 0,\n",
       " 'fr_alkyl_carbamate': 0,\n",
       " 'fr_alkyl_halide': 0,\n",
       " 'fr_allylic_oxid': 0,\n",
       " 'fr_amide': 2,\n",
       " 'fr_amidine': 0,\n",
       " 'fr_aniline': 0,\n",
       " 'fr_aryl_methyl': 0,\n",
       " 'fr_azide': 0,\n",
       " 'fr_azo': 0,\n",
       " 'fr_barbitur': 0,\n",
       " 'fr_benzene': 1,\n",
       " 'fr_benzodiazepine': 0,\n",
       " 'fr_bicyclic': 1,\n",
       " 'fr_diazo': 0,\n",
       " 'fr_dihydropyridine': 0,\n",
       " 'fr_epoxide': 0,\n",
       " 'fr_ester': 0,\n",
       " 'fr_ether': 0,\n",
       " 'fr_furan': 0,\n",
       " 'fr_guanido': 0,\n",
       " 'fr_halogen': 0,\n",
       " 'fr_hdrzine': 0,\n",
       " 'fr_hdrzone': 0,\n",
       " 'fr_imidazole': 0,\n",
       " 'fr_imide': 0,\n",
       " 'fr_isocyan': 0,\n",
       " 'fr_isothiocyan': 0,\n",
       " 'fr_ketone': 0,\n",
       " 'fr_ketone_Topliss': 0,\n",
       " 'fr_lactam': 1,\n",
       " 'fr_lactone': 0,\n",
       " 'fr_methoxy': 0,\n",
       " 'fr_morpholine': 0,\n",
       " 'fr_nitrile': 0,\n",
       " 'fr_nitro': 0,\n",
       " 'fr_nitro_arom': 0,\n",
       " 'fr_nitro_arom_nonortho': 0,\n",
       " 'fr_nitroso': 0,\n",
       " 'fr_oxazole': 0,\n",
       " 'fr_oxime': 0,\n",
       " 'fr_para_hydroxylation': 0,\n",
       " 'fr_phenol': 0,\n",
       " 'fr_phenol_noOrthoHbond': 0,\n",
       " 'fr_phos_acid': 0,\n",
       " 'fr_phos_ester': 0,\n",
       " 'fr_piperdine': 0,\n",
       " 'fr_piperzine': 0,\n",
       " 'fr_priamide': 0,\n",
       " 'fr_prisulfonamd': 0,\n",
       " 'fr_pyridine': 0,\n",
       " 'fr_quatN': 0,\n",
       " 'fr_sulfide': 1,\n",
       " 'fr_sulfonamd': 0,\n",
       " 'fr_sulfone': 0,\n",
       " 'fr_term_acetylene': 0,\n",
       " 'fr_tetrazole': 0,\n",
       " 'fr_thiazole': 0,\n",
       " 'fr_thiocyan': 0,\n",
       " 'fr_thiophene': 0,\n",
       " 'fr_unbrch_alkane': 0,\n",
       " 'fr_urea': 0}"
      ]
     },
     "execution_count": 38,
     "metadata": {},
     "output_type": "execute_result"
    }
   ],
   "source": [
    "print('전체 Descriptors (210가지) :')\n",
    "Descriptors.CalcMolDescriptors(molecule)"
   ]
  },
  {
   "cell_type": "markdown",
   "metadata": {},
   "source": [
    "### d) 이미지 기반 접근: 2D, 3D 이미지\n",
    "분자 구조를 이미지 형식으로 변환하여 딥러닝 모델을 학습시키는 경우도 있다.\n",
    "\n",
    "이 접근법은 분자 구조의 시각적 패턴을 학습하여 예측 작업을 수행할 수 있게 한다.\n",
    "\n",
    "특히, CNN(Convolutional Neural Network)과 같은 이미지 처리에 특화된 모델에서 이 방식을 활용한다.\n",
    "\n",
    "> **Tip**: 주의할 점으로 분자는 고정된 자세가 없으며, 3차원 형태도 있다는 것이다!"
   ]
  },
  {
   "cell_type": "markdown",
   "metadata": {},
   "source": [
    "< 2D 이미지 >"
   ]
  },
  {
   "cell_type": "code",
   "execution_count": 39,
   "metadata": {
    "ExecuteTime": {
     "end_time": "2024-11-29T08:24:03.707519Z",
     "start_time": "2024-11-29T08:24:03.680607Z"
    }
   },
   "outputs": [
    {
     "data": {
      "image/png": "[encoded data removed]",
      "text/plain": [
       "<Figure size 640x480 with 1 Axes>"
      ]
     },
     "metadata": {},
     "output_type": "display_data"
    }
   ],
   "source": [
    "img = Draw.MolToImage(molecule)\n",
    "plt.imshow(img)\n",
    "plt.axis(\"off\")\n",
    "plt.show()"
   ]
  },
  {
   "cell_type": "code",
   "execution_count": 40,
   "metadata": {
    "ExecuteTime": {
     "end_time": "2024-11-29T08:24:04.034752Z",
     "start_time": "2024-11-29T08:24:04.029265Z"
    }
   },
   "outputs": [
    {
     "name": "stdout",
     "output_type": "stream",
     "text": [
      "2D image saved as 'molecule_2D.png\n"
     ]
    }
   ],
   "source": [
    "img.save(\"molecule_2D.png\")\n",
    "print(\"2D image saved as 'molecule_2D.png\")"
   ]
  },
  {
   "cell_type": "markdown",
   "metadata": {},
   "source": [
    "< 3D 이미지 >\n",
    "\n",
    "Jupyter Notebook에서 molecule_3d 변수를 입력하면 3차원 그림이 자동으로 표시된다. \n",
    "\n",
    "이는 Notebook 환경에서 특정 라이브러리가 활성화되어 있기 때문이다. \n",
    "\n",
    "그렇기에, 3차원 분자 이미지를 파일로 저장하려면 별도의 작업 과정이 필요하다.\n",
    "\n",
    "> **Tip**: 3차원 분자를 표현하기 위해서는 암묵적으로 표시하지 않았던 수소 원자들을 모두 명시적으로 활성화 시킨 후 작업을 진행해야 하기에\n",
    "  2차원 분자에서 보이지 않았던 수소 원자들이 표시될 수 있다. (흰색-수소, 회색-탄소, 붉은색-산소, 파란색-질소, 노란색-황)"
   ]
  },
  {
   "cell_type": "code",
   "execution_count": 41,
   "metadata": {
    "ExecuteTime": {
     "end_time": "2024-11-29T08:24:04.674703Z",
     "start_time": "2024-11-29T08:24:04.633696Z"
    }
   },
   "outputs": [
    {
     "name": "stdout",
     "output_type": "stream",
     "text": [
      "origin atom: [(0, 'C'), (1, 'C'), (2, 'C'), (3, 'N'), (4, 'C'), (5, 'S'), (6, 'C'), (7, 'C'), (8, 'O'), (9, 'N'), (10, 'C'), (11, 'O'), (12, 'C'), (13, 'C'), (14, 'C'), (15, 'C'), (16, 'C'), (17, 'C'), (18, 'C'), (19, 'C'), (20, 'O'), (21, 'O'), (22, 'C')]\n",
      "\n"
     ]
    },
    {
     "data": {
      "application/3dmoljs_load.v0": "<div id=\"3dmolviewer_1736336983234866\"  style=\"position: relative; width: 400px; height: 400px;\">\n        <p id=\"3dmolwarning_1736336983234866\" style=\"background-color:#ffcccc;color:black\">3Dmol.js failed to load for some reason.  Please check your browser console for error messages.<br></p>\n        </div>\n<script>\n\nvar loadScriptAsync = function(uri){\n  return new Promise((resolve, reject) => {\n    //this is to ignore the existence of requirejs amd\n    var savedexports, savedmodule;\n    if (typeof exports !== 'undefined') savedexports = exports;\n    else exports = {}\n    if (typeof module !== 'undefined') savedmodule = module;\n    else module = {}\n\n    var tag = document.createElement('script');\n    tag.src = uri;\n    tag.async = true;\n    tag.onload = () => {\n        exports = savedexports;\n        module = savedmodule;\n        resolve();\n    };\n  var firstScriptTag = document.getElementsByTagName('script')[0];\n  firstScriptTag.parentNode.insertBefore(tag, firstScriptTag);\n});\n};\n\nif(typeof $3Dmolpromise === 'undefined') {\n$3Dmolpromise = null;\n  $3Dmolpromise = loadScriptAsync('https://cdnjs.cloudflare.com/ajax/libs/3Dmol/2.4.2/3Dmol-min.js');\n}\n\nvar viewer_1736336983234866 = null;\nvar warn = document.getElementById(\"3dmolwarning_1736336983234866\");\nif(warn) {\n    warn.parentNode.removeChild(warn);\n}\n$3Dmolpromise.then(function() {\nviewer_1736336983234866 = $3Dmol.createViewer(document.getElementById(\"3dmolviewer_1736336983234866\"),{backgroundColor:\"white\"});\nviewer_1736336983234866.zoomTo();\n\tviewer_1736336983234866.removeAllModels();\n\tviewer_1736336983234866.addModel(\"\\n     RDKit          3D\\n\\n 41 43  0  0  0  0  0  0  0  0999 V2000\\n    4.5845    0.4937   -1.1057 C   0  0  0  0  0  0  0  0  0  0  0  0\\n    3.3166    0.5016   -0.3267 C   0  0  0  0  0  0  0  0  0  0  0  0\\n    3.2979   -0.2656    0.9453 C   0  0  1  0  0  0  0  0  0  0  0  0\\n    1.9409   -0.8003    1.1002 N   0  0  0  0  0  0  0  0  0  0  0  0\\n    1.6014   -1.6272   -0.0421 C   0  0  2  0  0  0  0  0  0  0  0  0\\n    2.0676   -0.3983   -1.3323 S   0  0  0  0  0  0  0  0  0  0  0  0\\n    0.1703   -1.6590    0.3295 C   0  0  1  0  0  0  0  0  0  0  0  0\\n    0.6482   -1.0845    1.6248 C   0  0  0  0  0  0  0  0  0  0  0  0\\n    0.0898   -0.9279    2.7427 O   0  0  0  0  0  0  0  0  0  0  0  0\\n   -0.7388   -0.8636   -0.4315 N   0  0  0  0  0  0  0  0  0  0  0  0\\n   -2.1019   -1.2349   -0.6491 C   0  0  0  0  0  0  0  0  0  0  0  0\\n   -2.5609   -2.2807   -0.1644 O   0  0  0  0  0  0  0  0  0  0  0  0\\n   -2.9071   -0.2913   -1.4793 C   0  0  0  0  0  0  0  0  0  0  0  0\\n   -3.8536    0.4190   -0.5840 C   0  0  0  0  0  0  0  0  0  0  0  0\\n   -5.1197   -0.0214   -0.2898 C   0  0  0  0  0  0  0  0  0  0  0  0\\n   -5.9066    0.7451    0.5577 C   0  0  0  0  0  0  0  0  0  0  0  0\\n   -5.4845    1.9256    1.1196 C   0  0  0  0  0  0  0  0  0  0  0  0\\n   -4.2075    2.3599    0.8167 C   0  0  0  0  0  0  0  0  0  0  0  0\\n   -3.3859    1.6071   -0.0376 C   0  0  0  0  0  0  0  0  0  0  0  0\\n    4.2389   -1.3725    1.0789 C   0  0  0  0  0  0  0  0  0  0  0  0\\n    5.5044   -1.2691    0.9866 O   0  0  0  0  0  0  0  0  0  0  0  0\\n    3.8172   -2.7024    1.3343 O   0  0  0  0  0  0  0  0  0  0  0  0\\n    2.8799    1.9458   -0.1380 C   0  0  0  0  0  0  0  0  0  0  0  0\\n    5.5183    0.4502   -0.5212 H   0  0  0  0  0  0  0  0  0  0  0  0\\n    4.6492    1.4743   -1.6769 H   0  0  0  0  0  0  0  0  0  0  0  0\\n    4.5810   -0.2668   -1.9452 H   0  0  0  0  0  0  0  0  0  0  0  0\\n    3.4808    0.4173    1.8146 H   0  0  0  0  0  0  0  0  0  0  0  0\\n    2.1152   -2.5865   -0.1590 H   0  0  0  0  0  0  0  0  0  0  0  0\\n   -0.1692   -2.7052    0.5658 H   0  0  0  0  0  0  0  0  0  0  0  0\\n   -0.3652    0.0321   -0.8412 H   0  0  0  0  0  0  0  0  0  0  0  0\\n   -3.5678   -0.9648   -2.1088 H   0  0  0  0  0  0  0  0  0  0  0  0\\n   -2.3110    0.3538   -2.1267 H   0  0  0  0  0  0  0  0  0  0  0  0\\n   -5.4860   -0.9430   -0.7131 H   0  0  0  0  0  0  0  0  0  0  0  0\\n   -6.9063    0.3695    0.7733 H   0  0  0  0  0  0  0  0  0  0  0  0\\n   -6.1199    2.5243    1.7856 H   0  0  0  0  0  0  0  0  0  0  0  0\\n   -3.7809    3.2642    1.2019 H   0  0  0  0  0  0  0  0  0  0  0  0\\n   -2.3978    1.9637   -0.2557 H   0  0  0  0  0  0  0  0  0  0  0  0\\n    4.4177   -3.4749    1.0153 H   0  0  0  0  0  0  0  0  0  0  0  0\\n    1.8722    2.0419    0.3074 H   0  0  0  0  0  0  0  0  0  0  0  0\\n    2.9870    2.4450   -1.1209 H   0  0  0  0  0  0  0  0  0  0  0  0\\n    3.5914    2.4058    0.5629 H   0  0  0  0  0  0  0  0  0  0  0  0\\n  1  2  1  0\\n  2  3  1  0\\n  3  4  1  0\\n  4  5  1  0\\n  5  6  1  0\\n  5  7  1  0\\n  7  8  1  0\\n  8  9  2  0\\n  7 10  1  0\\n 10 11  1  0\\n 11 12  2  0\\n 11 13  1  0\\n 13 14  1  0\\n 14 15  2  0\\n 15 16  1  0\\n 16 17  2  0\\n 17 18  1  0\\n 18 19  2  0\\n  3 20  1  0\\n 20 21  2  0\\n 20 22  1  0\\n  2 23  1  0\\n  6  2  1  0\\n  8  4  1  0\\n 19 14  1  0\\n  1 24  1  0\\n  1 25  1  0\\n  1 26  1  0\\n  3 27  1  1\\n  5 28  1  6\\n  7 29  1  1\\n 10 30  1  0\\n 13 31  1  0\\n 13 32  1  0\\n 15 33  1  0\\n 16 34  1  0\\n 17 35  1  0\\n 18 36  1  0\\n 19 37  1  0\\n 22 38  1  0\\n 23 39  1  0\\n 23 40  1  0\\n 23 41  1  0\\nM  END\\n\",\"sdf\");\n\tviewer_1736336983234866.setStyle({\"stick\": {}});\n\tviewer_1736336983234866.setBackgroundColor(\"0xeeeeee\");\n\tviewer_1736336983234866.zoomTo();\nviewer_1736336983234866.render();\n});\n</script>",
      "text/html": [
       "<div id=\"3dmolviewer_1736336983234866\"  style=\"position: relative; width: 400px; height: 400px;\">\n",
       "        <p id=\"3dmolwarning_1736336983234866\" style=\"background-color:#ffcccc;color:black\">3Dmol.js failed to load for some reason.  Please check your browser console for error messages.<br></p>\n",
       "        </div>\n",
       "<script>\n",
       "\n",
       "var loadScriptAsync = function(uri){\n",
       "  return new Promise((resolve, reject) => {\n",
       "    //this is to ignore the existence of requirejs amd\n",
       "    var savedexports, savedmodule;\n",
       "    if (typeof exports !== 'undefined') savedexports = exports;\n",
       "    else exports = {}\n",
       "    if (typeof module !== 'undefined') savedmodule = module;\n",
       "    else module = {}\n",
       "\n",
       "    var tag = document.createElement('script');\n",
       "    tag.src = uri;\n",
       "    tag.async = true;\n",
       "    tag.onload = () => {\n",
       "        exports = savedexports;\n",
       "        module = savedmodule;\n",
       "        resolve();\n",
       "    };\n",
       "  var firstScriptTag = document.getElementsByTagName('script')[0];\n",
       "  firstScriptTag.parentNode.insertBefore(tag, firstScriptTag);\n",
       "});\n",
       "};\n",
       "\n",
       "if(typeof $3Dmolpromise === 'undefined') {\n",
       "$3Dmolpromise = null;\n",
       "  $3Dmolpromise = loadScriptAsync('https://cdnjs.cloudflare.com/ajax/libs/3Dmol/2.4.2/3Dmol-min.js');\n",
       "}\n",
       "\n",
       "var viewer_1736336983234866 = null;\n",
       "var warn = document.getElementById(\"3dmolwarning_1736336983234866\");\n",
       "if(warn) {\n",
       "    warn.parentNode.removeChild(warn);\n",
       "}\n",
       "$3Dmolpromise.then(function() {\n",
       "viewer_1736336983234866 = $3Dmol.createViewer(document.getElementById(\"3dmolviewer_1736336983234866\"),{backgroundColor:\"white\"});\n",
       "viewer_1736336983234866.zoomTo();\n",
       "\tviewer_1736336983234866.removeAllModels();\n",
       "\tviewer_1736336983234866.addModel(\"\\n     RDKit          3D\\n\\n 41 43  0  0  0  0  0  0  0  0999 V2000\\n    4.5845    0.4937   -1.1057 C   0  0  0  0  0  0  0  0  0  0  0  0\\n    3.3166    0.5016   -0.3267 C   0  0  0  0  0  0  0  0  0  0  0  0\\n    3.2979   -0.2656    0.9453 C   0  0  1  0  0  0  0  0  0  0  0  0\\n    1.9409   -0.8003    1.1002 N   0  0  0  0  0  0  0  0  0  0  0  0\\n    1.6014   -1.6272   -0.0421 C   0  0  2  0  0  0  0  0  0  0  0  0\\n    2.0676   -0.3983   -1.3323 S   0  0  0  0  0  0  0  0  0  0  0  0\\n    0.1703   -1.6590    0.3295 C   0  0  1  0  0  0  0  0  0  0  0  0\\n    0.6482   -1.0845    1.6248 C   0  0  0  0  0  0  0  0  0  0  0  0\\n    0.0898   -0.9279    2.7427 O   0  0  0  0  0  0  0  0  0  0  0  0\\n   -0.7388   -0.8636   -0.4315 N   0  0  0  0  0  0  0  0  0  0  0  0\\n   -2.1019   -1.2349   -0.6491 C   0  0  0  0  0  0  0  0  0  0  0  0\\n   -2.5609   -2.2807   -0.1644 O   0  0  0  0  0  0  0  0  0  0  0  0\\n   -2.9071   -0.2913   -1.4793 C   0  0  0  0  0  0  0  0  0  0  0  0\\n   -3.8536    0.4190   -0.5840 C   0  0  0  0  0  0  0  0  0  0  0  0\\n   -5.1197   -0.0214   -0.2898 C   0  0  0  0  0  0  0  0  0  0  0  0\\n   -5.9066    0.7451    0.5577 C   0  0  0  0  0  0  0  0  0  0  0  0\\n   -5.4845    1.9256    1.1196 C   0  0  0  0  0  0  0  0  0  0  0  0\\n   -4.2075    2.3599    0.8167 C   0  0  0  0  0  0  0  0  0  0  0  0\\n   -3.3859    1.6071   -0.0376 C   0  0  0  0  0  0  0  0  0  0  0  0\\n    4.2389   -1.3725    1.0789 C   0  0  0  0  0  0  0  0  0  0  0  0\\n    5.5044   -1.2691    0.9866 O   0  0  0  0  0  0  0  0  0  0  0  0\\n    3.8172   -2.7024    1.3343 O   0  0  0  0  0  0  0  0  0  0  0  0\\n    2.8799    1.9458   -0.1380 C   0  0  0  0  0  0  0  0  0  0  0  0\\n    5.5183    0.4502   -0.5212 H   0  0  0  0  0  0  0  0  0  0  0  0\\n    4.6492    1.4743   -1.6769 H   0  0  0  0  0  0  0  0  0  0  0  0\\n    4.5810   -0.2668   -1.9452 H   0  0  0  0  0  0  0  0  0  0  0  0\\n    3.4808    0.4173    1.8146 H   0  0  0  0  0  0  0  0  0  0  0  0\\n    2.1152   -2.5865   -0.1590 H   0  0  0  0  0  0  0  0  0  0  0  0\\n   -0.1692   -2.7052    0.5658 H   0  0  0  0  0  0  0  0  0  0  0  0\\n   -0.3652    0.0321   -0.8412 H   0  0  0  0  0  0  0  0  0  0  0  0\\n   -3.5678   -0.9648   -2.1088 H   0  0  0  0  0  0  0  0  0  0  0  0\\n   -2.3110    0.3538   -2.1267 H   0  0  0  0  0  0  0  0  0  0  0  0\\n   -5.4860   -0.9430   -0.7131 H   0  0  0  0  0  0  0  0  0  0  0  0\\n   -6.9063    0.3695    0.7733 H   0  0  0  0  0  0  0  0  0  0  0  0\\n   -6.1199    2.5243    1.7856 H   0  0  0  0  0  0  0  0  0  0  0  0\\n   -3.7809    3.2642    1.2019 H   0  0  0  0  0  0  0  0  0  0  0  0\\n   -2.3978    1.9637   -0.2557 H   0  0  0  0  0  0  0  0  0  0  0  0\\n    4.4177   -3.4749    1.0153 H   0  0  0  0  0  0  0  0  0  0  0  0\\n    1.8722    2.0419    0.3074 H   0  0  0  0  0  0  0  0  0  0  0  0\\n    2.9870    2.4450   -1.1209 H   0  0  0  0  0  0  0  0  0  0  0  0\\n    3.5914    2.4058    0.5629 H   0  0  0  0  0  0  0  0  0  0  0  0\\n  1  2  1  0\\n  2  3  1  0\\n  3  4  1  0\\n  4  5  1  0\\n  5  6  1  0\\n  5  7  1  0\\n  7  8  1  0\\n  8  9  2  0\\n  7 10  1  0\\n 10 11  1  0\\n 11 12  2  0\\n 11 13  1  0\\n 13 14  1  0\\n 14 15  2  0\\n 15 16  1  0\\n 16 17  2  0\\n 17 18  1  0\\n 18 19  2  0\\n  3 20  1  0\\n 20 21  2  0\\n 20 22  1  0\\n  2 23  1  0\\n  6  2  1  0\\n  8  4  1  0\\n 19 14  1  0\\n  1 24  1  0\\n  1 25  1  0\\n  1 26  1  0\\n  3 27  1  1\\n  5 28  1  6\\n  7 29  1  1\\n 10 30  1  0\\n 13 31  1  0\\n 13 32  1  0\\n 15 33  1  0\\n 16 34  1  0\\n 17 35  1  0\\n 18 36  1  0\\n 19 37  1  0\\n 22 38  1  0\\n 23 39  1  0\\n 23 40  1  0\\n 23 41  1  0\\nM  END\\n\",\"sdf\");\n",
       "\tviewer_1736336983234866.setStyle({\"stick\": {}});\n",
       "\tviewer_1736336983234866.setBackgroundColor(\"0xeeeeee\");\n",
       "\tviewer_1736336983234866.zoomTo();\n",
       "viewer_1736336983234866.render();\n",
       "});\n",
       "</script>"
      ]
     },
     "metadata": {},
     "output_type": "display_data"
    },
    {
     "data": {
      "image/png": "[encoded data removed]",
      "text/html": [],
      "text/plain": [
       "<rdkit.Chem.rdchem.Mol at 0x169e85af140>"
      ]
     },
     "execution_count": 41,
     "metadata": {},
     "output_type": "execute_result"
    }
   ],
   "source": [
    "def molecule_to_3d(molecule):\n",
    "    mol = Chem.MolFromSmiles(molecule)\n",
    "    atom_info = [(atom.GetIdx(), atom.GetSymbol()) for atom in mol.GetAtoms()]\n",
    "                 \n",
    "    mol = AllChem.AddHs(mol, addCoords=True)\n",
    "    rdDistGeom.EmbedMolecule(mol)\n",
    "    return mol, atom_info\n",
    "\n",
    "molecule_3d, atom_info = molecule_to_3d(molecule_smiles)\n",
    "print(f'origin atom: {atom_info}\\n')\n",
    "molecule_3d"
   ]
  },
  {
   "cell_type": "code",
   "execution_count": 42,
   "metadata": {
    "ExecuteTime": {
     "end_time": "2024-11-29T08:24:04.972472Z",
     "start_time": "2024-11-29T08:24:04.967963Z"
    }
   },
   "outputs": [
    {
     "data": {
      "application/3dmoljs_load.v0": "<div id=\"3dmolviewer_17363369832473614\"  style=\"position: relative; width: 400px; height: 400px;\">\n        <p id=\"3dmolwarning_17363369832473614\" style=\"background-color:#ffcccc;color:black\">3Dmol.js failed to load for some reason.  Please check your browser console for error messages.<br></p>\n        </div>\n<script>\n\nvar loadScriptAsync = function(uri){\n  return new Promise((resolve, reject) => {\n    //this is to ignore the existence of requirejs amd\n    var savedexports, savedmodule;\n    if (typeof exports !== 'undefined') savedexports = exports;\n    else exports = {}\n    if (typeof module !== 'undefined') savedmodule = module;\n    else module = {}\n\n    var tag = document.createElement('script');\n    tag.src = uri;\n    tag.async = true;\n    tag.onload = () => {\n        exports = savedexports;\n        module = savedmodule;\n        resolve();\n    };\n  var firstScriptTag = document.getElementsByTagName('script')[0];\n  firstScriptTag.parentNode.insertBefore(tag, firstScriptTag);\n});\n};\n\nif(typeof $3Dmolpromise === 'undefined') {\n$3Dmolpromise = null;\n  $3Dmolpromise = loadScriptAsync('https://cdnjs.cloudflare.com/ajax/libs/3Dmol/2.4.2/3Dmol-min.js');\n}\n\nvar viewer_17363369832473614 = null;\nvar warn = document.getElementById(\"3dmolwarning_17363369832473614\");\nif(warn) {\n    warn.parentNode.removeChild(warn);\n}\n$3Dmolpromise.then(function() {\nviewer_17363369832473614 = $3Dmol.createViewer(document.getElementById(\"3dmolviewer_17363369832473614\"),{backgroundColor:\"white\"});\nviewer_17363369832473614.zoomTo();\n\tviewer_17363369832473614.addSphere({\"center\": {\"x\": 4.584549002384084, \"y\": 0.49365447247454886, \"z\": -1.1056604022456016}, \"radius\": 0.3, \"color\": \"gray\"});\n\tviewer_17363369832473614.addSphere({\"center\": {\"x\": 3.316631895509806, \"y\": 0.5015986133630638, \"z\": -0.3267209940134749}, \"radius\": 0.3, \"color\": \"gray\"});\n\tviewer_17363369832473614.addSphere({\"center\": {\"x\": 3.297873010035152, \"y\": -0.26555919670319883, \"z\": 0.9453302442202236}, \"radius\": 0.3, \"color\": \"gray\"});\n\tviewer_17363369832473614.addSphere({\"center\": {\"x\": 1.9408842685912853, \"y\": -0.8002520949720605, \"z\": 1.1002287314078905}, \"radius\": 0.3, \"color\": \"gray\"});\n\tviewer_17363369832473614.addSphere({\"center\": {\"x\": 1.6014013826686353, \"y\": -1.627224606678095, \"z\": -0.042095982632208866}, \"radius\": 0.3, \"color\": \"gray\"});\n\tviewer_17363369832473614.addSphere({\"center\": {\"x\": 2.0676457313316847, \"y\": -0.39834587045149433, \"z\": -1.3322805123516235}, \"radius\": 0.3, \"color\": \"gray\"});\n\tviewer_17363369832473614.addSphere({\"center\": {\"x\": 0.17027588406505917, \"y\": -1.658966680882112, \"z\": 0.32945384755180185}, \"radius\": 0.3, \"color\": \"gray\"});\n\tviewer_17363369832473614.addSphere({\"center\": {\"x\": 0.6482170815734185, \"y\": -1.0844965989106112, \"z\": 1.6247803519982356}, \"radius\": 0.3, \"color\": \"gray\"});\n\tviewer_17363369832473614.addSphere({\"center\": {\"x\": 0.08984478886939762, \"y\": -0.9279054731035788, \"z\": 2.7426998409646783}, \"radius\": 0.3, \"color\": \"gray\"});\n\tviewer_17363369832473614.addSphere({\"center\": {\"x\": -0.7387810189223785, \"y\": -0.8635626386860021, \"z\": -0.4315482428220856}, \"radius\": 0.3, \"color\": \"gray\"});\n\tviewer_17363369832473614.addSphere({\"center\": {\"x\": -2.1019120089378682, \"y\": -1.234948219117717, \"z\": -0.6490686906658767}, \"radius\": 0.3, \"color\": \"gray\"});\n\tviewer_17363369832473614.addSphere({\"center\": {\"x\": -2.5609068622712092, \"y\": -2.280742850070137, \"z\": -0.16435108195488296}, \"radius\": 0.3, \"color\": \"gray\"});\n\tviewer_17363369832473614.addSphere({\"center\": {\"x\": -2.90706730860596, \"y\": -0.2912752581672047, \"z\": -1.4792788216664514}, \"radius\": 0.3, \"color\": \"gray\"});\n\tviewer_17363369832473614.addSphere({\"center\": {\"x\": -3.8535802084594537, \"y\": 0.41904957513228847, \"z\": -0.5840154674608197}, \"radius\": 0.3, \"color\": \"gray\"});\n\tviewer_17363369832473614.addSphere({\"center\": {\"x\": -5.119657410648078, \"y\": -0.021436094142685304, \"z\": -0.2898173765066583}, \"radius\": 0.3, \"color\": \"gray\"});\n\tviewer_17363369832473614.addSphere({\"center\": {\"x\": -5.906591207555298, \"y\": 0.7451086155809414, \"z\": 0.5576598097708038}, \"radius\": 0.3, \"color\": \"gray\"});\n\tviewer_17363369832473614.addSphere({\"center\": {\"x\": -5.484466038362826, \"y\": 1.9255527879861258, \"z\": 1.1195547801337957}, \"radius\": 0.3, \"color\": \"gray\"});\n\tviewer_17363369832473614.addSphere({\"center\": {\"x\": -4.207539180839317, \"y\": 2.3598813565704497, \"z\": 0.8167250864765283}, \"radius\": 0.3, \"color\": \"gray\"});\n\tviewer_17363369832473614.addSphere({\"center\": {\"x\": -3.3859320262184296, \"y\": 1.6071499394166366, \"z\": -0.037573321608307265}, \"radius\": 0.3, \"color\": \"gray\"});\n\tviewer_17363369832473614.addSphere({\"center\": {\"x\": 4.238893686272958, \"y\": -1.372481986502196, \"z\": 1.0788979770839637}, \"radius\": 0.3, \"color\": \"gray\"});\n\tviewer_17363369832473614.addSphere({\"center\": {\"x\": 5.504442192698724, \"y\": -1.2691423308676986, \"z\": 0.9866242296819495}, \"radius\": 0.3, \"color\": \"gray\"});\n\tviewer_17363369832473614.addSphere({\"center\": {\"x\": 3.8172309958161397, \"y\": -2.7023544649008824, \"z\": 1.3342905907487728}, \"radius\": 0.3, \"color\": \"gray\"});\n\tviewer_17363369832473614.addSphere({\"center\": {\"x\": 2.8798740268938543, \"y\": 1.9458276056181816, \"z\": -0.13803014660747864}, \"radius\": 0.3, \"color\": \"gray\"});\n\tviewer_17363369832473614.addSphere({\"center\": {\"x\": 5.51825762287751, \"y\": 0.45018850418638895, \"z\": -0.5211994745454142}, \"radius\": 0.3, \"color\": \"blue\"});\n\tviewer_17363369832473614.addSphere({\"center\": {\"x\": 4.649192243475954, \"y\": 1.4742612133394235, \"z\": -1.676938268755727}, \"radius\": 0.3, \"color\": \"blue\"});\n\tviewer_17363369832473614.addSphere({\"center\": {\"x\": 4.58097938832496, \"y\": -0.2667733178942726, \"z\": -1.945234227052196}, \"radius\": 0.3, \"color\": \"blue\"});\n\tviewer_17363369832473614.addSphere({\"center\": {\"x\": 3.4808350370215364, \"y\": 0.41732621344977217, \"z\": 1.8145670143415333}, \"radius\": 0.3, \"color\": \"blue\"});\n\tviewer_17363369832473614.addSphere({\"center\": {\"x\": 2.1152065798392816, \"y\": -2.5864695995825264, \"z\": -0.15899796339661107}, \"radius\": 0.3, \"color\": \"blue\"});\n\tviewer_17363369832473614.addSphere({\"center\": {\"x\": -0.16924564253521754, \"y\": -2.705249355083615, \"z\": 0.5657733450888289}, \"radius\": 0.3, \"color\": \"blue\"});\n\tviewer_17363369832473614.addSphere({\"center\": {\"x\": -0.36522213425604927, \"y\": 0.032083836595628364, \"z\": -0.8411871024253068}, \"radius\": 0.3, \"color\": \"blue\"});\n\tviewer_17363369832473614.addSphere({\"center\": {\"x\": -3.567802322709434, \"y\": -0.9648158562008845, \"z\": -2.1088069544679064}, \"radius\": 0.3, \"color\": \"blue\"});\n\tviewer_17363369832473614.addSphere({\"center\": {\"x\": -2.310977534221353, \"y\": 0.35378878863982677, \"z\": -2.1267472947750266}, \"radius\": 0.3, \"color\": \"blue\"});\n\tviewer_17363369832473614.addSphere({\"center\": {\"x\": -5.486039157643033, \"y\": -0.9429777782577787, \"z\": -0.7130780235525684}, \"radius\": 0.3, \"color\": \"blue\"});\n\tviewer_17363369832473614.addSphere({\"center\": {\"x\": -6.906339438119555, \"y\": 0.3694938973204911, \"z\": 0.773290578054021}, \"radius\": 0.3, \"color\": \"blue\"});\n\tviewer_17363369832473614.addSphere({\"center\": {\"x\": -6.119894365046999, \"y\": 2.5243179690655353, \"z\": 1.7856499688173857}, \"radius\": 0.3, \"color\": \"blue\"});\n\tviewer_17363369832473614.addSphere({\"center\": {\"x\": -3.780885481752907, \"y\": 3.264194389681168, \"z\": 1.201922164230594}, \"radius\": 0.3, \"color\": \"blue\"});\n\tviewer_17363369832473614.addSphere({\"center\": {\"x\": -2.39781917490543, \"y\": 1.9637263907809217, \"z\": -0.2556535549486978}, \"radius\": 0.3, \"color\": \"blue\"});\n\tviewer_17363369832473614.addSphere({\"center\": {\"x\": 4.417726158627044, \"y\": -3.4748640379540956, \"z\": 1.015320026369128}, \"radius\": 0.3, \"color\": \"blue\"});\n\tviewer_17363369832473614.addSphere({\"center\": {\"x\": 1.8722369371140493, \"y\": 2.0419232026602594, \"z\": 0.30737493176955977}, \"radius\": 0.3, \"color\": \"blue\"});\n\tviewer_17363369832473614.addSphere({\"center\": {\"x\": 2.987010853164906, \"y\": 2.444953388240374, \"z\": -1.1209028268319141}, \"radius\": 0.3, \"color\": \"blue\"});\n\tviewer_17363369832473614.addSphere({\"center\": {\"x\": 3.5914497548554625, \"y\": 2.4057635490266716, \"z\": 0.5628770699176728}, \"radius\": 0.3, \"color\": \"blue\"});\n\tviewer_17363369832473614.addCylinder({\"start\": {\"x\": 4.584549002384084, \"y\": 0.49365447247454886, \"z\": -1.1056604022456016}, \"end\": {\"x\": 3.316631895509806, \"y\": 0.5015986133630638, \"z\": -0.3267209940134749}, \"radius\": 0.1, \"color\": \"black\"});\n\tviewer_17363369832473614.addCylinder({\"start\": {\"x\": 3.316631895509806, \"y\": 0.5015986133630638, \"z\": -0.3267209940134749}, \"end\": {\"x\": 3.297873010035152, \"y\": -0.26555919670319883, \"z\": 0.9453302442202236}, \"radius\": 0.1, \"color\": \"black\"});\n\tviewer_17363369832473614.addCylinder({\"start\": {\"x\": 3.297873010035152, \"y\": -0.26555919670319883, \"z\": 0.9453302442202236}, \"end\": {\"x\": 1.9408842685912853, \"y\": -0.8002520949720605, \"z\": 1.1002287314078905}, \"radius\": 0.1, \"color\": \"black\"});\n\tviewer_17363369832473614.addCylinder({\"start\": {\"x\": 1.9408842685912853, \"y\": -0.8002520949720605, \"z\": 1.1002287314078905}, \"end\": {\"x\": 1.6014013826686353, \"y\": -1.627224606678095, \"z\": -0.042095982632208866}, \"radius\": 0.1, \"color\": \"black\"});\n\tviewer_17363369832473614.addCylinder({\"start\": {\"x\": 1.6014013826686353, \"y\": -1.627224606678095, \"z\": -0.042095982632208866}, \"end\": {\"x\": 2.0676457313316847, \"y\": -0.39834587045149433, \"z\": -1.3322805123516235}, \"radius\": 0.1, \"color\": \"black\"});\n\tviewer_17363369832473614.addCylinder({\"start\": {\"x\": 1.6014013826686353, \"y\": -1.627224606678095, \"z\": -0.042095982632208866}, \"end\": {\"x\": 0.17027588406505917, \"y\": -1.658966680882112, \"z\": 0.32945384755180185}, \"radius\": 0.1, \"color\": \"black\"});\n\tviewer_17363369832473614.addCylinder({\"start\": {\"x\": 0.17027588406505917, \"y\": -1.658966680882112, \"z\": 0.32945384755180185}, \"end\": {\"x\": 0.6482170815734185, \"y\": -1.0844965989106112, \"z\": 1.6247803519982356}, \"radius\": 0.1, \"color\": \"black\"});\n\tviewer_17363369832473614.addCylinder({\"start\": {\"x\": 0.6482170815734185, \"y\": -1.0844965989106112, \"z\": 1.6247803519982356}, \"end\": {\"x\": 0.08984478886939762, \"y\": -0.9279054731035788, \"z\": 2.7426998409646783}, \"radius\": 0.1, \"color\": \"black\"});\n\tviewer_17363369832473614.addCylinder({\"start\": {\"x\": 0.17027588406505917, \"y\": -1.658966680882112, \"z\": 0.32945384755180185}, \"end\": {\"x\": -0.7387810189223785, \"y\": -0.8635626386860021, \"z\": -0.4315482428220856}, \"radius\": 0.1, \"color\": \"black\"});\n\tviewer_17363369832473614.addCylinder({\"start\": {\"x\": -0.7387810189223785, \"y\": -0.8635626386860021, \"z\": -0.4315482428220856}, \"end\": {\"x\": -2.1019120089378682, \"y\": -1.234948219117717, \"z\": -0.6490686906658767}, \"radius\": 0.1, \"color\": \"black\"});\n\tviewer_17363369832473614.addCylinder({\"start\": {\"x\": -2.1019120089378682, \"y\": -1.234948219117717, \"z\": -0.6490686906658767}, \"end\": {\"x\": -2.5609068622712092, \"y\": -2.280742850070137, \"z\": -0.16435108195488296}, \"radius\": 0.1, \"color\": \"black\"});\n\tviewer_17363369832473614.addCylinder({\"start\": {\"x\": -2.1019120089378682, \"y\": -1.234948219117717, \"z\": -0.6490686906658767}, \"end\": {\"x\": -2.90706730860596, \"y\": -0.2912752581672047, \"z\": -1.4792788216664514}, \"radius\": 0.1, \"color\": \"black\"});\n\tviewer_17363369832473614.addCylinder({\"start\": {\"x\": -2.90706730860596, \"y\": -0.2912752581672047, \"z\": -1.4792788216664514}, \"end\": {\"x\": -3.8535802084594537, \"y\": 0.41904957513228847, \"z\": -0.5840154674608197}, \"radius\": 0.1, \"color\": \"black\"});\n\tviewer_17363369832473614.addCylinder({\"start\": {\"x\": -3.8535802084594537, \"y\": 0.41904957513228847, \"z\": -0.5840154674608197}, \"end\": {\"x\": -5.119657410648078, \"y\": -0.021436094142685304, \"z\": -0.2898173765066583}, \"radius\": 0.1, \"color\": \"black\"});\n\tviewer_17363369832473614.addCylinder({\"start\": {\"x\": -5.119657410648078, \"y\": -0.021436094142685304, \"z\": -0.2898173765066583}, \"end\": {\"x\": -5.906591207555298, \"y\": 0.7451086155809414, \"z\": 0.5576598097708038}, \"radius\": 0.1, \"color\": \"black\"});\n\tviewer_17363369832473614.addCylinder({\"start\": {\"x\": -5.906591207555298, \"y\": 0.7451086155809414, \"z\": 0.5576598097708038}, \"end\": {\"x\": -5.484466038362826, \"y\": 1.9255527879861258, \"z\": 1.1195547801337957}, \"radius\": 0.1, \"color\": \"black\"});\n\tviewer_17363369832473614.addCylinder({\"start\": {\"x\": -5.484466038362826, \"y\": 1.9255527879861258, \"z\": 1.1195547801337957}, \"end\": {\"x\": -4.207539180839317, \"y\": 2.3598813565704497, \"z\": 0.8167250864765283}, \"radius\": 0.1, \"color\": \"black\"});\n\tviewer_17363369832473614.addCylinder({\"start\": {\"x\": -4.207539180839317, \"y\": 2.3598813565704497, \"z\": 0.8167250864765283}, \"end\": {\"x\": -3.3859320262184296, \"y\": 1.6071499394166366, \"z\": -0.037573321608307265}, \"radius\": 0.1, \"color\": \"black\"});\n\tviewer_17363369832473614.addCylinder({\"start\": {\"x\": 3.297873010035152, \"y\": -0.26555919670319883, \"z\": 0.9453302442202236}, \"end\": {\"x\": 4.238893686272958, \"y\": -1.372481986502196, \"z\": 1.0788979770839637}, \"radius\": 0.1, \"color\": \"black\"});\n\tviewer_17363369832473614.addCylinder({\"start\": {\"x\": 4.238893686272958, \"y\": -1.372481986502196, \"z\": 1.0788979770839637}, \"end\": {\"x\": 5.504442192698724, \"y\": -1.2691423308676986, \"z\": 0.9866242296819495}, \"radius\": 0.1, \"color\": \"black\"});\n\tviewer_17363369832473614.addCylinder({\"start\": {\"x\": 4.238893686272958, \"y\": -1.372481986502196, \"z\": 1.0788979770839637}, \"end\": {\"x\": 3.8172309958161397, \"y\": -2.7023544649008824, \"z\": 1.3342905907487728}, \"radius\": 0.1, \"color\": \"black\"});\n\tviewer_17363369832473614.addCylinder({\"start\": {\"x\": 3.316631895509806, \"y\": 0.5015986133630638, \"z\": -0.3267209940134749}, \"end\": {\"x\": 2.8798740268938543, \"y\": 1.9458276056181816, \"z\": -0.13803014660747864}, \"radius\": 0.1, \"color\": \"black\"});\n\tviewer_17363369832473614.addCylinder({\"start\": {\"x\": 2.0676457313316847, \"y\": -0.39834587045149433, \"z\": -1.3322805123516235}, \"end\": {\"x\": 3.316631895509806, \"y\": 0.5015986133630638, \"z\": -0.3267209940134749}, \"radius\": 0.1, \"color\": \"black\"});\n\tviewer_17363369832473614.addCylinder({\"start\": {\"x\": 0.6482170815734185, \"y\": -1.0844965989106112, \"z\": 1.6247803519982356}, \"end\": {\"x\": 1.9408842685912853, \"y\": -0.8002520949720605, \"z\": 1.1002287314078905}, \"radius\": 0.1, \"color\": \"black\"});\n\tviewer_17363369832473614.addCylinder({\"start\": {\"x\": -3.3859320262184296, \"y\": 1.6071499394166366, \"z\": -0.037573321608307265}, \"end\": {\"x\": -3.8535802084594537, \"y\": 0.41904957513228847, \"z\": -0.5840154674608197}, \"radius\": 0.1, \"color\": \"black\"});\n\tviewer_17363369832473614.addCylinder({\"start\": {\"x\": 4.584549002384084, \"y\": 0.49365447247454886, \"z\": -1.1056604022456016}, \"end\": {\"x\": 5.51825762287751, \"y\": 0.45018850418638895, \"z\": -0.5211994745454142}, \"radius\": 0.1, \"color\": \"black\"});\n\tviewer_17363369832473614.addCylinder({\"start\": {\"x\": 4.584549002384084, \"y\": 0.49365447247454886, \"z\": -1.1056604022456016}, \"end\": {\"x\": 4.649192243475954, \"y\": 1.4742612133394235, \"z\": -1.676938268755727}, \"radius\": 0.1, \"color\": \"black\"});\n\tviewer_17363369832473614.addCylinder({\"start\": {\"x\": 4.584549002384084, \"y\": 0.49365447247454886, \"z\": -1.1056604022456016}, \"end\": {\"x\": 4.58097938832496, \"y\": -0.2667733178942726, \"z\": -1.945234227052196}, \"radius\": 0.1, \"color\": \"black\"});\n\tviewer_17363369832473614.addCylinder({\"start\": {\"x\": 3.297873010035152, \"y\": -0.26555919670319883, \"z\": 0.9453302442202236}, \"end\": {\"x\": 3.4808350370215364, \"y\": 0.41732621344977217, \"z\": 1.8145670143415333}, \"radius\": 0.1, \"color\": \"black\"});\n\tviewer_17363369832473614.addCylinder({\"start\": {\"x\": 1.6014013826686353, \"y\": -1.627224606678095, \"z\": -0.042095982632208866}, \"end\": {\"x\": 2.1152065798392816, \"y\": -2.5864695995825264, \"z\": -0.15899796339661107}, \"radius\": 0.1, \"color\": \"black\"});\n\tviewer_17363369832473614.addCylinder({\"start\": {\"x\": 0.17027588406505917, \"y\": -1.658966680882112, \"z\": 0.32945384755180185}, \"end\": {\"x\": -0.16924564253521754, \"y\": -2.705249355083615, \"z\": 0.5657733450888289}, \"radius\": 0.1, \"color\": \"black\"});\n\tviewer_17363369832473614.addCylinder({\"start\": {\"x\": -0.7387810189223785, \"y\": -0.8635626386860021, \"z\": -0.4315482428220856}, \"end\": {\"x\": -0.36522213425604927, \"y\": 0.032083836595628364, \"z\": -0.8411871024253068}, \"radius\": 0.1, \"color\": \"black\"});\n\tviewer_17363369832473614.addCylinder({\"start\": {\"x\": -2.90706730860596, \"y\": -0.2912752581672047, \"z\": -1.4792788216664514}, \"end\": {\"x\": -3.567802322709434, \"y\": -0.9648158562008845, \"z\": -2.1088069544679064}, \"radius\": 0.1, \"color\": \"black\"});\n\tviewer_17363369832473614.addCylinder({\"start\": {\"x\": -2.90706730860596, \"y\": -0.2912752581672047, \"z\": -1.4792788216664514}, \"end\": {\"x\": -2.310977534221353, \"y\": 0.35378878863982677, \"z\": -2.1267472947750266}, \"radius\": 0.1, \"color\": \"black\"});\n\tviewer_17363369832473614.addCylinder({\"start\": {\"x\": -5.119657410648078, \"y\": -0.021436094142685304, \"z\": -0.2898173765066583}, \"end\": {\"x\": -5.486039157643033, \"y\": -0.9429777782577787, \"z\": -0.7130780235525684}, \"radius\": 0.1, \"color\": \"black\"});\n\tviewer_17363369832473614.addCylinder({\"start\": {\"x\": -5.906591207555298, \"y\": 0.7451086155809414, \"z\": 0.5576598097708038}, \"end\": {\"x\": -6.906339438119555, \"y\": 0.3694938973204911, \"z\": 0.773290578054021}, \"radius\": 0.1, \"color\": \"black\"});\n\tviewer_17363369832473614.addCylinder({\"start\": {\"x\": -5.484466038362826, \"y\": 1.9255527879861258, \"z\": 1.1195547801337957}, \"end\": {\"x\": -6.119894365046999, \"y\": 2.5243179690655353, \"z\": 1.7856499688173857}, \"radius\": 0.1, \"color\": \"black\"});\n\tviewer_17363369832473614.addCylinder({\"start\": {\"x\": -4.207539180839317, \"y\": 2.3598813565704497, \"z\": 0.8167250864765283}, \"end\": {\"x\": -3.780885481752907, \"y\": 3.264194389681168, \"z\": 1.201922164230594}, \"radius\": 0.1, \"color\": \"black\"});\n\tviewer_17363369832473614.addCylinder({\"start\": {\"x\": -3.3859320262184296, \"y\": 1.6071499394166366, \"z\": -0.037573321608307265}, \"end\": {\"x\": -2.39781917490543, \"y\": 1.9637263907809217, \"z\": -0.2556535549486978}, \"radius\": 0.1, \"color\": \"black\"});\n\tviewer_17363369832473614.addCylinder({\"start\": {\"x\": 3.8172309958161397, \"y\": -2.7023544649008824, \"z\": 1.3342905907487728}, \"end\": {\"x\": 4.417726158627044, \"y\": -3.4748640379540956, \"z\": 1.015320026369128}, \"radius\": 0.1, \"color\": \"black\"});\n\tviewer_17363369832473614.addCylinder({\"start\": {\"x\": 2.8798740268938543, \"y\": 1.9458276056181816, \"z\": -0.13803014660747864}, \"end\": {\"x\": 1.8722369371140493, \"y\": 2.0419232026602594, \"z\": 0.30737493176955977}, \"radius\": 0.1, \"color\": \"black\"});\n\tviewer_17363369832473614.addCylinder({\"start\": {\"x\": 2.8798740268938543, \"y\": 1.9458276056181816, \"z\": -0.13803014660747864}, \"end\": {\"x\": 2.987010853164906, \"y\": 2.444953388240374, \"z\": -1.1209028268319141}, \"radius\": 0.1, \"color\": \"black\"});\n\tviewer_17363369832473614.addCylinder({\"start\": {\"x\": 2.8798740268938543, \"y\": 1.9458276056181816, \"z\": -0.13803014660747864}, \"end\": {\"x\": 3.5914497548554625, \"y\": 2.4057635490266716, \"z\": 0.5628770699176728}, \"radius\": 0.1, \"color\": \"black\"});\n\tviewer_17363369832473614.zoomTo();\nviewer_17363369832473614.render();\n});\n</script>",
      "text/html": [
       "<div id=\"3dmolviewer_17363369832473614\"  style=\"position: relative; width: 400px; height: 400px;\">\n",
       "        <p id=\"3dmolwarning_17363369832473614\" style=\"background-color:#ffcccc;color:black\">3Dmol.js failed to load for some reason.  Please check your browser console for error messages.<br></p>\n",
       "        </div>\n",
       "<script>\n",
       "\n",
       "var loadScriptAsync = function(uri){\n",
       "  return new Promise((resolve, reject) => {\n",
       "    //this is to ignore the existence of requirejs amd\n",
       "    var savedexports, savedmodule;\n",
       "    if (typeof exports !== 'undefined') savedexports = exports;\n",
       "    else exports = {}\n",
       "    if (typeof module !== 'undefined') savedmodule = module;\n",
       "    else module = {}\n",
       "\n",
       "    var tag = document.createElement('script');\n",
       "    tag.src = uri;\n",
       "    tag.async = true;\n",
       "    tag.onload = () => {\n",
       "        exports = savedexports;\n",
       "        module = savedmodule;\n",
       "        resolve();\n",
       "    };\n",
       "  var firstScriptTag = document.getElementsByTagName('script')[0];\n",
       "  firstScriptTag.parentNode.insertBefore(tag, firstScriptTag);\n",
       "});\n",
       "};\n",
       "\n",
       "if(typeof $3Dmolpromise === 'undefined') {\n",
       "$3Dmolpromise = null;\n",
       "  $3Dmolpromise = loadScriptAsync('https://cdnjs.cloudflare.com/ajax/libs/3Dmol/2.4.2/3Dmol-min.js');\n",
       "}\n",
       "\n",
       "var viewer_17363369832473614 = null;\n",
       "var warn = document.getElementById(\"3dmolwarning_17363369832473614\");\n",
       "if(warn) {\n",
       "    warn.parentNode.removeChild(warn);\n",
       "}\n",
       "$3Dmolpromise.then(function() {\n",
       "viewer_17363369832473614 = $3Dmol.createViewer(document.getElementById(\"3dmolviewer_17363369832473614\"),{backgroundColor:\"white\"});\n",
       "viewer_17363369832473614.zoomTo();\n",
       "\tviewer_17363369832473614.addSphere({\"center\": {\"x\": 4.584549002384084, \"y\": 0.49365447247454886, \"z\": -1.1056604022456016}, \"radius\": 0.3, \"color\": \"gray\"});\n",
       "\tviewer_17363369832473614.addSphere({\"center\": {\"x\": 3.316631895509806, \"y\": 0.5015986133630638, \"z\": -0.3267209940134749}, \"radius\": 0.3, \"color\": \"gray\"});\n",
       "\tviewer_17363369832473614.addSphere({\"center\": {\"x\": 3.297873010035152, \"y\": -0.26555919670319883, \"z\": 0.9453302442202236}, \"radius\": 0.3, \"color\": \"gray\"});\n",
       "\tviewer_17363369832473614.addSphere({\"center\": {\"x\": 1.9408842685912853, \"y\": -0.8002520949720605, \"z\": 1.1002287314078905}, \"radius\": 0.3, \"color\": \"gray\"});\n",
       "\tviewer_17363369832473614.addSphere({\"center\": {\"x\": 1.6014013826686353, \"y\": -1.627224606678095, \"z\": -0.042095982632208866}, \"radius\": 0.3, \"color\": \"gray\"});\n",
       "\tviewer_17363369832473614.addSphere({\"center\": {\"x\": 2.0676457313316847, \"y\": -0.39834587045149433, \"z\": -1.3322805123516235}, \"radius\": 0.3, \"color\": \"gray\"});\n",
       "\tviewer_17363369832473614.addSphere({\"center\": {\"x\": 0.17027588406505917, \"y\": -1.658966680882112, \"z\": 0.32945384755180185}, \"radius\": 0.3, \"color\": \"gray\"});\n",
       "\tviewer_17363369832473614.addSphere({\"center\": {\"x\": 0.6482170815734185, \"y\": -1.0844965989106112, \"z\": 1.6247803519982356}, \"radius\": 0.3, \"color\": \"gray\"});\n",
       "\tviewer_17363369832473614.addSphere({\"center\": {\"x\": 0.08984478886939762, \"y\": -0.9279054731035788, \"z\": 2.7426998409646783}, \"radius\": 0.3, \"color\": \"gray\"});\n",
       "\tviewer_17363369832473614.addSphere({\"center\": {\"x\": -0.7387810189223785, \"y\": -0.8635626386860021, \"z\": -0.4315482428220856}, \"radius\": 0.3, \"color\": \"gray\"});\n",
       "\tviewer_17363369832473614.addSphere({\"center\": {\"x\": -2.1019120089378682, \"y\": -1.234948219117717, \"z\": -0.6490686906658767}, \"radius\": 0.3, \"color\": \"gray\"});\n",
       "\tviewer_17363369832473614.addSphere({\"center\": {\"x\": -2.5609068622712092, \"y\": -2.280742850070137, \"z\": -0.16435108195488296}, \"radius\": 0.3, \"color\": \"gray\"});\n",
       "\tviewer_17363369832473614.addSphere({\"center\": {\"x\": -2.90706730860596, \"y\": -0.2912752581672047, \"z\": -1.4792788216664514}, \"radius\": 0.3, \"color\": \"gray\"});\n",
       "\tviewer_17363369832473614.addSphere({\"center\": {\"x\": -3.8535802084594537, \"y\": 0.41904957513228847, \"z\": -0.5840154674608197}, \"radius\": 0.3, \"color\": \"gray\"});\n",
       "\tviewer_17363369832473614.addSphere({\"center\": {\"x\": -5.119657410648078, \"y\": -0.021436094142685304, \"z\": -0.2898173765066583}, \"radius\": 0.3, \"color\": \"gray\"});\n",
       "\tviewer_17363369832473614.addSphere({\"center\": {\"x\": -5.906591207555298, \"y\": 0.7451086155809414, \"z\": 0.5576598097708038}, \"radius\": 0.3, \"color\": \"gray\"});\n",
       "\tviewer_17363369832473614.addSphere({\"center\": {\"x\": -5.484466038362826, \"y\": 1.9255527879861258, \"z\": 1.1195547801337957}, \"radius\": 0.3, \"color\": \"gray\"});\n",
       "\tviewer_17363369832473614.addSphere({\"center\": {\"x\": -4.207539180839317, \"y\": 2.3598813565704497, \"z\": 0.8167250864765283}, \"radius\": 0.3, \"color\": \"gray\"});\n",
       "\tviewer_17363369832473614.addSphere({\"center\": {\"x\": -3.3859320262184296, \"y\": 1.6071499394166366, \"z\": -0.037573321608307265}, \"radius\": 0.3, \"color\": \"gray\"});\n",
       "\tviewer_17363369832473614.addSphere({\"center\": {\"x\": 4.238893686272958, \"y\": -1.372481986502196, \"z\": 1.0788979770839637}, \"radius\": 0.3, \"color\": \"gray\"});\n",
       "\tviewer_17363369832473614.addSphere({\"center\": {\"x\": 5.504442192698724, \"y\": -1.2691423308676986, \"z\": 0.9866242296819495}, \"radius\": 0.3, \"color\": \"gray\"});\n",
       "\tviewer_17363369832473614.addSphere({\"center\": {\"x\": 3.8172309958161397, \"y\": -2.7023544649008824, \"z\": 1.3342905907487728}, \"radius\": 0.3, \"color\": \"gray\"});\n",
       "\tviewer_17363369832473614.addSphere({\"center\": {\"x\": 2.8798740268938543, \"y\": 1.9458276056181816, \"z\": -0.13803014660747864}, \"radius\": 0.3, \"color\": \"gray\"});\n",
       "\tviewer_17363369832473614.addSphere({\"center\": {\"x\": 5.51825762287751, \"y\": 0.45018850418638895, \"z\": -0.5211994745454142}, \"radius\": 0.3, \"color\": \"blue\"});\n",
       "\tviewer_17363369832473614.addSphere({\"center\": {\"x\": 4.649192243475954, \"y\": 1.4742612133394235, \"z\": -1.676938268755727}, \"radius\": 0.3, \"color\": \"blue\"});\n",
       "\tviewer_17363369832473614.addSphere({\"center\": {\"x\": 4.58097938832496, \"y\": -0.2667733178942726, \"z\": -1.945234227052196}, \"radius\": 0.3, \"color\": \"blue\"});\n",
       "\tviewer_17363369832473614.addSphere({\"center\": {\"x\": 3.4808350370215364, \"y\": 0.41732621344977217, \"z\": 1.8145670143415333}, \"radius\": 0.3, \"color\": \"blue\"});\n",
       "\tviewer_17363369832473614.addSphere({\"center\": {\"x\": 2.1152065798392816, \"y\": -2.5864695995825264, \"z\": -0.15899796339661107}, \"radius\": 0.3, \"color\": \"blue\"});\n",
       "\tviewer_17363369832473614.addSphere({\"center\": {\"x\": -0.16924564253521754, \"y\": -2.705249355083615, \"z\": 0.5657733450888289}, \"radius\": 0.3, \"color\": \"blue\"});\n",
       "\tviewer_17363369832473614.addSphere({\"center\": {\"x\": -0.36522213425604927, \"y\": 0.032083836595628364, \"z\": -0.8411871024253068}, \"radius\": 0.3, \"color\": \"blue\"});\n",
       "\tviewer_17363369832473614.addSphere({\"center\": {\"x\": -3.567802322709434, \"y\": -0.9648158562008845, \"z\": -2.1088069544679064}, \"radius\": 0.3, \"color\": \"blue\"});\n",
       "\tviewer_17363369832473614.addSphere({\"center\": {\"x\": -2.310977534221353, \"y\": 0.35378878863982677, \"z\": -2.1267472947750266}, \"radius\": 0.3, \"color\": \"blue\"});\n",
       "\tviewer_17363369832473614.addSphere({\"center\": {\"x\": -5.486039157643033, \"y\": -0.9429777782577787, \"z\": -0.7130780235525684}, \"radius\": 0.3, \"color\": \"blue\"});\n",
       "\tviewer_17363369832473614.addSphere({\"center\": {\"x\": -6.906339438119555, \"y\": 0.3694938973204911, \"z\": 0.773290578054021}, \"radius\": 0.3, \"color\": \"blue\"});\n",
       "\tviewer_17363369832473614.addSphere({\"center\": {\"x\": -6.119894365046999, \"y\": 2.5243179690655353, \"z\": 1.7856499688173857}, \"radius\": 0.3, \"color\": \"blue\"});\n",
       "\tviewer_17363369832473614.addSphere({\"center\": {\"x\": -3.780885481752907, \"y\": 3.264194389681168, \"z\": 1.201922164230594}, \"radius\": 0.3, \"color\": \"blue\"});\n",
       "\tviewer_17363369832473614.addSphere({\"center\": {\"x\": -2.39781917490543, \"y\": 1.9637263907809217, \"z\": -0.2556535549486978}, \"radius\": 0.3, \"color\": \"blue\"});\n",
       "\tviewer_17363369832473614.addSphere({\"center\": {\"x\": 4.417726158627044, \"y\": -3.4748640379540956, \"z\": 1.015320026369128}, \"radius\": 0.3, \"color\": \"blue\"});\n",
       "\tviewer_17363369832473614.addSphere({\"center\": {\"x\": 1.8722369371140493, \"y\": 2.0419232026602594, \"z\": 0.30737493176955977}, \"radius\": 0.3, \"color\": \"blue\"});\n",
       "\tviewer_17363369832473614.addSphere({\"center\": {\"x\": 2.987010853164906, \"y\": 2.444953388240374, \"z\": -1.1209028268319141}, \"radius\": 0.3, \"color\": \"blue\"});\n",
       "\tviewer_17363369832473614.addSphere({\"center\": {\"x\": 3.5914497548554625, \"y\": 2.4057635490266716, \"z\": 0.5628770699176728}, \"radius\": 0.3, \"color\": \"blue\"});\n",
       "\tviewer_17363369832473614.addCylinder({\"start\": {\"x\": 4.584549002384084, \"y\": 0.49365447247454886, \"z\": -1.1056604022456016}, \"end\": {\"x\": 3.316631895509806, \"y\": 0.5015986133630638, \"z\": -0.3267209940134749}, \"radius\": 0.1, \"color\": \"black\"});\n",
       "\tviewer_17363369832473614.addCylinder({\"start\": {\"x\": 3.316631895509806, \"y\": 0.5015986133630638, \"z\": -0.3267209940134749}, \"end\": {\"x\": 3.297873010035152, \"y\": -0.26555919670319883, \"z\": 0.9453302442202236}, \"radius\": 0.1, \"color\": \"black\"});\n",
       "\tviewer_17363369832473614.addCylinder({\"start\": {\"x\": 3.297873010035152, \"y\": -0.26555919670319883, \"z\": 0.9453302442202236}, \"end\": {\"x\": 1.9408842685912853, \"y\": -0.8002520949720605, \"z\": 1.1002287314078905}, \"radius\": 0.1, \"color\": \"black\"});\n",
       "\tviewer_17363369832473614.addCylinder({\"start\": {\"x\": 1.9408842685912853, \"y\": -0.8002520949720605, \"z\": 1.1002287314078905}, \"end\": {\"x\": 1.6014013826686353, \"y\": -1.627224606678095, \"z\": -0.042095982632208866}, \"radius\": 0.1, \"color\": \"black\"});\n",
       "\tviewer_17363369832473614.addCylinder({\"start\": {\"x\": 1.6014013826686353, \"y\": -1.627224606678095, \"z\": -0.042095982632208866}, \"end\": {\"x\": 2.0676457313316847, \"y\": -0.39834587045149433, \"z\": -1.3322805123516235}, \"radius\": 0.1, \"color\": \"black\"});\n",
       "\tviewer_17363369832473614.addCylinder({\"start\": {\"x\": 1.6014013826686353, \"y\": -1.627224606678095, \"z\": -0.042095982632208866}, \"end\": {\"x\": 0.17027588406505917, \"y\": -1.658966680882112, \"z\": 0.32945384755180185}, \"radius\": 0.1, \"color\": \"black\"});\n",
       "\tviewer_17363369832473614.addCylinder({\"start\": {\"x\": 0.17027588406505917, \"y\": -1.658966680882112, \"z\": 0.32945384755180185}, \"end\": {\"x\": 0.6482170815734185, \"y\": -1.0844965989106112, \"z\": 1.6247803519982356}, \"radius\": 0.1, \"color\": \"black\"});\n",
       "\tviewer_17363369832473614.addCylinder({\"start\": {\"x\": 0.6482170815734185, \"y\": -1.0844965989106112, \"z\": 1.6247803519982356}, \"end\": {\"x\": 0.08984478886939762, \"y\": -0.9279054731035788, \"z\": 2.7426998409646783}, \"radius\": 0.1, \"color\": \"black\"});\n",
       "\tviewer_17363369832473614.addCylinder({\"start\": {\"x\": 0.17027588406505917, \"y\": -1.658966680882112, \"z\": 0.32945384755180185}, \"end\": {\"x\": -0.7387810189223785, \"y\": -0.8635626386860021, \"z\": -0.4315482428220856}, \"radius\": 0.1, \"color\": \"black\"});\n",
       "\tviewer_17363369832473614.addCylinder({\"start\": {\"x\": -0.7387810189223785, \"y\": -0.8635626386860021, \"z\": -0.4315482428220856}, \"end\": {\"x\": -2.1019120089378682, \"y\": -1.234948219117717, \"z\": -0.6490686906658767}, \"radius\": 0.1, \"color\": \"black\"});\n",
       "\tviewer_17363369832473614.addCylinder({\"start\": {\"x\": -2.1019120089378682, \"y\": -1.234948219117717, \"z\": -0.6490686906658767}, \"end\": {\"x\": -2.5609068622712092, \"y\": -2.280742850070137, \"z\": -0.16435108195488296}, \"radius\": 0.1, \"color\": \"black\"});\n",
       "\tviewer_17363369832473614.addCylinder({\"start\": {\"x\": -2.1019120089378682, \"y\": -1.234948219117717, \"z\": -0.6490686906658767}, \"end\": {\"x\": -2.90706730860596, \"y\": -0.2912752581672047, \"z\": -1.4792788216664514}, \"radius\": 0.1, \"color\": \"black\"});\n",
       "\tviewer_17363369832473614.addCylinder({\"start\": {\"x\": -2.90706730860596, \"y\": -0.2912752581672047, \"z\": -1.4792788216664514}, \"end\": {\"x\": -3.8535802084594537, \"y\": 0.41904957513228847, \"z\": -0.5840154674608197}, \"radius\": 0.1, \"color\": \"black\"});\n",
       "\tviewer_17363369832473614.addCylinder({\"start\": {\"x\": -3.8535802084594537, \"y\": 0.41904957513228847, \"z\": -0.5840154674608197}, \"end\": {\"x\": -5.119657410648078, \"y\": -0.021436094142685304, \"z\": -0.2898173765066583}, \"radius\": 0.1, \"color\": \"black\"});\n",
       "\tviewer_17363369832473614.addCylinder({\"start\": {\"x\": -5.119657410648078, \"y\": -0.021436094142685304, \"z\": -0.2898173765066583}, \"end\": {\"x\": -5.906591207555298, \"y\": 0.7451086155809414, \"z\": 0.5576598097708038}, \"radius\": 0.1, \"color\": \"black\"});\n",
       "\tviewer_17363369832473614.addCylinder({\"start\": {\"x\": -5.906591207555298, \"y\": 0.7451086155809414, \"z\": 0.5576598097708038}, \"end\": {\"x\": -5.484466038362826, \"y\": 1.9255527879861258, \"z\": 1.1195547801337957}, \"radius\": 0.1, \"color\": \"black\"});\n",
       "\tviewer_17363369832473614.addCylinder({\"start\": {\"x\": -5.484466038362826, \"y\": 1.9255527879861258, \"z\": 1.1195547801337957}, \"end\": {\"x\": -4.207539180839317, \"y\": 2.3598813565704497, \"z\": 0.8167250864765283}, \"radius\": 0.1, \"color\": \"black\"});\n",
       "\tviewer_17363369832473614.addCylinder({\"start\": {\"x\": -4.207539180839317, \"y\": 2.3598813565704497, \"z\": 0.8167250864765283}, \"end\": {\"x\": -3.3859320262184296, \"y\": 1.6071499394166366, \"z\": -0.037573321608307265}, \"radius\": 0.1, \"color\": \"black\"});\n",
       "\tviewer_17363369832473614.addCylinder({\"start\": {\"x\": 3.297873010035152, \"y\": -0.26555919670319883, \"z\": 0.9453302442202236}, \"end\": {\"x\": 4.238893686272958, \"y\": -1.372481986502196, \"z\": 1.0788979770839637}, \"radius\": 0.1, \"color\": \"black\"});\n",
       "\tviewer_17363369832473614.addCylinder({\"start\": {\"x\": 4.238893686272958, \"y\": -1.372481986502196, \"z\": 1.0788979770839637}, \"end\": {\"x\": 5.504442192698724, \"y\": -1.2691423308676986, \"z\": 0.9866242296819495}, \"radius\": 0.1, \"color\": \"black\"});\n",
       "\tviewer_17363369832473614.addCylinder({\"start\": {\"x\": 4.238893686272958, \"y\": -1.372481986502196, \"z\": 1.0788979770839637}, \"end\": {\"x\": 3.8172309958161397, \"y\": -2.7023544649008824, \"z\": 1.3342905907487728}, \"radius\": 0.1, \"color\": \"black\"});\n",
       "\tviewer_17363369832473614.addCylinder({\"start\": {\"x\": 3.316631895509806, \"y\": 0.5015986133630638, \"z\": -0.3267209940134749}, \"end\": {\"x\": 2.8798740268938543, \"y\": 1.9458276056181816, \"z\": -0.13803014660747864}, \"radius\": 0.1, \"color\": \"black\"});\n",
       "\tviewer_17363369832473614.addCylinder({\"start\": {\"x\": 2.0676457313316847, \"y\": -0.39834587045149433, \"z\": -1.3322805123516235}, \"end\": {\"x\": 3.316631895509806, \"y\": 0.5015986133630638, \"z\": -0.3267209940134749}, \"radius\": 0.1, \"color\": \"black\"});\n",
       "\tviewer_17363369832473614.addCylinder({\"start\": {\"x\": 0.6482170815734185, \"y\": -1.0844965989106112, \"z\": 1.6247803519982356}, \"end\": {\"x\": 1.9408842685912853, \"y\": -0.8002520949720605, \"z\": 1.1002287314078905}, \"radius\": 0.1, \"color\": \"black\"});\n",
       "\tviewer_17363369832473614.addCylinder({\"start\": {\"x\": -3.3859320262184296, \"y\": 1.6071499394166366, \"z\": -0.037573321608307265}, \"end\": {\"x\": -3.8535802084594537, \"y\": 0.41904957513228847, \"z\": -0.5840154674608197}, \"radius\": 0.1, \"color\": \"black\"});\n",
       "\tviewer_17363369832473614.addCylinder({\"start\": {\"x\": 4.584549002384084, \"y\": 0.49365447247454886, \"z\": -1.1056604022456016}, \"end\": {\"x\": 5.51825762287751, \"y\": 0.45018850418638895, \"z\": -0.5211994745454142}, \"radius\": 0.1, \"color\": \"black\"});\n",
       "\tviewer_17363369832473614.addCylinder({\"start\": {\"x\": 4.584549002384084, \"y\": 0.49365447247454886, \"z\": -1.1056604022456016}, \"end\": {\"x\": 4.649192243475954, \"y\": 1.4742612133394235, \"z\": -1.676938268755727}, \"radius\": 0.1, \"color\": \"black\"});\n",
       "\tviewer_17363369832473614.addCylinder({\"start\": {\"x\": 4.584549002384084, \"y\": 0.49365447247454886, \"z\": -1.1056604022456016}, \"end\": {\"x\": 4.58097938832496, \"y\": -0.2667733178942726, \"z\": -1.945234227052196}, \"radius\": 0.1, \"color\": \"black\"});\n",
       "\tviewer_17363369832473614.addCylinder({\"start\": {\"x\": 3.297873010035152, \"y\": -0.26555919670319883, \"z\": 0.9453302442202236}, \"end\": {\"x\": 3.4808350370215364, \"y\": 0.41732621344977217, \"z\": 1.8145670143415333}, \"radius\": 0.1, \"color\": \"black\"});\n",
       "\tviewer_17363369832473614.addCylinder({\"start\": {\"x\": 1.6014013826686353, \"y\": -1.627224606678095, \"z\": -0.042095982632208866}, \"end\": {\"x\": 2.1152065798392816, \"y\": -2.5864695995825264, \"z\": -0.15899796339661107}, \"radius\": 0.1, \"color\": \"black\"});\n",
       "\tviewer_17363369832473614.addCylinder({\"start\": {\"x\": 0.17027588406505917, \"y\": -1.658966680882112, \"z\": 0.32945384755180185}, \"end\": {\"x\": -0.16924564253521754, \"y\": -2.705249355083615, \"z\": 0.5657733450888289}, \"radius\": 0.1, \"color\": \"black\"});\n",
       "\tviewer_17363369832473614.addCylinder({\"start\": {\"x\": -0.7387810189223785, \"y\": -0.8635626386860021, \"z\": -0.4315482428220856}, \"end\": {\"x\": -0.36522213425604927, \"y\": 0.032083836595628364, \"z\": -0.8411871024253068}, \"radius\": 0.1, \"color\": \"black\"});\n",
       "\tviewer_17363369832473614.addCylinder({\"start\": {\"x\": -2.90706730860596, \"y\": -0.2912752581672047, \"z\": -1.4792788216664514}, \"end\": {\"x\": -3.567802322709434, \"y\": -0.9648158562008845, \"z\": -2.1088069544679064}, \"radius\": 0.1, \"color\": \"black\"});\n",
       "\tviewer_17363369832473614.addCylinder({\"start\": {\"x\": -2.90706730860596, \"y\": -0.2912752581672047, \"z\": -1.4792788216664514}, \"end\": {\"x\": -2.310977534221353, \"y\": 0.35378878863982677, \"z\": -2.1267472947750266}, \"radius\": 0.1, \"color\": \"black\"});\n",
       "\tviewer_17363369832473614.addCylinder({\"start\": {\"x\": -5.119657410648078, \"y\": -0.021436094142685304, \"z\": -0.2898173765066583}, \"end\": {\"x\": -5.486039157643033, \"y\": -0.9429777782577787, \"z\": -0.7130780235525684}, \"radius\": 0.1, \"color\": \"black\"});\n",
       "\tviewer_17363369832473614.addCylinder({\"start\": {\"x\": -5.906591207555298, \"y\": 0.7451086155809414, \"z\": 0.5576598097708038}, \"end\": {\"x\": -6.906339438119555, \"y\": 0.3694938973204911, \"z\": 0.773290578054021}, \"radius\": 0.1, \"color\": \"black\"});\n",
       "\tviewer_17363369832473614.addCylinder({\"start\": {\"x\": -5.484466038362826, \"y\": 1.9255527879861258, \"z\": 1.1195547801337957}, \"end\": {\"x\": -6.119894365046999, \"y\": 2.5243179690655353, \"z\": 1.7856499688173857}, \"radius\": 0.1, \"color\": \"black\"});\n",
       "\tviewer_17363369832473614.addCylinder({\"start\": {\"x\": -4.207539180839317, \"y\": 2.3598813565704497, \"z\": 0.8167250864765283}, \"end\": {\"x\": -3.780885481752907, \"y\": 3.264194389681168, \"z\": 1.201922164230594}, \"radius\": 0.1, \"color\": \"black\"});\n",
       "\tviewer_17363369832473614.addCylinder({\"start\": {\"x\": -3.3859320262184296, \"y\": 1.6071499394166366, \"z\": -0.037573321608307265}, \"end\": {\"x\": -2.39781917490543, \"y\": 1.9637263907809217, \"z\": -0.2556535549486978}, \"radius\": 0.1, \"color\": \"black\"});\n",
       "\tviewer_17363369832473614.addCylinder({\"start\": {\"x\": 3.8172309958161397, \"y\": -2.7023544649008824, \"z\": 1.3342905907487728}, \"end\": {\"x\": 4.417726158627044, \"y\": -3.4748640379540956, \"z\": 1.015320026369128}, \"radius\": 0.1, \"color\": \"black\"});\n",
       "\tviewer_17363369832473614.addCylinder({\"start\": {\"x\": 2.8798740268938543, \"y\": 1.9458276056181816, \"z\": -0.13803014660747864}, \"end\": {\"x\": 1.8722369371140493, \"y\": 2.0419232026602594, \"z\": 0.30737493176955977}, \"radius\": 0.1, \"color\": \"black\"});\n",
       "\tviewer_17363369832473614.addCylinder({\"start\": {\"x\": 2.8798740268938543, \"y\": 1.9458276056181816, \"z\": -0.13803014660747864}, \"end\": {\"x\": 2.987010853164906, \"y\": 2.444953388240374, \"z\": -1.1209028268319141}, \"radius\": 0.1, \"color\": \"black\"});\n",
       "\tviewer_17363369832473614.addCylinder({\"start\": {\"x\": 2.8798740268938543, \"y\": 1.9458276056181816, \"z\": -0.13803014660747864}, \"end\": {\"x\": 3.5914497548554625, \"y\": 2.4057635490266716, \"z\": 0.5628770699176728}, \"radius\": 0.1, \"color\": \"black\"});\n",
       "\tviewer_17363369832473614.zoomTo();\n",
       "viewer_17363369832473614.render();\n",
       "});\n",
       "</script>"
      ]
     },
     "metadata": {},
     "output_type": "display_data"
    }
   ],
   "source": [
    "# Convert to 3D coordinates for visualization\n",
    "conf = molecule_3d.GetConformer()\n",
    "atoms = molecule_3d.GetAtoms()\n",
    "bonds = molecule_3d.GetBonds()\n",
    "\n",
    "# Visualize in 3D using py3Dmol\n",
    "view = py3Dmol.view(width=400, height=400)\n",
    "\n",
    "for atom in atoms:\n",
    "    pos = conf.GetAtomPosition(atom.GetIdx())\n",
    "    view.addSphere({\n",
    "        \"center\": {\"x\": pos.x, \"y\": pos.y, \"z\": pos.z},\n",
    "        \"radius\": 0.3,\n",
    "        \"color\": \"blue\" if atom.GetSymbol() == \"H\" else \"gray\",\n",
    "    })\n",
    "\n",
    "for bond in bonds:\n",
    "    begin = bond.GetBeginAtomIdx()\n",
    "    end = bond.GetEndAtomIdx()\n",
    "    pos1 = conf.GetAtomPosition(begin)\n",
    "    pos2 = conf.GetAtomPosition(end)\n",
    "    view.addCylinder({\n",
    "        \"start\": {\"x\": pos1.x, \"y\": pos1.y, \"z\": pos1.z},\n",
    "        \"end\": {\"x\": pos2.x, \"y\": pos2.y, \"z\": pos2.z},\n",
    "        \"radius\": 0.1,\n",
    "        \"color\": \"black\",\n",
    "    })\n",
    "\n",
    "view.zoomTo()\n",
    "view.show()"
   ]
  },
  {
   "cell_type": "code",
   "execution_count": 43,
   "metadata": {
    "ExecuteTime": {
     "end_time": "2024-11-29T08:24:06.118037Z",
     "start_time": "2024-11-29T08:24:06.114664Z"
    }
   },
   "outputs": [
    {
     "name": "stdout",
     "output_type": "stream",
     "text": [
      "3D view saved as 'molecule_3D.html'\n"
     ]
    }
   ],
   "source": [
    "with open(\"molecule_3D.html\", \"w\") as f:\n",
    "    f.write(view._make_html())\n",
    "print(\"3D view saved as 'molecule_3D.html'\")"
   ]
  },
  {
   "cell_type": "markdown",
   "metadata": {},
   "source": [
    "### e) 그래프 기반 접근: Graph (2D, 3D)\n",
    "분자 그래프(Molecular Graph)는 분자 구조를 그래프 형태로 표현한 것이다.\n",
    "\n",
    "분자를 구성하는 원자는 그래프의 __노드(Node)__ 로, 원자 간 결합은 __엣지(Edge)__ 로 나타낸다.\n",
    "\n",
    "이 표현은 분자의 연결 정보를 수학적으로 표현할 수 있을 뿐만 아니라, 3차원 구조까지 확장하여 반영할 수 있다.\n",
    "\n",
    "특히, **Graph Neural Network(GNN)**를 활용해 분자를 처리하거나 분석하는 데 유용하다.\n",
    "\n",
    "아래 간단한 예제에서 torch_geometric 라이브러리를 통한 분자 그래프 데이터를 __Data__ 객체로 만드는 작업을 해보자.\n",
    "\n",
    "Data 안에는 다음과 같은 값들이 기본적으로 포함되며 상황에 따라 필요한 정보를 삽입하거나 제거할 수 있다.\n",
    "\n",
    "* x: 그래프의 노드(원자)와 관련된 특성(feature)를 나타냄 (ex: [23, 9], 분자를 구성하는 23개의 노드가 존재하며 각 노드는 9차원의 특성 벡터를 가짐)\n",
    "* edge_index: 그래프의 엣지(결합)을 정의하는 인덱스 배열 (ex: [2, 50], 50개의 연결 정보를 2차원 배열로 표현)\n",
    "* edge_attr: 엣지(결합)의 특성(feature)을 나타냄 (ex: [50, 3], 50개의 엣지가 존재하며 각 엣지는 3차원의 특성 벡터를 가짐, 단일, 이중, 삼중 결합인지) \n",
    "* smiles: 그래프로 변환하기 전 SMILES \n"
   ]
  },
  {
   "cell_type": "markdown",
   "metadata": {},
   "source": [
    "< 2D graph >"
   ]
  },
  {
   "cell_type": "code",
   "execution_count": 56,
   "metadata": {
    "ExecuteTime": {
     "end_time": "2024-11-29T08:24:06.799847Z",
     "start_time": "2024-11-29T08:24:06.792384Z"
    }
   },
   "outputs": [
    {
     "data": {
      "text/plain": [
       "Data(x=[23, 55], edge_index=[2, 50])"
      ]
     },
     "execution_count": 56,
     "metadata": {},
     "output_type": "execute_result"
    }
   ],
   "source": [
    "graph_data = pyg_utils.smiles.from_smiles(molecule_smiles)\n",
    "graph_data"
   ]
  },
  {
   "cell_type": "code",
   "execution_count": 57,
   "metadata": {
    "ExecuteTime": {
     "end_time": "2024-11-29T08:24:07.131130Z",
     "start_time": "2024-11-29T08:24:07.081787Z"
    }
   },
   "outputs": [
    {
     "data": {
      "image/png": "[encoded data removed]",
      "text/plain": [
       "<Figure size 640x480 with 1 Axes>"
      ]
     },
     "metadata": {},
     "output_type": "display_data"
    }
   ],
   "source": [
    "g = pyg_utils.to_networkx(graph_data, to_undirected=True)\n",
    "nx.draw(g)"
   ]
  },
  {
   "cell_type": "markdown",
   "metadata": {},
   "source": [
    "< 3D graph >\n",
    "\n",
    "3차원 정보를 그래프에 표현하는 방법은 아직 명확히 정립된 틀이 없다.\n",
    "\n",
    "이번 실습에서는 간단히 3차원 좌표를 추출한 뒤, 이를 Data 객체에 저장하는 과정을 진행해 보자."
   ]
  },
  {
   "cell_type": "code",
   "execution_count": 46,
   "metadata": {
    "ExecuteTime": {
     "end_time": "2024-11-29T08:24:07.831706Z",
     "start_time": "2024-11-29T08:24:07.826158Z"
    }
   },
   "outputs": [
    {
     "name": "stdout",
     "output_type": "stream",
     "text": [
      "3d coordinates (23):\n"
     ]
    },
    {
     "data": {
      "text/plain": [
       "array([[ 4.584549  ,  0.49365447, -1.1056604 ],\n",
       "       [ 3.3166319 ,  0.50159861, -0.32672099],\n",
       "       [ 3.29787301, -0.2655592 ,  0.94533024],\n",
       "       [ 1.94088427, -0.80025209,  1.10022873],\n",
       "       [ 1.60140138, -1.62722461, -0.04209598],\n",
       "       [ 2.06764573, -0.39834587, -1.33228051],\n",
       "       [ 0.17027588, -1.65896668,  0.32945385],\n",
       "       [ 0.64821708, -1.0844966 ,  1.62478035],\n",
       "       [ 0.08984479, -0.92790547,  2.74269984],\n",
       "       [-0.73878102, -0.86356264, -0.43154824],\n",
       "       [-2.10191201, -1.23494822, -0.64906869],\n",
       "       [-2.56090686, -2.28074285, -0.16435108],\n",
       "       [-2.90706731, -0.29127526, -1.47927882],\n",
       "       [-3.85358021,  0.41904958, -0.58401547],\n",
       "       [-5.11965741, -0.02143609, -0.28981738],\n",
       "       [-5.90659121,  0.74510862,  0.55765981],\n",
       "       [-5.48446604,  1.92555279,  1.11955478],\n",
       "       [-4.20753918,  2.35988136,  0.81672509],\n",
       "       [-3.38593203,  1.60714994, -0.03757332],\n",
       "       [ 4.23889369, -1.37248199,  1.07889798],\n",
       "       [ 5.50444219, -1.26914233,  0.98662423],\n",
       "       [ 3.817231  , -2.70235446,  1.33429059],\n",
       "       [ 2.87987403,  1.94582761, -0.13803015]])"
      ]
     },
     "execution_count": 46,
     "metadata": {},
     "output_type": "execute_result"
    }
   ],
   "source": [
    "conf = molecule_3d.GetConformer()\n",
    "pos = np.array([conf.GetAtomPosition(idx) for idx, symbol in atom_info])\n",
    "print(f'3d coordinates ({len(pos)}):')\n",
    "pos"
   ]
  },
  {
   "cell_type": "code",
   "execution_count": 47,
   "metadata": {
    "ExecuteTime": {
     "end_time": "2024-11-29T08:24:08.285940Z",
     "start_time": "2024-11-29T08:24:08.281114Z"
    }
   },
   "outputs": [
    {
     "data": {
      "text/plain": [
       "Data(x=[23, 9], edge_index=[2, 50], edge_attr=[50, 3], smiles='CC1([C@@H](N2[C@H](S1)[C@@H](C2=O)NC(=O)CC3=CC=CC=C3)C(=O)O)C', pos=[23, 3])"
      ]
     },
     "execution_count": 47,
     "metadata": {},
     "output_type": "execute_result"
    }
   ],
   "source": [
    "graph_data.pos = pos\n",
    "graph_data"
   ]
  },
  {
   "cell_type": "markdown",
   "metadata": {},
   "source": [
    "## 3) 다양한 형태 변환을 할 수 있는 전체 함수\n",
    "\n",
    "앞서 배운 다양한 분자 데이터 변환 방식들을 하나의 함수로 통합하여, 원하는 변환 방식을 선택하면 그에 맞게 변환된 결과를 출력할 수 있도록 구현해보자.\n",
    "\n",
    "> **Tip**: 여러 개의 분자를 한꺼번에 변환할 수 있도록, 함수는 SMILES 문자열들을 리스트로 입력받을 수 있도록 작성한다."
   ]
  },
  {
   "cell_type": "code",
   "execution_count": 48,
   "metadata": {
    "ExecuteTime": {
     "end_time": "2024-11-29T08:24:21.525980Z",
     "start_time": "2024-11-29T08:24:21.519684Z"
    }
   },
   "outputs": [],
   "source": [
    "from torch_geometric.data import Data\n",
    "\n",
    "def transform_mol(molecule_smiles, choice):\n",
    "    mols = [Chem.MolFromSmiles(mol) for mol in molecule_smiles]\n",
    "    \n",
    "    # string tokenization\n",
    "    if choice == 'string_tokenization': # vocab dictionary, encoded smiles를 출력\n",
    "        vocab = []\n",
    "        max_len = 0\n",
    "        tokenizer = BasicSmilesTokenizer()\n",
    "        for smi in molecule_smiles:\n",
    "            tokens = tokenizer.tokenize(smi)\n",
    "            max_len = max(max_len, len(tokens))\n",
    "            vocab += tokens\n",
    "            \n",
    "        uniq_vocab = sorted(set(vocab))\n",
    "        smiles_vocab = {v: i for i, v in enumerate(uniq_vocab)}\n",
    "        smiles_vocab['Unk'] = len(smiles_vocab)\n",
    "        \n",
    "        encoded_smiles = [[smiles_vocab.get(token, smiles_vocab['Unk']) for token in tokenizer.tokenize(smi)] for smi in molecule_smiles]\n",
    "        smiles_vec = []\n",
    "        for vec in encoded_smiles:\n",
    "            pad_len = max_len - len(vec)\n",
    "            vec = vec + ([0] * pad_len)\n",
    "            smiles_vec.append(vec)\n",
    "        smiles_vec = np.array(smiles_vec)\n",
    "        return smiles_vocab, smiles_vec\n",
    "\n",
    "    # 2D Graph\n",
    "    elif choice == '2D_graph':\n",
    "        graph_data = [pyg_utils.from_smiles(smi) for smi in molecule_smiles]\n",
    "        return graph_data\n",
    "\n",
    "    # 3D Graph\n",
    "    elif choice == '3D_graph':\n",
    "        graph_3d = []\n",
    "        for smi in molecule_smiles:\n",
    "            graph_data = pyg_utils.from_smiles(smi)\n",
    "            \n",
    "            mol = Chem.MolFromSmiles(smi)\n",
    "            atom_info = [(atom.GetIdx(), atom.GetSymbol()) for atom in mol.GetAtoms()]\n",
    "                     \n",
    "            mol = AllChem.AddHs(mol, addCoords=True)\n",
    "            rdDistGeom.EmbedMolecule(mol)\n",
    "    \n",
    "            conf = mol.GetConformer()\n",
    "            pos = np.array([conf.GetAtomPosition(idx) for idx, symbol in atom_info])\n",
    "            graph_data.pos = pos\n",
    "            graph_3d.append(graph_data)\n",
    "        return graph_3d\n",
    "    \n",
    "    # Fingerprint\n",
    "    elif 'fingerprint' in choice:\n",
    "        if choice == 'rdkit_fingerprint':\n",
    "            fp = [Chem.RDKFingerprint(mol) for mol in mols]\n",
    "        \n",
    "        elif choice == 'maccs_fingerprint':\n",
    "            fp = [MACCSkeys.GenMACCSKeys(mol) for mol in mols]\n",
    "        \n",
    "        elif choice == 'morgan_fingerprint':\n",
    "            fp = [AllChem.GetMorganFingerprintAsBitVect(mol, radius=2, nBits=1024) for mol in mols]\n",
    "\n",
    "        return torch.tensor(fp)\n",
    "\n",
    "    # Descriptors\n",
    "    elif choice == 'descriptors':\n",
    "        # 모델 학습을 위해서는 스케일링 작업이 별도로 필요하다는 것을 기억하자!\n",
    "        return [Descriptors.CalcMolDescriptors(mol) for mol in mols] \n",
    "    \n",
    "    # 2D image로 변환\n",
    "    elif choice == '2D_image':\n",
    "        for idx, mol in enumerate(mols):\n",
    "            img = Draw.MolToImage(mol)\n",
    "            img.save(f\"molecule_2D_{idx}.png\") # 2D image 저장\n",
    "            print(f\"Saved molecule_2D_{idx}.png...\")\n",
    "\n",
    "    # 3D image로 변환\n",
    "    elif choice == '3D_image':\n",
    "        for idx, mol in enumerate(mols):\n",
    "            molecule_with_h = AllChem.AddHs(mol, addCoords=True)\n",
    "            rdDistGeom.EmbedMolecule(molecule_with_h)\n",
    "    \n",
    "            # Convert to 3D coordinates for visualization\n",
    "            conf = molecule_with_h.GetConformer()\n",
    "            atoms = molecule_with_h.GetAtoms()\n",
    "            bonds = molecule_with_h.GetBonds()\n",
    "    \n",
    "            # Visualize in 3D using py3Dmol\n",
    "            view = py3Dmol.view(width=400, height=400)\n",
    "    \n",
    "            for atom in atoms:\n",
    "                pos = conf.GetAtomPosition(atom.GetIdx())\n",
    "                view.addSphere({\n",
    "                    \"center\": {\"x\": pos.x, \"y\": pos.y, \"z\": pos.z},\n",
    "                    \"radius\": 0.3,\n",
    "                    \"color\": \"blue\" if atom.GetSymbol() == \"H\" else \"gray\",\n",
    "                })\n",
    "    \n",
    "            for bond in bonds:\n",
    "                begin = bond.GetBeginAtomIdx()\n",
    "                end = bond.GetEndAtomIdx()\n",
    "                pos1 = conf.GetAtomPosition(begin)\n",
    "                pos2 = conf.GetAtomPosition(end)\n",
    "                view.addCylinder({\n",
    "                    \"start\": {\"x\": pos1.x, \"y\": pos1.y, \"z\": pos1.z},\n",
    "                    \"end\": {\"x\": pos2.x, \"y\": pos2.y, \"z\": pos2.z},\n",
    "                    \"radius\": 0.1,\n",
    "                    \"color\": \"black\",\n",
    "                })\n",
    "            with open(f\"molecule_3D_{idx}.html\", \"w\") as f: # 3D image 저장\n",
    "                f.write(view._make_html())\n",
    "            print(f\"Saved molecule_3D_{idx}.html...\")"
   ]
  },
  {
   "cell_type": "code",
   "execution_count": 49,
   "metadata": {},
   "outputs": [
    {
     "data": {
      "text/plain": [
       "({'(': 0,\n",
       "  ')': 1,\n",
       "  '1': 2,\n",
       "  '2': 3,\n",
       "  '3': 4,\n",
       "  '=': 5,\n",
       "  'C': 6,\n",
       "  'N': 7,\n",
       "  'O': 8,\n",
       "  'S': 9,\n",
       "  '[C@@H]': 10,\n",
       "  '[C@H]': 11,\n",
       "  'Unk': 12},\n",
       " array([[ 6,  6,  2,  0, 10,  0,  7,  3, 11,  0,  9,  2,  1, 10,  0,  6,\n",
       "          3,  5,  8,  1,  7,  6,  0,  5,  8,  1,  6,  6,  4,  5,  6,  6,\n",
       "          5,  6,  6,  5,  6,  4,  1,  6,  0,  5,  8,  1,  8,  1,  6],\n",
       "        [ 6,  6,  0,  5,  8,  1,  8,  6,  2,  5,  6,  6,  5,  6,  6,  5,\n",
       "          6,  2,  6,  0,  5,  8,  1,  8,  0,  0,  0,  0,  0,  0,  0,  0,\n",
       "          0,  0,  0,  0,  0,  0,  0,  0,  0,  0,  0,  0,  0,  0,  0]]))"
      ]
     },
     "execution_count": 49,
     "metadata": {},
     "output_type": "execute_result"
    }
   ],
   "source": [
    "smiles_vocab, smiles_token = transform_mol([molecule_smiles, aspirin], 'string_tokenization')\n",
    "smiles_vocab, smiles_token"
   ]
  },
  {
   "cell_type": "code",
   "execution_count": 50,
   "metadata": {},
   "outputs": [
    {
     "data": {
      "text/plain": [
       "tensor([[0, 0, 0,  ..., 0, 0, 0],\n",
       "        [0, 0, 0,  ..., 0, 0, 0]])"
      ]
     },
     "execution_count": 50,
     "metadata": {},
     "output_type": "execute_result"
    }
   ],
   "source": [
    "fingerprint = transform_mol([molecule_smiles, aspirin], 'morgan_fingerprint')\n",
    "fingerprint"
   ]
  },
  {
   "cell_type": "code",
   "execution_count": 51,
   "metadata": {},
   "outputs": [
    {
     "data": {
      "text/plain": [
       "{'MaxAbsEStateIndex': 12.268318846056943,\n",
       " 'MaxEStateIndex': 12.268318846056943,\n",
       " 'MinAbsEStateIndex': 0.20214151864449437,\n",
       " 'MinEStateIndex': -1.007025845576982,\n",
       " 'qed': 0.7977632704521286,\n",
       " 'SPS': 28.0,\n",
       " 'MolWt': 334.39700000000005,\n",
       " 'HeavyAtomMolWt': 316.25300000000004,\n",
       " 'ExactMolWt': 334.09872805599997,\n",
       " 'NumValenceElectrons': 122,\n",
       " 'NumRadicalElectrons': 0,\n",
       " 'MaxPartialCharge': 0.3273993847026587,\n",
       " 'MinPartialCharge': -0.4796728023655438,\n",
       " 'MaxAbsPartialCharge': 0.4796728023655438,\n",
       " 'MinAbsPartialCharge': 0.3273993847026587,\n",
       " 'FpDensityMorgan1': 1.3043478260869565,\n",
       " 'FpDensityMorgan2': 1.9565217391304348,\n",
       " 'FpDensityMorgan3': 2.5652173913043477,\n",
       " 'BCUT2D_MWHI': 32.16690614916108,\n",
       " 'BCUT2D_MWLOW': 9.956816977411961,\n",
       " 'BCUT2D_CHGHI': 2.6362075433409933,\n",
       " 'BCUT2D_CHGLO': -2.4313369018698783,\n",
       " 'BCUT2D_LOGPHI': 2.5022450893783947,\n",
       " 'BCUT2D_LOGPLOW': -2.7029184926640752,\n",
       " 'BCUT2D_MRHI': 8.013146257169787,\n",
       " 'BCUT2D_MRLOW': -0.16058803827234566,\n",
       " 'AvgIpc': 2.741987834077,\n",
       " 'BalabanJ': 1.66490359617118,\n",
       " 'BertzCT': 661.3038986246087,\n",
       " 'Chi0': 16.775656403009393,\n",
       " 'Chi0n': 12.853329287558925,\n",
       " 'Chi0v': 13.669825868486651,\n",
       " 'Chi1': 10.809367635193633,\n",
       " 'Chi1n': 7.371634471739615,\n",
       " 'Chi1v': 8.25128728299451,\n",
       " 'Chi2n': 6.305705976733618,\n",
       " 'Chi2v': 8.07659111610618,\n",
       " 'Chi3n': 4.198926417267648,\n",
       " 'Chi3v': 5.770457012115133,\n",
       " 'Chi4n': 3.1511383951469214,\n",
       " 'Chi4v': 4.77653498475625,\n",
       " 'HallKierAlpha': -2.0199999999999996,\n",
       " 'Ipc': 129114.72313101777,\n",
       " 'Kappa1': 15.859752401338886,\n",
       " 'Kappa2': 5.559882097428593,\n",
       " 'Kappa3': 2.6923858356032686,\n",
       " 'LabuteASA': 137.78076788790858,\n",
       " 'PEOE_VSA1': 15.323225729697514,\n",
       " 'PEOE_VSA10': 17.45755447126466,\n",
       " 'PEOE_VSA11': 0.0,\n",
       " 'PEOE_VSA12': 11.814359458703011,\n",
       " 'PEOE_VSA13': 0.0,\n",
       " 'PEOE_VSA14': 5.969305287951849,\n",
       " 'PEOE_VSA2': 9.589074368143644,\n",
       " 'PEOE_VSA3': 4.794537184071822,\n",
       " 'PEOE_VSA4': 0.0,\n",
       " 'PEOE_VSA5': 11.761884949391115,\n",
       " 'PEOE_VSA6': 30.33183534230805,\n",
       " 'PEOE_VSA7': 19.410925891078243,\n",
       " 'PEOE_VSA8': 4.747022453217559,\n",
       " 'PEOE_VSA9': 6.4208216229260096,\n",
       " 'SMR_VSA1': 19.490138947056174,\n",
       " 'SMR_VSA10': 29.545549696045974,\n",
       " 'SMR_VSA2': 0.0,\n",
       " 'SMR_VSA3': 10.216698334856808,\n",
       " 'SMR_VSA4': 0.0,\n",
       " 'SMR_VSA5': 42.47287294678948,\n",
       " 'SMR_VSA6': 0.0,\n",
       " 'SMR_VSA7': 35.89528683400505,\n",
       " 'SMR_VSA8': 0.0,\n",
       " 'SMR_VSA9': 0.0,\n",
       " 'SlogP_VSA1': 5.316788604006331,\n",
       " 'SlogP_VSA10': 0.0,\n",
       " 'SlogP_VSA11': 0.0,\n",
       " 'SlogP_VSA12': 11.761884949391115,\n",
       " 'SlogP_VSA2': 49.99467879682826,\n",
       " 'SlogP_VSA3': 20.804433175141476,\n",
       " 'SlogP_VSA4': 0.0,\n",
       " 'SlogP_VSA5': 19.410925891078243,\n",
       " 'SlogP_VSA6': 30.33183534230805,\n",
       " 'SlogP_VSA7': 0.0,\n",
       " 'SlogP_VSA8': 0.0,\n",
       " 'SlogP_VSA9': 0.0,\n",
       " 'TPSA': 86.71000000000001,\n",
       " 'EState_VSA1': 22.80000939946533,\n",
       " 'EState_VSA10': 19.490138947056174,\n",
       " 'EState_VSA11': 0.0,\n",
       " 'EState_VSA2': 23.60905389459776,\n",
       " 'EState_VSA3': 0.0,\n",
       " 'EState_VSA4': 5.563451491696996,\n",
       " 'EState_VSA5': 16.66179468024159,\n",
       " 'EState_VSA6': 0.0,\n",
       " 'EState_VSA7': 44.179309741689295,\n",
       " 'EState_VSA8': 5.316788604006331,\n",
       " 'EState_VSA9': 0.0,\n",
       " 'VSA_EState1': -0.5783058915140895,\n",
       " 'VSA_EState10': 1.4237074305030653,\n",
       " 'VSA_EState2': 37.19097428557031,\n",
       " 'VSA_EState3': 11.789438746504459,\n",
       " 'VSA_EState4': 0.8717091967960026,\n",
       " 'VSA_EState5': -1.5549260303422459,\n",
       " 'VSA_EState6': 7.784420219356602,\n",
       " 'VSA_EState7': 0.20214151864449437,\n",
       " 'VSA_EState8': 3.6208405244813977,\n",
       " 'VSA_EState9': 0.0,\n",
       " 'FractionCSP3': 0.4375,\n",
       " 'HeavyAtomCount': 23,\n",
       " 'NHOHCount': 2,\n",
       " 'NOCount': 6,\n",
       " 'NumAliphaticCarbocycles': 0,\n",
       " 'NumAliphaticHeterocycles': 2,\n",
       " 'NumAliphaticRings': 2,\n",
       " 'NumAromaticCarbocycles': 1,\n",
       " 'NumAromaticHeterocycles': 0,\n",
       " 'NumAromaticRings': 1,\n",
       " 'NumHAcceptors': 4,\n",
       " 'NumHDonors': 2,\n",
       " 'NumHeteroatoms': 7,\n",
       " 'NumRotatableBonds': 4,\n",
       " 'NumSaturatedCarbocycles': 0,\n",
       " 'NumSaturatedHeterocycles': 2,\n",
       " 'NumSaturatedRings': 2,\n",
       " 'RingCount': 3,\n",
       " 'MolLogP': 0.8607999999999993,\n",
       " 'MolMR': 85.80450000000003,\n",
       " 'fr_Al_COO': 1,\n",
       " 'fr_Al_OH': 0,\n",
       " 'fr_Al_OH_noTert': 0,\n",
       " 'fr_ArN': 0,\n",
       " 'fr_Ar_COO': 0,\n",
       " 'fr_Ar_N': 0,\n",
       " 'fr_Ar_NH': 0,\n",
       " 'fr_Ar_OH': 0,\n",
       " 'fr_COO': 1,\n",
       " 'fr_COO2': 1,\n",
       " 'fr_C_O': 3,\n",
       " 'fr_C_O_noCOO': 2,\n",
       " 'fr_C_S': 0,\n",
       " 'fr_HOCCN': 0,\n",
       " 'fr_Imine': 0,\n",
       " 'fr_NH0': 1,\n",
       " 'fr_NH1': 1,\n",
       " 'fr_NH2': 0,\n",
       " 'fr_N_O': 0,\n",
       " 'fr_Ndealkylation1': 0,\n",
       " 'fr_Ndealkylation2': 0,\n",
       " 'fr_Nhpyrrole': 0,\n",
       " 'fr_SH': 0,\n",
       " 'fr_aldehyde': 0,\n",
       " 'fr_alkyl_carbamate': 0,\n",
       " 'fr_alkyl_halide': 0,\n",
       " 'fr_allylic_oxid': 0,\n",
       " 'fr_amide': 2,\n",
       " 'fr_amidine': 0,\n",
       " 'fr_aniline': 0,\n",
       " 'fr_aryl_methyl': 0,\n",
       " 'fr_azide': 0,\n",
       " 'fr_azo': 0,\n",
       " 'fr_barbitur': 0,\n",
       " 'fr_benzene': 1,\n",
       " 'fr_benzodiazepine': 0,\n",
       " 'fr_bicyclic': 1,\n",
       " 'fr_diazo': 0,\n",
       " 'fr_dihydropyridine': 0,\n",
       " 'fr_epoxide': 0,\n",
       " 'fr_ester': 0,\n",
       " 'fr_ether': 0,\n",
       " 'fr_furan': 0,\n",
       " 'fr_guanido': 0,\n",
       " 'fr_halogen': 0,\n",
       " 'fr_hdrzine': 0,\n",
       " 'fr_hdrzone': 0,\n",
       " 'fr_imidazole': 0,\n",
       " 'fr_imide': 0,\n",
       " 'fr_isocyan': 0,\n",
       " 'fr_isothiocyan': 0,\n",
       " 'fr_ketone': 0,\n",
       " 'fr_ketone_Topliss': 0,\n",
       " 'fr_lactam': 1,\n",
       " 'fr_lactone': 0,\n",
       " 'fr_methoxy': 0,\n",
       " 'fr_morpholine': 0,\n",
       " 'fr_nitrile': 0,\n",
       " 'fr_nitro': 0,\n",
       " 'fr_nitro_arom': 0,\n",
       " 'fr_nitro_arom_nonortho': 0,\n",
       " 'fr_nitroso': 0,\n",
       " 'fr_oxazole': 0,\n",
       " 'fr_oxime': 0,\n",
       " 'fr_para_hydroxylation': 0,\n",
       " 'fr_phenol': 0,\n",
       " 'fr_phenol_noOrthoHbond': 0,\n",
       " 'fr_phos_acid': 0,\n",
       " 'fr_phos_ester': 0,\n",
       " 'fr_piperdine': 0,\n",
       " 'fr_piperzine': 0,\n",
       " 'fr_priamide': 0,\n",
       " 'fr_prisulfonamd': 0,\n",
       " 'fr_pyridine': 0,\n",
       " 'fr_quatN': 0,\n",
       " 'fr_sulfide': 1,\n",
       " 'fr_sulfonamd': 0,\n",
       " 'fr_sulfone': 0,\n",
       " 'fr_term_acetylene': 0,\n",
       " 'fr_tetrazole': 0,\n",
       " 'fr_thiazole': 0,\n",
       " 'fr_thiocyan': 0,\n",
       " 'fr_thiophene': 0,\n",
       " 'fr_unbrch_alkane': 0,\n",
       " 'fr_urea': 0}"
      ]
     },
     "execution_count": 51,
     "metadata": {},
     "output_type": "execute_result"
    }
   ],
   "source": [
    "descriptors = transform_mol([molecule_smiles, aspirin], 'descriptors')\n",
    "descriptors[0]"
   ]
  },
  {
   "cell_type": "code",
   "execution_count": 52,
   "metadata": {},
   "outputs": [
    {
     "name": "stdout",
     "output_type": "stream",
     "text": [
      "Saved molecule_2D_0.png...\n",
      "Saved molecule_2D_1.png...\n"
     ]
    }
   ],
   "source": [
    "image_2d = transform_mol([molecule_smiles, aspirin], '2D_image')"
   ]
  },
  {
   "cell_type": "code",
   "execution_count": 53,
   "metadata": {},
   "outputs": [
    {
     "name": "stdout",
     "output_type": "stream",
     "text": [
      "Saved molecule_3D_0.html...\n",
      "Saved molecule_3D_1.html...\n"
     ]
    }
   ],
   "source": [
    "image_3d = transform_mol([molecule_smiles, aspirin], '3D_image')"
   ]
  },
  {
   "cell_type": "code",
   "execution_count": 54,
   "metadata": {
    "ExecuteTime": {
     "end_time": "2024-11-29T08:24:22.262806Z",
     "start_time": "2024-11-29T08:24:22.258255Z"
    }
   },
   "outputs": [
    {
     "data": {
      "text/plain": [
       "[Data(x=[23, 55], edge_index=[2, 50]), Data(x=[13, 55], edge_index=[2, 26])]"
      ]
     },
     "execution_count": 54,
     "metadata": {},
     "output_type": "execute_result"
    }
   ],
   "source": [
    "graph_2D = transform_mol([molecule_smiles, aspirin], '2D_graph')\n",
    "graph_2D"
   ]
  },
  {
   "cell_type": "code",
   "execution_count": 55,
   "metadata": {
    "ExecuteTime": {
     "end_time": "2024-11-29T08:24:23.735301Z",
     "start_time": "2024-11-29T08:24:23.707691Z"
    }
   },
   "outputs": [
    {
     "data": {
      "text/plain": [
       "[Data(x=[23, 55], edge_index=[2, 50], pos=[23, 3]),\n",
       " Data(x=[13, 55], edge_index=[2, 26], pos=[13, 3])]"
      ]
     },
     "execution_count": 55,
     "metadata": {},
     "output_type": "execute_result"
    }
   ],
   "source": [
    "graph_3D = transform_mol([molecule_smiles, aspirin], '3D_graph')\n",
    "graph_3D"
   ]
  },
  {
   "cell_type": "code",
   "execution_count": null,
   "metadata": {},
   "outputs": [],
   "source": []
  }
 ],
 "metadata": {
  "kernelspec": {
   "display_name": "Python 3 (ipykernel)",
   "language": "python",
   "name": "python3"
  },
  "language_info": {
   "codemirror_mode": {
    "name": "ipython",
    "version": 3
   },
   "file_extension": ".py",
   "mimetype": "text/x-python",
   "name": "python",
   "nbconvert_exporter": "python",
   "pygments_lexer": "ipython3",
   "version": "3.12.7"
  }
 },
 "nbformat": 4,
 "nbformat_minor": 4
}

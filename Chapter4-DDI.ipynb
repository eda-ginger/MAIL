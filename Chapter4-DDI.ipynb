{
 "cells": [
  {
   "cell_type": "markdown",
   "metadata": {},
   "source": [
    "# Chapter 4: DDI 모델 학습 실행하기\n",
    "\n",
    "1. **데이터 전처리**\n",
    "    - 사용할 DDI 데이터셋을 확인하고, 모델에 적합한 형태로 데이터 변환\n",
    "---\n",
    "2. **DDI 모델 구조 파악**\n",
    "    - SSI-DDI 모델의 각 부분을 살펴보고 어떤 기능을 수행하는지 파악\n",
    "---\n",
    "3. **모델 학습 실행하기**\n",
    "    - SSI-DDI 모델을 사용해서 모델 학습 진행\n",
    "---\n",
    "4. **모델 Test하고 성능 저장하기**\n",
    "    - 모델을 테스트하고 최적 성능 저장"
   ]
  },
  {
   "cell_type": "code",
   "execution_count": null,
   "metadata": {},
   "outputs": [],
   "source": [
    "# # 셀 실행 후 Kernel Restart\n",
    "# !pip install tabulate"
   ]
  },
  {
   "cell_type": "code",
   "execution_count": 1,
   "metadata": {},
   "outputs": [],
   "source": [
    "import warnings\n",
    "from rdkit import RDLogger\n",
    "\n",
    "warnings.simplefilter(action='ignore', category=FutureWarning)\n",
    "RDLogger.DisableLog('rdApp.*')"
   ]
  },
  {
   "cell_type": "code",
   "execution_count": 2,
   "metadata": {},
   "outputs": [
    {
     "name": "stdout",
     "output_type": "stream",
     "text": [
      "2024.03.5\n"
     ]
    }
   ],
   "source": [
    "import os\n",
    "import math\n",
    "import time\n",
    "import rdkit\n",
    "import torch\n",
    "import random\n",
    "import numpy as np\n",
    "import pandas as pd\n",
    "import seaborn as sns\n",
    "from rdkit import Chem\n",
    "from sklearn import metrics\n",
    "from torch import nn, optim\n",
    "from tabulate import tabulate\n",
    "from datetime import datetime\n",
    "import torch.nn.functional as F\n",
    "import matplotlib.pyplot as plt\n",
    "from collections import defaultdict\n",
    "from torch.nn.modules.container import ModuleList\n",
    "from torch_geometric.nn import (GATConv,\n",
    "                                SAGPooling,\n",
    "                                LayerNorm,\n",
    "                                global_add_pool)\n",
    "from torch.utils.data import Dataset, DataLoader\n",
    "from torch_geometric.data import Data, DataLoader, Batch\n",
    "\n",
    "print(rdkit.__version__)"
   ]
  },
  {
   "cell_type": "markdown",
   "metadata": {},
   "source": [
    "## 1) 데이터 전처리\n",
    "\n",
    "본 튜토리얼 코드에서 사용할 DrugBank 데이터셋은 86가지의 상호작용 타입을 가진 약물 쌍 데이터셋이다.   \n",
    "\n",
    "각 약물은 SMILES 문자열로 표현되어있다.   \n",
    "\n",
    "총 191,808개의 약물 쌍이 있고, 1,706가지의 약물이 포함되어있다.   \n",
    "\n",
    "DrugBank 이외에 많이 사용되는 DDI 데이터셋으로는 TWOSIDES, KEGG, SIDER, OFFSIDES, BIOSNAP이 있다.    \n",
    "\n",
    "출처 : https://go.drugbank.com/   "
   ]
  },
  {
   "cell_type": "markdown",
   "metadata": {},
   "source": [
    "### 데이터 불러오기\n",
    "\n",
    "DrugBank 폴더 안의 데이터를 불러오자. "
   ]
  },
  {
   "cell_type": "code",
   "execution_count": 4,
   "metadata": {},
   "outputs": [],
   "source": [
    "train = pd.read_csv('DrugBank/train.csv')\n",
    "valid = pd.read_csv('DrugBank/valid.csv')\n",
    "test = pd.read_csv('DrugBank/test.csv')"
   ]
  },
  {
   "cell_type": "markdown",
   "metadata": {},
   "source": [
    "train의 상위 10개의 데이터셋을 확인하면, 하나의 데이터에 약물 2개와 하나의 Y 라벨이 있는 것을 확인할 수 있다.   \n",
    "\n",
    "각 약물은 Drug ID와 SMILES 문자열로 표시되어있고, Y 라벨은 상호작용 타입을 나타낸다. \n",
    "\n",
    "> **Tip**: 현재 사용하고있는 DrugBank 데이터셋은 상호작용 타입이  1부터 86까지로 라벨링 되어있다.    \n",
    "하지만 데이터셋에 따라 0부터 라벨링을 시작할 수 있으므로 label description을 잘 읽어보자!"
   ]
  },
  {
   "cell_type": "code",
   "execution_count": 5,
   "metadata": {},
   "outputs": [
    {
     "data": {
      "text/html": [
       "<div>\n",
       "<style scoped>\n",
       "    .dataframe tbody tr th:only-of-type {\n",
       "        vertical-align: middle;\n",
       "    }\n",
       "\n",
       "    .dataframe tbody tr th {\n",
       "        vertical-align: top;\n",
       "    }\n",
       "\n",
       "    .dataframe thead th {\n",
       "        text-align: right;\n",
       "    }\n",
       "</style>\n",
       "<table border=\"1\" class=\"dataframe\">\n",
       "  <thead>\n",
       "    <tr style=\"text-align: right;\">\n",
       "      <th></th>\n",
       "      <th>Drug1_ID</th>\n",
       "      <th>Drug1</th>\n",
       "      <th>Drug2_ID</th>\n",
       "      <th>Drug2</th>\n",
       "      <th>Y</th>\n",
       "    </tr>\n",
       "  </thead>\n",
       "  <tbody>\n",
       "    <tr>\n",
       "      <th>0</th>\n",
       "      <td>DB04571</td>\n",
       "      <td>CC1=CC2=CC3=C(OC(=O)C=C3C)C(C)=C2O1</td>\n",
       "      <td>DB00460</td>\n",
       "      <td>COC(=O)CCC1=C2NC(\\C=C3/N=C(/C=C4\\N\\C(=C/C5=N/C...</td>\n",
       "      <td>1</td>\n",
       "    </tr>\n",
       "    <tr>\n",
       "      <th>1</th>\n",
       "      <td>DB09536</td>\n",
       "      <td>O=[Ti]=O</td>\n",
       "      <td>DB00460</td>\n",
       "      <td>COC(=O)CCC1=C2NC(\\C=C3/N=C(/C=C4\\N\\C(=C/C5=N/C...</td>\n",
       "      <td>1</td>\n",
       "    </tr>\n",
       "    <tr>\n",
       "      <th>2</th>\n",
       "      <td>DB01600</td>\n",
       "      <td>CC(C(O)=O)C1=CC=C(S1)C(=O)C1=CC=CC=C1</td>\n",
       "      <td>DB00460</td>\n",
       "      <td>COC(=O)CCC1=C2NC(\\C=C3/N=C(/C=C4\\N\\C(=C/C5=N/C...</td>\n",
       "      <td>1</td>\n",
       "    </tr>\n",
       "    <tr>\n",
       "      <th>3</th>\n",
       "      <td>DB09000</td>\n",
       "      <td>CC(CN(C)C)CN1C2=CC=CC=C2SC2=C1C=C(C=C2)C#N</td>\n",
       "      <td>DB00460</td>\n",
       "      <td>COC(=O)CCC1=C2NC(\\C=C3/N=C(/C=C4\\N\\C(=C/C5=N/C...</td>\n",
       "      <td>1</td>\n",
       "    </tr>\n",
       "    <tr>\n",
       "      <th>4</th>\n",
       "      <td>DB11630</td>\n",
       "      <td>OC1=CC=CC(=C1)C-1=C2\\CCC(=N2)\\C(=C2/N\\C(\\C=C2)...</td>\n",
       "      <td>DB00460</td>\n",
       "      <td>COC(=O)CCC1=C2NC(\\C=C3/N=C(/C=C4\\N\\C(=C/C5=N/C...</td>\n",
       "      <td>1</td>\n",
       "    </tr>\n",
       "    <tr>\n",
       "      <th>5</th>\n",
       "      <td>DB06261</td>\n",
       "      <td>[H]N([H])CC(=O)CCC(=O)OCCCCCC</td>\n",
       "      <td>DB00460</td>\n",
       "      <td>COC(=O)CCC1=C2NC(\\C=C3/N=C(/C=C4\\N\\C(=C/C5=N/C...</td>\n",
       "      <td>1</td>\n",
       "    </tr>\n",
       "    <tr>\n",
       "      <th>6</th>\n",
       "      <td>DB01878</td>\n",
       "      <td>O=C(C1=CC=CC=C1)C1=CC=CC=C1</td>\n",
       "      <td>DB00460</td>\n",
       "      <td>COC(=O)CCC1=C2NC(\\C=C3/N=C(/C=C4\\N\\C(=C/C5=N/C...</td>\n",
       "      <td>1</td>\n",
       "    </tr>\n",
       "    <tr>\n",
       "      <th>7</th>\n",
       "      <td>DB00140</td>\n",
       "      <td>CC1=C(C)C=C2N(C[C@H](O)[C@H](O)[C@H](O)CO)C3=N...</td>\n",
       "      <td>DB00460</td>\n",
       "      <td>COC(=O)CCC1=C2NC(\\C=C3/N=C(/C=C4\\N\\C(=C/C5=N/C...</td>\n",
       "      <td>1</td>\n",
       "    </tr>\n",
       "    <tr>\n",
       "      <th>8</th>\n",
       "      <td>DB00821</td>\n",
       "      <td>CC(C(O)=O)C1=CC2=C(C=C1)C1=C(N2)C=CC(Cl)=C1</td>\n",
       "      <td>DB00460</td>\n",
       "      <td>COC(=O)CCC1=C2NC(\\C=C3/N=C(/C=C4\\N\\C(=C/C5=N/C...</td>\n",
       "      <td>1</td>\n",
       "    </tr>\n",
       "    <tr>\n",
       "      <th>9</th>\n",
       "      <td>DB01116</td>\n",
       "      <td>O=C1N(CC2=CC=CC=C2)C2C[S+]3CCCC3C2N1CC1=CC=CC=C1</td>\n",
       "      <td>DB06148</td>\n",
       "      <td>CN1CCN2C(C1)C1=CC=CC=C1CC1=CC=CC=C21</td>\n",
       "      <td>2</td>\n",
       "    </tr>\n",
       "  </tbody>\n",
       "</table>\n",
       "</div>"
      ],
      "text/plain": [
       "  Drug1_ID                                              Drug1 Drug2_ID  \\\n",
       "0  DB04571                CC1=CC2=CC3=C(OC(=O)C=C3C)C(C)=C2O1  DB00460   \n",
       "1  DB09536                                           O=[Ti]=O  DB00460   \n",
       "2  DB01600              CC(C(O)=O)C1=CC=C(S1)C(=O)C1=CC=CC=C1  DB00460   \n",
       "3  DB09000         CC(CN(C)C)CN1C2=CC=CC=C2SC2=C1C=C(C=C2)C#N  DB00460   \n",
       "4  DB11630  OC1=CC=CC(=C1)C-1=C2\\CCC(=N2)\\C(=C2/N\\C(\\C=C2)...  DB00460   \n",
       "5  DB06261                      [H]N([H])CC(=O)CCC(=O)OCCCCCC  DB00460   \n",
       "6  DB01878                        O=C(C1=CC=CC=C1)C1=CC=CC=C1  DB00460   \n",
       "7  DB00140  CC1=C(C)C=C2N(C[C@H](O)[C@H](O)[C@H](O)CO)C3=N...  DB00460   \n",
       "8  DB00821        CC(C(O)=O)C1=CC2=C(C=C1)C1=C(N2)C=CC(Cl)=C1  DB00460   \n",
       "9  DB01116   O=C1N(CC2=CC=CC=C2)C2C[S+]3CCCC3C2N1CC1=CC=CC=C1  DB06148   \n",
       "\n",
       "                                               Drug2  Y  \n",
       "0  COC(=O)CCC1=C2NC(\\C=C3/N=C(/C=C4\\N\\C(=C/C5=N/C...  1  \n",
       "1  COC(=O)CCC1=C2NC(\\C=C3/N=C(/C=C4\\N\\C(=C/C5=N/C...  1  \n",
       "2  COC(=O)CCC1=C2NC(\\C=C3/N=C(/C=C4\\N\\C(=C/C5=N/C...  1  \n",
       "3  COC(=O)CCC1=C2NC(\\C=C3/N=C(/C=C4\\N\\C(=C/C5=N/C...  1  \n",
       "4  COC(=O)CCC1=C2NC(\\C=C3/N=C(/C=C4\\N\\C(=C/C5=N/C...  1  \n",
       "5  COC(=O)CCC1=C2NC(\\C=C3/N=C(/C=C4\\N\\C(=C/C5=N/C...  1  \n",
       "6  COC(=O)CCC1=C2NC(\\C=C3/N=C(/C=C4\\N\\C(=C/C5=N/C...  1  \n",
       "7  COC(=O)CCC1=C2NC(\\C=C3/N=C(/C=C4\\N\\C(=C/C5=N/C...  1  \n",
       "8  COC(=O)CCC1=C2NC(\\C=C3/N=C(/C=C4\\N\\C(=C/C5=N/C...  1  \n",
       "9               CN1CCN2C(C1)C1=CC=CC=C1CC1=CC=CC=C21  2  "
      ]
     },
     "execution_count": 5,
     "metadata": {},
     "output_type": "execute_result"
    }
   ],
   "source": [
    "train.head(10)"
   ]
  },
  {
   "cell_type": "markdown",
   "metadata": {},
   "source": [
    "데이터셋을 본격적으로 사용하기 전에, RDKit 버전에 따라 처리되지 않는 SMILES 문자열이 있다.   \n",
    "\n",
    "전처리 과정에서 그러한 문자열을 제거해야한다.\n",
    "\n",
    "remove_smiles.py 파일에 RDKit 버전에 맞지 않는 데이터를 제거하는 코드가 구현되어 있으므로 한번 사용해보자!\n",
    "\n",
    "해당 파일을 실행하면 기존 데이터 폴더 안에 clean_smi라는 이름의 폴더가 생성되고, 그 안에 처리된 train, valid, test 파일이 생성된다.   \n",
    "\n",
    "또한 전처리를 위한 모든 약물 쌍이 들어있는 파일, 약물 ID와 SMILES 문자열이 들어있는 파일이 utils 폴더 내에 생성된다.   \n",
    "\n",
    "> **Tip**: ! python remove_smiles.py [train, valid, test 파일이 들어있는 폴더]   \n",
    "코드를 실행하면 버전에 맞지 않는 데이터가 제거된 train, valid, test파일은 기존 폴더 안의 clean_smi 폴더 안에 들어있다."
   ]
  },
  {
   "cell_type": "code",
   "execution_count": 6,
   "metadata": {},
   "outputs": [
    {
     "name": "stdout",
     "output_type": "stream",
     "text": [
      "Processing folder: DrugBank\n",
      "Read train: 134265, valid: 19181, test: 38362\n",
      "Combined total records: 191808\n",
      "100%|█████████████████████████████████| 191808/191808 [00:27<00:00, 6889.20it/s]\n",
      "100%|█████████████████████████████████| 191808/191808 [00:28<00:00, 6698.34it/s]\n",
      "Removed invalid SMILES: 10\n",
      "Unique drugs: 1705\n",
      "Cleaned dataset saved to 'DrugBank/clean_smi'\n",
      "all_pairs.csv and all_smiles.csv saved to 'utils'\n"
     ]
    }
   ],
   "source": [
    "! python remove_smiles.py DrugBank utils"
   ]
  },
  {
   "cell_type": "markdown",
   "metadata": {},
   "source": [
    "SSI-DDI 모델에 넣기 위해 해당 모델의 github에서 수행한 데이터 전처리 과정을 따라갈 것이다.    \n",
    "\n",
    "우선 약물 1쌍(2개의 약물)의 Drug ID와 상호작용 타입으로 구성된 데이터를 하나의 튜플로 묶자.  \n",
    "  \n",
    "여기서 h는 head(첫번째 약물), t는 tail(두번째 약물), r은 relation type(상호작용 타입)을 뜻한다.    "
   ]
  },
  {
   "cell_type": "code",
   "execution_count": 7,
   "metadata": {},
   "outputs": [],
   "source": [
    "clean_train = pd.read_csv('DrugBank/clean_smi/train.csv')\n",
    "clean_valid = pd.read_csv('DrugBank/clean_smi/valid.csv')\n",
    "clean_test = pd.read_csv('DrugBank/clean_smi/test.csv')"
   ]
  },
  {
   "cell_type": "code",
   "execution_count": 8,
   "metadata": {},
   "outputs": [],
   "source": [
    "train_tup = [(h, t, r) for h, t, r in zip(clean_train['Drug1_ID'], clean_train['Drug2_ID'], clean_train['Y'])]\n",
    "valid_tup = [(h, t, r) for h, t, r in zip(clean_valid['Drug1_ID'], clean_valid['Drug2_ID'], clean_valid['Y'])]\n",
    "test_tup = [(h, t, r) for h, t, r in zip(clean_test['Drug1_ID'], clean_test['Drug2_ID'], clean_test['Y'])]"
   ]
  },
  {
   "cell_type": "code",
   "execution_count": 9,
   "metadata": {},
   "outputs": [
    {
     "name": "stdout",
     "output_type": "stream",
     "text": [
      "train 데이터셋 크기 : 134256\n",
      "valid 데이터셋 크기 : 19180\n",
      "test 데이터셋 크기 : 38362\n",
      "train : valid : test 비율 :  0.6999864440713668 : 0.10000104276374101 : 0.20001251316489224\n"
     ]
    }
   ],
   "source": [
    "train_len = len(train_tup)\n",
    "valid_len = len(valid_tup)\n",
    "test_len = len(test_tup)\n",
    "total_len = train_len + valid_len + test_len\n",
    "\n",
    "print('train 데이터셋 크기 :', train_len)\n",
    "print('valid 데이터셋 크기 :', valid_len)\n",
    "print('test 데이터셋 크기 :', test_len)\n",
    "\n",
    "print('train : valid : test 비율 : ', train_len/total_len, ':', valid_len/total_len, ':', test_len/total_len)"
   ]
  },
  {
   "cell_type": "markdown",
   "metadata": {},
   "source": [
    "데이터를 전처리 하기 위해 RDKit 등의 도구를 활용해 분자 구조와 관련된 특성을 계산하는 부분은 본 튜토리얼 코드에서는 설명을 생략한다. "
   ]
  },
  {
   "cell_type": "code",
   "execution_count": 10,
   "metadata": {},
   "outputs": [
    {
     "name": "stderr",
     "output_type": "stream",
     "text": [
      "/home/seoziro7777/DDITutorials/utils/data_preprocessing.py:105: UserWarning: The use of `x.T` on tensors of dimension other than 2 to reverse their shape is deprecated and it will throw an error in a future release. Consider `x.mT` to transpose batches of matrices or `x.permute(*torch.arange(x.ndim - 1, -1, -1))` to reverse the dimensions of a tensor. (Triggered internally at ../aten/src/ATen/native/TensorShape.cpp:3697.)\n",
      "  return undirected_edge_list.T, features\n"
     ]
    }
   ],
   "source": [
    "import itertools\n",
    "from collections import defaultdict\n",
    "from operator import neg\n",
    "import random\n",
    "import math\n",
    "import torch\n",
    "from torch.utils.data import Dataset, DataLoader\n",
    "from torch_geometric.data import Data, Batch\n",
    "from rdkit import Chem\n",
    "import pandas as pd\n",
    "import numpy as np\n",
    "\n",
    "from MAIL.utils.data_preprocessing import (\n",
    "    MOL_EDGE_LIST_FEAT_MTX, ALL_DRUG_IDS, ALL_TRUE_H_WITH_TR, ALL_TRUE_T_WITH_HR,\n",
    "    ALL_TAIL_PER_HEAD, ALL_HEAD_PER_TAIL\n",
    ")"
   ]
  },
  {
   "cell_type": "markdown",
   "metadata": {},
   "source": [
    "### Negative Sample 만들기\n",
    "\n",
    "모델에서 train, validation, test를 위해 negative sample을 생성해야한다.    \n",
    "\n",
    "데이터에는 한 쌍의 약물을 동시에 복용했을 때 상호작용이 있는 경우만 들어있으므로, 학습을 위해 `상호작용이 없는 약물 쌍을 전처리 과정에서 생성`해야한다.    \n",
    "\n",
    "본 모델에서는 collate_fn 함수를 사용하여 positive sample과 negative sample을 생성하고, PyTorch Geometric의 Batch 객체로 데이터를 변환한다. \n",
    "\n",
    "collate_fn 함수를 살펴보기 전에, 우선 DrugDataset 클래스 내에서 사용되는 __create_graph_data, __corrupt_ent, __corrupt_head, __corrupt_tail, __normal_batch에 대해서 살펴보자. "
   ]
  },
  {
   "cell_type": "markdown",
   "metadata": {},
   "source": [
    "#### 1. __create_graph_data   \n",
    "\n",
    "약물의 ID를 입력받아 그래프 데이터를 생성함.    "
   ]
  },
  {
   "cell_type": "code",
   "execution_count": 11,
   "metadata": {},
   "outputs": [],
   "source": [
    "def __create_graph_data(self, id):\n",
    "        edge_index = MOL_EDGE_LIST_FEAT_MTX[id][0]\n",
    "        features = MOL_EDGE_LIST_FEAT_MTX[id][1]\n",
    "\n",
    "        return Data(x=features, edge_index=edge_index)"
   ]
  },
  {
   "cell_type": "markdown",
   "metadata": {},
   "source": [
    "#### 2. __corrupt_ent\n",
    "\n",
    "Negative Sampling을 위해 head와 tail 쌍과 관계가 없는 무작위 다른 약물을 샘플링함.      \n",
    "무작위로 선택한 약물이 관계가 있을 수 있으므로 그런 약물은 제외하고 Negative Sample을 생성   \n",
    "\n",
    "`np.random.choice(self.drug_ids, ...)` : 전체 약물 ID 중에서 무작위로 후보를 선택   \n",
    "\n",
    "`other_ent_with_r_dict` : 관계 r에서 other_ent와 관계가 있는 약물 목록을 저장한 딕셔너리   \n",
    "\n",
    "`np.isin(candidates, ..., invert=True)` : 후보 약물 중에서 이미 other_ent와 관계가 있는 약물을 제외   \n"
   ]
  },
  {
   "cell_type": "code",
   "execution_count": 12,
   "metadata": {},
   "outputs": [],
   "source": [
    "def __corrupt_ent(self, other_ent, r, other_ent_with_r_dict, max_num=1):\n",
    "    corrupted_ents = []\n",
    "    current_size = 0\n",
    "    while current_size < max_num:\n",
    "        candidates = np.random.choice(self.drug_ids, (max_num - current_size) * 2)\n",
    "        mask = np.isin(candidates, other_ent_with_r_dict[(other_ent, r)], assume_unique=True, invert=True)\n",
    "        corrupted_ents.append(candidates[mask])\n",
    "        current_size += len(corrupted_ents[-1])\n",
    "    \n",
    "    if corrupted_ents != []:\n",
    "        corrupted_ents = np.concatenate(corrupted_ents)\n",
    "\n",
    "    return np.asarray(corrupted_ents[:max_num])"
   ]
  },
  {
   "cell_type": "markdown",
   "metadata": {},
   "source": [
    "#### 3. __corrupt_head & __corrupt_tail\n",
    "\n",
    "특정 관계 r에 대해 head 또는 tail의 negative sample을 생성함.   \n",
    "__corrupt_ent를 호출하여 tail 또는 head와 관계가 없는 약물을 샘플링   \n",
    "\n",
    "`__corrupt_head` 일 경우 tail과 relation type은 고정하고 head의 약물을 무작위 다른 약물로 변환 (head, tail, relation)   -> (random other drug, tail, relation)    \n",
    "`__corrupt_tail` 일 경우 head와 realation type은 고정하고 tail의 약물을 무작위 다른 약물로 변환 (head, tail, relation) -> (head, random other drug, relation)"
   ]
  },
  {
   "cell_type": "code",
   "execution_count": 13,
   "metadata": {},
   "outputs": [],
   "source": [
    "def __corrupt_head(self, t, r, n=1):\n",
    "        return self.__corrupt_ent(t, r, ALL_TRUE_H_WITH_TR, n)\n",
    "\n",
    "def __corrupt_tail(self, h, r, n=1):\n",
    "        return self.__corrupt_ent(h, r, ALL_TRUE_T_WITH_HR, n)"
   ]
  },
  {
   "cell_type": "markdown",
   "metadata": {},
   "source": [
    "#### 4. __normal_batch\n",
    "\n",
    "Negative head와 negative tail의 개수를 동적으로 결정하고, 위의 __corrupt_head, __corrupt_tail을 호출하여 샘플링   \n",
    "조정할 수 있는 neg_size에 따라 Positive Sample과 Negative Sample의 비율을 맞춰 Negative Sample을 생성"
   ]
  },
  {
   "cell_type": "code",
   "execution_count": 14,
   "metadata": {},
   "outputs": [],
   "source": [
    "def __normal_batch(self, h, t, r, neg_size):\n",
    "    neg_size_h = 0\n",
    "    neg_size_t = 0\n",
    "    prob = ALL_TAIL_PER_HEAD[r] / (ALL_TAIL_PER_HEAD[r] + ALL_HEAD_PER_TAIL[r])\n",
    "    for i in range(neg_size):\n",
    "        if random.random() < prob:\n",
    "            neg_size_h += 1\n",
    "        else:\n",
    "            neg_size_t +=1\n",
    "    \n",
    "    return (self.__corrupt_head(t, r, neg_size_h),\n",
    "            self.__corrupt_tail(h, r, neg_size_t))  "
   ]
  },
  {
   "cell_type": "markdown",
   "metadata": {},
   "source": [
    "#### collate_fn 함수\n",
    "\n",
    "1. Positive Sample 생성    \n",
    "\n",
    "- 각 약물 쌍 (h, t)과 상호작용 타입 r을 불러옴\n",
    "- 약물 head(Drug1)와 tail(Drug2)의 정보를 그래프로 변환하기 위해 `__create_graph_data` 함수를 호출하여 PyTorch Geometric의 Data 객체로 변환  \n",
    "- 변환된 그래프와 상호작용 타입 r을 positive sample 리스트에 추가 \n",
    "\n",
    "2. Negative Sample 생성\n",
    "\n",
    "- `__normal_batch` 함수를 사용하여 약물 쌍 (h, t, r)에 대해 negative sample을 생성 \n",
    "- head 또는 tail 중 하나를 다른 약물로 무작위 변경하면서, 상호작용 타입 r은 유지\n",
    "- 변경된 약물 정보를 다시 `__create_graph_data`로 그래프로 변환하여 negative sample 리스트에 추가\n",
    "\n",
    "3. Batch 생성\n",
    "\n",
    "- Positive와 Negative Sample 데이터를 PyTorch Geometric의 `Batch.from_data_list`로 묶어 미니배치 단위로 결합\n",
    "- Positive와 Negative 데이터를 튜플 형태 (positive_batch, negative_batch)로 반환하여, 모델이 한 번에 두 데이터를 모두 학습할 수 있도록 준비"
   ]
  },
  {
   "cell_type": "code",
   "execution_count": 15,
   "metadata": {},
   "outputs": [],
   "source": [
    "def collate_fn(self, batch):\n",
    "\n",
    "        pos_rels = []\n",
    "        pos_h_samples = []\n",
    "        pos_t_samples = []\n",
    "        neg_rels = []\n",
    "        neg_h_samples = []\n",
    "        neg_t_samples = []\n",
    "\n",
    "        for h, t, r in batch:\n",
    "            pos_rels.append(r)\n",
    "            h_data = self.__create_graph_data(h)\n",
    "            t_data = self.__create_graph_data(t)\n",
    "            pos_h_samples.append(h_data)\n",
    "            pos_t_samples.append(t_data)\n",
    "\n",
    "            neg_heads, neg_tails = self.__normal_batch(h, t, r, self.neg_ent)\n",
    "\n",
    "            for neg_h in neg_heads:\n",
    "                neg_rels.append(r)\n",
    "                neg_h_samples.append(self.__create_graph_data(neg_h))\n",
    "                neg_t_samples.append(t_data)\n",
    "\n",
    "            for neg_t in neg_tails:\n",
    "                neg_rels.append(r)\n",
    "                neg_h_samples.append(h_data)\n",
    "                neg_t_samples.append(self.__create_graph_data(neg_t))\n",
    "\n",
    "        pos_h_samples = Batch.from_data_list(pos_h_samples)\n",
    "        pos_t_samples = Batch.from_data_list(pos_t_samples)\n",
    "        pos_rels = torch.LongTensor(pos_rels)\n",
    "        pos_tri = (pos_h_samples, pos_t_samples, pos_rels)\n",
    "\n",
    "        neg_h_samples = Batch.from_data_list(neg_h_samples)\n",
    "        neg_t_samples = Batch.from_data_list(neg_t_samples)\n",
    "        neg_rels = torch.LongTensor(neg_rels)\n",
    "        neg_tri = (neg_h_samples, neg_t_samples, neg_rels)\n",
    "\n",
    "        return pos_tri, neg_tri\n",
    "            "
   ]
  },
  {
   "cell_type": "markdown",
   "metadata": {},
   "source": [
    "전체 DrugDataset 클래스 코드는 다음과 같다. "
   ]
  },
  {
   "cell_type": "code",
   "execution_count": 16,
   "metadata": {},
   "outputs": [],
   "source": [
    "class DrugDataset(Dataset):\n",
    "    def __init__(self, tri_list, ratio=1.0,  neg_ent=1, disjoint_split=True, shuffle=True):\n",
    "        ''''disjoint_split: Consider whether entities should appear in one and only one split of the dataset\n",
    "        ''' \n",
    "        self.neg_ent = neg_ent\n",
    "        self.tri_list = []\n",
    "        self.ratio = ratio\n",
    "\n",
    "        for h, t, r, *_ in tri_list:\n",
    "            if ((h in MOL_EDGE_LIST_FEAT_MTX) and (t in MOL_EDGE_LIST_FEAT_MTX)):\n",
    "                self.tri_list.append((h, t, r))\n",
    "\n",
    "        if disjoint_split:\n",
    "            d1, d2, *_ = zip(*self.tri_list)\n",
    "            self.drug_ids = np.array(list(set(d1 + d2)))\n",
    "        else:\n",
    "            self.drug_ids = ALL_DRUG_IDS\n",
    "\n",
    "        self.drug_ids = np.array([id for id in self.drug_ids if id in MOL_EDGE_LIST_FEAT_MTX])\n",
    "        \n",
    "        if shuffle:\n",
    "            random.shuffle(self.tri_list)\n",
    "        limit = math.ceil(len(self.tri_list) * ratio)\n",
    "        self.tri_list = self.tri_list[:limit]\n",
    "\n",
    "    def __len__(self):\n",
    "        return len(self.tri_list)\n",
    "    \n",
    "    def __getitem__(self, index):\n",
    "        return self.tri_list[index]\n",
    "\n",
    "    def collate_fn(self, batch):\n",
    "\n",
    "        pos_rels = []\n",
    "        pos_h_samples = []\n",
    "        pos_t_samples = []\n",
    "        neg_rels = []\n",
    "        neg_h_samples = []\n",
    "        neg_t_samples = []\n",
    "\n",
    "        for h, t, r in batch:\n",
    "            pos_rels.append(r)\n",
    "            h_data = self.__create_graph_data(h)\n",
    "            t_data = self.__create_graph_data(t)\n",
    "            pos_h_samples.append(h_data)\n",
    "            pos_t_samples.append(t_data)\n",
    "\n",
    "            neg_heads, neg_tails = self.__normal_batch(h, t, r, self.neg_ent)\n",
    "\n",
    "            for neg_h in neg_heads:\n",
    "                neg_rels.append(r)\n",
    "                neg_h_samples.append(self.__create_graph_data(neg_h))\n",
    "                neg_t_samples.append(t_data)\n",
    "\n",
    "            for neg_t in neg_tails:\n",
    "                neg_rels.append(r)\n",
    "                neg_h_samples.append(h_data)\n",
    "                neg_t_samples.append(self.__create_graph_data(neg_t))\n",
    "\n",
    "        pos_h_samples = Batch.from_data_list(pos_h_samples)\n",
    "        pos_t_samples = Batch.from_data_list(pos_t_samples)\n",
    "        pos_rels = torch.LongTensor(pos_rels)\n",
    "        pos_tri = (pos_h_samples, pos_t_samples, pos_rels)\n",
    "\n",
    "        neg_h_samples = Batch.from_data_list(neg_h_samples)\n",
    "        neg_t_samples = Batch.from_data_list(neg_t_samples)\n",
    "        neg_rels = torch.LongTensor(neg_rels)\n",
    "        neg_tri = (neg_h_samples, neg_t_samples, neg_rels)\n",
    "\n",
    "        return pos_tri, neg_tri\n",
    "            \n",
    "    def __create_graph_data(self, id):\n",
    "        edge_index = MOL_EDGE_LIST_FEAT_MTX[id][0]\n",
    "        features = MOL_EDGE_LIST_FEAT_MTX[id][1]\n",
    "\n",
    "        return Data(x=features, edge_index=edge_index)\n",
    "\n",
    "    def __corrupt_ent(self, other_ent, r, other_ent_with_r_dict, max_num=1):\n",
    "        corrupted_ents = []\n",
    "        current_size = 0\n",
    "        while current_size < max_num:\n",
    "            candidates = np.random.choice(self.drug_ids, (max_num - current_size) * 2)\n",
    "            mask = np.isin(candidates, other_ent_with_r_dict[(other_ent, r)], assume_unique=True, invert=True)\n",
    "            corrupted_ents.append(candidates[mask])\n",
    "            current_size += len(corrupted_ents[-1])\n",
    "        \n",
    "        if corrupted_ents != []:\n",
    "            corrupted_ents = np.concatenate(corrupted_ents)\n",
    "\n",
    "        return np.asarray(corrupted_ents[:max_num])\n",
    "        \n",
    "    def __corrupt_head(self, t, r, n=1):\n",
    "        return self.__corrupt_ent(t, r, ALL_TRUE_H_WITH_TR, n)\n",
    "\n",
    "    def __corrupt_tail(self, h, r, n=1):\n",
    "        return self.__corrupt_ent(h, r, ALL_TRUE_T_WITH_HR, n)\n",
    "    \n",
    "    def __normal_batch(self, h, t, r, neg_size):\n",
    "        neg_size_h = 0\n",
    "        neg_size_t = 0\n",
    "        prob = ALL_TAIL_PER_HEAD[r] / (ALL_TAIL_PER_HEAD[r] + ALL_HEAD_PER_TAIL[r])\n",
    "        for i in range(neg_size):\n",
    "            if random.random() < prob:\n",
    "                neg_size_h += 1\n",
    "            else:\n",
    "                neg_size_t +=1\n",
    "        \n",
    "        return (self.__corrupt_head(t, r, neg_size_h),\n",
    "                self.__corrupt_tail(h, r, neg_size_t))  "
   ]
  },
  {
   "cell_type": "markdown",
   "metadata": {},
   "source": [
    "Positive Sample의 비율을 조정하는 ratio와 각 Positive Sample 당 생성할 Negative Sample의 수를 조정하는 neg_ent를 각각 1로 설정하여 데이터를 직접 Negative Sampling 해보자. \n",
    "\n",
    "`ratio` : `1.0`이면 전체 Positive Sample 데이터를 사용   \n",
    "`neg_ent` : `1.0`이면 Positive Sample과 Negative Sample의 비율이 1:1로 동일함\n",
    "\n",
    "disjoint_split : 데이터셋을 나눌 때 약물이 train, valid, test 등 데이터셋의 split에서 겹치지 않게 포함될지 여부를 결정하게 함.   \n",
    "shuffle : 데이터셋 내에서 데이터를 섞을지 여부를 결정하게 함.    \n",
    "\n",
    "(본 튜토리얼 코드에서는 설명을 위해 둘 다 False로 설정한 후 진행하였음)"
   ]
  },
  {
   "cell_type": "code",
   "execution_count": null,
   "metadata": {},
   "outputs": [],
   "source": []
  },
  {
   "cell_type": "code",
   "execution_count": 17,
   "metadata": {},
   "outputs": [],
   "source": [
    "train_data = DrugDataset(train_tup, ratio = 1, neg_ent = 1, disjoint_split=False, shuffle=False)\n",
    "valid_data = DrugDataset(valid_tup, ratio = 1, neg_ent = 1, disjoint_split=False, shuffle=False)\n",
    "test_data = DrugDataset(test_tup, ratio = 1, neg_ent = 1, disjoint_split=False, shuffle=False)"
   ]
  },
  {
   "cell_type": "markdown",
   "metadata": {},
   "source": [
    "실제 train.csv의 첫번째 데이터를 확인하면 다음과 같다.    \n",
    "\n",
    "*DB04571,CC1=CC2=CC3=C(OC(=O)C=C3C)C(C)=C2O1,DB00460,COC(=O)CCC1=C2NC(\\C=C3/N=C(/C=C4\\N\\C(=C/C5=N/C(=C\\2)/C(CCC(O)=O)=C5C)C(C=C)=C4C)C2=CC=C([C@@H](C(=O)OC)[C@@]32C)C(=O)OC)=C1C,1,train*\n",
    "\n",
    "(DB04571, DB00460) 약물 쌍이 1번 상호작용을 일으킨다는 데이터이다.  \n",
    "\n",
    "* * *\n",
    "\n",
    "train_data[0]의 경우 Positive Sample으로, 실제 상호작용을 나타내는 약물 쌍이다.   \n",
    "반면, train_data[1]의 경우 Negative Sample로, 상호작용을 나타내지 않는 가짜 약물 쌍이다.    "
   ]
  },
  {
   "cell_type": "code",
   "execution_count": 18,
   "metadata": {},
   "outputs": [
    {
     "name": "stdout",
     "output_type": "stream",
     "text": [
      "('DB04571', 'DB00460', 1)\n",
      "('DB09536', 'DB00460', 1)\n"
     ]
    }
   ],
   "source": [
    "print(train_data[0])\n",
    "print(train_data[1])"
   ]
  },
  {
   "cell_type": "markdown",
   "metadata": {},
   "source": [
    "이후 DrugDataset에서 정의한 약물 쌍 데이터를 한번에 batch_size 만큼 가져와 묶는 과정을 거친다.    \n",
    "이때 Pytorch의 기본 DataLoader를 확장한 DrugDataLoader를 사용한다. "
   ]
  },
  {
   "cell_type": "code",
   "execution_count": 19,
   "metadata": {},
   "outputs": [],
   "source": [
    "class DrugDataLoader(DataLoader):\n",
    "    def __init__(self, data, **kwargs):\n",
    "        super().__init__(data, collate_fn=data.collate_fn, **kwargs)"
   ]
  },
  {
   "cell_type": "markdown",
   "metadata": {},
   "source": [
    "본 튜토리얼에서는 256개의 데이터를 하나의 배치로 묶어 사용하였다. "
   ]
  },
  {
   "cell_type": "code",
   "execution_count": 20,
   "metadata": {},
   "outputs": [],
   "source": [
    "train_data_loader = DrugDataLoader(train_data, batch_size = 256, shuffle = False)\n",
    "valid_data_loader = DrugDataLoader(valid_data, batch_size = 256, shuffle = False)\n",
    "test_data_loader = DrugDataLoader(test_data, batch_size = 256, shuffle = False)"
   ]
  },
  {
   "cell_type": "markdown",
   "metadata": {},
   "source": [
    "하나의 배치를 확인해보면, 다음과 같이 구성되어있다.   \n",
    "\n",
    "(Positive triples, Negative triples) = ((Drug1, Drug2, relation type), (Drug1, Drug2, relation type))"
   ]
  },
  {
   "cell_type": "code",
   "execution_count": 21,
   "metadata": {},
   "outputs": [
    {
     "data": {
      "text/plain": [
       "((DataBatch(x=[6151, 55], edge_index=[2, 13302], batch=[6151], ptr=[257]),\n",
       "  DataBatch(x=[6415, 55], edge_index=[2, 14018], batch=[6415], ptr=[257]),\n",
       "  tensor([1, 1, 1, 1, 1, 1, 1, 1, 2, 2, 2, 2, 2, 2, 2, 2, 2, 2, 2, 2, 2, 2, 2, 2,\n",
       "          2, 2, 2, 2, 2, 2, 2, 2, 2, 2, 2, 2, 2, 2, 2, 2, 2, 2, 2, 2, 2, 2, 2, 2,\n",
       "          2, 2, 2, 2, 2, 2, 2, 2, 2, 2, 2, 2, 2, 2, 2, 2, 2, 2, 2, 2, 2, 2, 2, 2,\n",
       "          2, 2, 2, 2, 2, 2, 2, 2, 2, 2, 2, 2, 2, 2, 2, 2, 2, 2, 2, 2, 2, 2, 2, 2,\n",
       "          2, 2, 2, 2, 2, 2, 2, 2, 2, 2, 2, 2, 2, 2, 2, 2, 2, 2, 2, 2, 2, 2, 2, 2,\n",
       "          2, 2, 2, 2, 2, 2, 2, 2, 2, 2, 2, 2, 2, 2, 2, 2, 2, 2, 2, 2, 2, 2, 2, 2,\n",
       "          2, 2, 2, 2, 2, 2, 2, 2, 2, 2, 2, 2, 2, 2, 2, 2, 2, 2, 2, 2, 2, 2, 2, 2,\n",
       "          2, 2, 2, 2, 2, 2, 2, 2, 2, 2, 2, 2, 2, 2, 2, 2, 2, 2, 2, 2, 2, 2, 2, 2,\n",
       "          2, 2, 2, 2, 2, 2, 2, 2, 2, 2, 2, 2, 2, 2, 2, 2, 2, 2, 2, 2, 2, 2, 2, 2,\n",
       "          2, 2, 2, 2, 2, 2, 2, 2, 2, 2, 3, 3, 3, 3, 3, 3, 3, 3, 3, 3, 3, 3, 3, 3,\n",
       "          3, 3, 3, 3, 3, 3, 3, 3, 3, 3, 3, 3, 3, 3, 3, 3])),\n",
       " (DataBatch(x=[6526, 55], edge_index=[2, 14034], batch=[6526], ptr=[257]),\n",
       "  DataBatch(x=[7135, 55], edge_index=[2, 15354], batch=[7135], ptr=[257]),\n",
       "  tensor([1, 1, 1, 1, 1, 1, 1, 1, 2, 2, 2, 2, 2, 2, 2, 2, 2, 2, 2, 2, 2, 2, 2, 2,\n",
       "          2, 2, 2, 2, 2, 2, 2, 2, 2, 2, 2, 2, 2, 2, 2, 2, 2, 2, 2, 2, 2, 2, 2, 2,\n",
       "          2, 2, 2, 2, 2, 2, 2, 2, 2, 2, 2, 2, 2, 2, 2, 2, 2, 2, 2, 2, 2, 2, 2, 2,\n",
       "          2, 2, 2, 2, 2, 2, 2, 2, 2, 2, 2, 2, 2, 2, 2, 2, 2, 2, 2, 2, 2, 2, 2, 2,\n",
       "          2, 2, 2, 2, 2, 2, 2, 2, 2, 2, 2, 2, 2, 2, 2, 2, 2, 2, 2, 2, 2, 2, 2, 2,\n",
       "          2, 2, 2, 2, 2, 2, 2, 2, 2, 2, 2, 2, 2, 2, 2, 2, 2, 2, 2, 2, 2, 2, 2, 2,\n",
       "          2, 2, 2, 2, 2, 2, 2, 2, 2, 2, 2, 2, 2, 2, 2, 2, 2, 2, 2, 2, 2, 2, 2, 2,\n",
       "          2, 2, 2, 2, 2, 2, 2, 2, 2, 2, 2, 2, 2, 2, 2, 2, 2, 2, 2, 2, 2, 2, 2, 2,\n",
       "          2, 2, 2, 2, 2, 2, 2, 2, 2, 2, 2, 2, 2, 2, 2, 2, 2, 2, 2, 2, 2, 2, 2, 2,\n",
       "          2, 2, 2, 2, 2, 2, 2, 2, 2, 2, 3, 3, 3, 3, 3, 3, 3, 3, 3, 3, 3, 3, 3, 3,\n",
       "          3, 3, 3, 3, 3, 3, 3, 3, 3, 3, 3, 3, 3, 3, 3, 3])))"
      ]
     },
     "execution_count": 21,
     "metadata": {},
     "output_type": "execute_result"
    }
   ],
   "source": [
    "for i in train_data_loader:\n",
    "    break\n",
    "i"
   ]
  },
  {
   "cell_type": "markdown",
   "metadata": {},
   "source": [
    "하나의 데이터 배치를 살펴보자. \n",
    "\n",
    "`DataBatch(x=[6151, 55], edge_index=[2, 13302], batch=[6151], ptr=[257])`\n",
    "\n",
    "- x : 노드 특징 행렬, 위 예시의 경우 6151개의 노드가 각각 55개의 특징을 가짐.    \n",
    "- edge_index : 그래프의 엣지 리스트. 위 예시의 경우 그래프가 13,302개의 엣지를 가짐.   \n",
    "- batch : 여러 분자 그래프를 하나의 배치에 모아 놓은 것이므로 각 노드가 어떤 그래프에 속하는지 나타냄.    \n",
    "- ptr : 그래프별 노드의 시작 인덱스를 나타냄. 그래프를 구분하는데 사용함.    "
   ]
  },
  {
   "cell_type": "code",
   "execution_count": null,
   "metadata": {},
   "outputs": [],
   "source": []
  },
  {
   "cell_type": "markdown",
   "metadata": {},
   "source": [
    "## 2) DDI 모델 구조 파악\n",
    "\n",
    "본 튜토리얼 코드에서는 간단하면서도 좋은 성능을 나타내는 SSI-DDI 모델([논문](https://academic.oup.com/bib/article/22/6/bbab133/6265181), [GitHub](https://github.com/kanz76/SSI-DDI/tree/master))을 사용하여 DDI 데이터를 처리하는 모델 구조를 살펴볼 것이다.    "
   ]
  },
  {
   "cell_type": "markdown",
   "metadata": {},
   "source": [
    "### SSI-DDI 모델 구조\n",
    "<div style=\"text-align: center;\">\n",
    "    <img src=\"./model_fig.jpeg\" alt=\"Description\" width=\"1000px\">\n",
    "</div>"
   ]
  },
  {
   "cell_type": "markdown",
   "metadata": {},
   "source": [
    "모델 구조를 자세히 살펴보자. \n",
    "\n",
    "모델 작동 흐름은 다음과 같다. \n",
    "\n",
    "1. 모델은 두 약물의 그래프 형태를 입력받는다. \n",
    "\n",
    "2. 각 `GAT` 층에서 각 층의 receptive field에 포함되는 substructure를 추출하기 위한 READOUT 작업이 수행된다. \n",
    "\n",
    "3. `co-attention` 층에서 각 substructure 간 상호작용의 중요도를 계산한다. 여기서 중요한 점은, 각 GAT 층에서 추출된 두 약물의 substructure들이 최종적으로 DDI 예측에 얼마나 기여하는지가 다르기 때문에,    \n",
    "co-attention 층을 사용해 이러한 중요도를 각각 계산하는 것이다. 즉, 두 약물의 하위구조가 서로 상호작용할 때, 어떤 하위구조들이 더 중요한 역할을 하는지를 파악하고 이를 반영하는 방식이다.\n",
    "\n",
    "4. 최종적으로 각 substructure의 중요도를 반영한 값으로 두 약물의 상호작용을 예측한다. "
   ]
  },
  {
   "cell_type": "markdown",
   "metadata": {},
   "source": [
    "- `GAT (Graph Attention Network)` : GNN의 한 종류로, 중요한 노드에 좀 더 집중하는 모델\n",
    "- `Receptive Field` : GNN에서 층이 지날수록 더 넓은 범위의 노드에서부터 정보를 받는데, 이때 정보를 받는 범위\n",
    "- `Substructure` : 전체 분자 구조에서의 작은 부분\n",
    "\n",
    "> 이처럼 GAT와 co-attention 층을 조합해, 약물 간 상호작용 예측에서 각 하위구조의 중요도를 효율적으로 반영하는 것이 모델의 핵심이다!"
   ]
  },
  {
   "cell_type": "markdown",
   "metadata": {},
   "source": [
    "#### `GAT (Graph Attention Network)`"
   ]
  },
  {
   "cell_type": "code",
   "execution_count": 22,
   "metadata": {},
   "outputs": [],
   "source": [
    "class SSI_DDI_Block(nn.Module):\n",
    "    def __init__(self, n_heads, in_features, head_out_feats, final_out_feats):\n",
    "        super().__init__()\n",
    "        self.n_heads = n_heads\n",
    "        self.in_features = in_features\n",
    "        self.out_features = head_out_feats\n",
    "        self.conv = GATConv(in_features, head_out_feats, n_heads)\n",
    "        self.readout = SAGPooling(n_heads * head_out_feats, min_score=-1)\n",
    "    \n",
    "    def forward(self, data):\n",
    "        data.x = self.conv(data.x, data.edge_index)\n",
    "        att_x, att_edge_index, att_edge_attr, att_batch, att_perm, att_scores= self.readout(data.x, data.edge_index, batch=data.batch)\n",
    "        global_graph_emb = global_add_pool(att_x, att_batch)\n",
    "\n",
    "        # data = max_pool_neighbor_x(data)\n",
    "        return data, global_graph_emb"
   ]
  },
  {
   "cell_type": "markdown",
   "metadata": {},
   "source": [
    "전체 모델 내에서 반복되어 실행되는 SSI_DDI_Block으로, GATConv와 SAGPooling을 사용하여 입력 그래프에서 정보를 추출하고, 글로벌 그래프 임베딩을 생성하고 있다.       \n",
    "<div style=\"text-align: left;\">\n",
    "    <img src=\"./GNN.jpeg\" alt=\"Description\" width=\"500px\">\n",
    "</div>\n",
    "이 블록은 반복적으로 실행되면서 그래프에서 점점 더 넓은 범위의 서브그래프를 탐색하고, 정보를 통합하여 더 풍부한 관계와 특징을 학습한다.    \n",
    "\n",
    "SAGPooling : 중요한 노드만 남기고 불필요한 노드는 제거하여 그래프를 간소화하고, 더 중요한 노드 위주로 추출할 수 있게 하는 Pooling 기법"
   ]
  },
  {
   "cell_type": "markdown",
   "metadata": {},
   "source": [
    "#### `CoAttentionLayer`"
   ]
  },
  {
   "cell_type": "code",
   "execution_count": 23,
   "metadata": {},
   "outputs": [],
   "source": [
    "class CoAttentionLayer(nn.Module):\n",
    "    def __init__(self, n_features):\n",
    "        super().__init__()\n",
    "        self.n_features = n_features\n",
    "        self.w_q = nn.Parameter(torch.zeros(n_features, n_features//2))\n",
    "        self.w_k = nn.Parameter(torch.zeros(n_features, n_features//2))\n",
    "        self.bias = nn.Parameter(torch.zeros(n_features // 2))\n",
    "        self.a = nn.Parameter(torch.zeros(n_features//2))\n",
    "\n",
    "        nn.init.xavier_uniform_(self.w_q)\n",
    "        nn.init.xavier_uniform_(self.w_k)\n",
    "        nn.init.xavier_uniform_(self.bias.view(*self.bias.shape, -1))\n",
    "        nn.init.xavier_uniform_(self.a.view(*self.a.shape, -1))\n",
    "    \n",
    "    def forward(self, receiver, attendant):\n",
    "        keys = receiver @ self.w_k\n",
    "        queries = attendant @ self.w_q\n",
    "        # values = receiver @ self.w_v\n",
    "        values = receiver\n",
    "\n",
    "        e_activations = queries.unsqueeze(-3) + keys.unsqueeze(-2) + self.bias\n",
    "        e_scores = torch.tanh(e_activations) @ self.a\n",
    "        # e_scores = e_activations @ self.a\n",
    "        attentions = e_scores\n",
    "\n",
    "        return attentions"
   ]
  },
  {
   "cell_type": "markdown",
   "metadata": {},
   "source": [
    "<div style=\"text-align: left;\">\n",
    "    <img src=\"./coattention.PNG\" alt=\"Description\" width=\"500px\">\n",
    "</div>\n",
    "\n",
    "두 약물의 하위구조인 receiver와 attendant 간의 상호작용을 학습하여 하위구조들 간의 Attention Score를 얻는다.    \n",
    "Block을 4번 실행시키면, 그림에서처럼 4개의 Substructure가 두 약물에서 나온다.    \n",
    "이때 4개의 Substructure끼리 co-attention 계산을 하여 4*4 matrix 형태의 Attention Matrix도 얻을 수 있다. "
   ]
  },
  {
   "cell_type": "markdown",
   "metadata": {},
   "source": [
    "#### `최종 Score 계산`"
   ]
  },
  {
   "cell_type": "code",
   "execution_count": 24,
   "metadata": {},
   "outputs": [],
   "source": [
    "class RESCAL(nn.Module):\n",
    "    def __init__(self, n_rels, n_features):\n",
    "        super().__init__()\n",
    "        self.n_rels = n_rels\n",
    "        self.n_features = n_features\n",
    "        self.rel_emb = nn.Embedding(self.n_rels, n_features * n_features)\n",
    "        nn.init.xavier_uniform_(self.rel_emb.weight)\n",
    "    \n",
    "    def forward(self, heads, tails, rels, alpha_scores):\n",
    "        rels = self.rel_emb(rels)\n",
    "        rels = F.normalize(rels, dim=-1)\n",
    "        heads = F.normalize(heads, dim=-1)\n",
    "        tails = F.normalize(tails, dim=-1)\n",
    "        rels = rels.view(-1, self.n_features, self.n_features)\n",
    "\n",
    "        scores = heads @ rels @ tails.transpose(-2, -1)\n",
    "\n",
    "        if alpha_scores is not None:\n",
    "          scores = alpha_scores * scores\n",
    "        scores = scores.sum(dim=(-2, -1))\n",
    "        return scores \n",
    "    \n",
    "    def __repr__(self):\n",
    "        return f\"{self.__class__.__name__}({self.n_rels}, {self.rel_emb.weight.shape})\""
   ]
  },
  {
   "cell_type": "markdown",
   "metadata": {},
   "source": [
    "최종적으로 통과되는 RESCAL(KGE) 레이어는 `relation type을 행렬`로 나타내어 반영해주고, 최종 score를 계산하는 레이어이다. \n",
    "\n",
    "이때 co-attention layer를 통해 얻은 중요한 하위구조가 강조된 attentions를 최종 score에 곱해주면서 계산된 가중치를 부여한다. \n",
    "\n",
    "head와 tail은 64차원 벡터로 입력되고, 1개의 벡터인 relation type은 64(kge_dim)*64(kge_dim) 행렬로 변환된다. \n",
    "\n",
    "최종 모델 출력은 head, rels, tails, 그리고 co-attention으로 구해진 가중치가 곱해져 계산된다. "
   ]
  },
  {
   "cell_type": "code",
   "execution_count": null,
   "metadata": {},
   "outputs": [],
   "source": []
  },
  {
   "cell_type": "markdown",
   "metadata": {},
   "source": [
    "전체 SSI-DDI 모델 구조는 다음과 같다.    "
   ]
  },
  {
   "cell_type": "code",
   "execution_count": 25,
   "metadata": {},
   "outputs": [],
   "source": [
    "class SSI_DDI(nn.Module):\n",
    "    def __init__(self, in_features, hidd_dim, kge_dim, rel_total, heads_out_feat_params, blocks_params):\n",
    "        super().__init__()\n",
    "        self.in_features = in_features\n",
    "        self.hidd_dim = hidd_dim\n",
    "        self.rel_total = rel_total\n",
    "        self.kge_dim = kge_dim\n",
    "        self.n_blocks = len(blocks_params)\n",
    "        \n",
    "        self.initial_norm = LayerNorm(self.in_features)\n",
    "        self.blocks = []\n",
    "        self.net_norms = ModuleList()\n",
    "        for i, (head_out_feats, n_heads) in enumerate(zip(heads_out_feat_params, blocks_params)):\n",
    "            block = SSI_DDI_Block(n_heads, in_features, head_out_feats, final_out_feats=self.hidd_dim)\n",
    "            self.add_module(f\"block{i}\", block)\n",
    "            self.blocks.append(block)\n",
    "            self.net_norms.append(LayerNorm(head_out_feats * n_heads))\n",
    "            in_features = head_out_feats * n_heads\n",
    "        \n",
    "        self.co_attention = CoAttentionLayer(self.kge_dim)\n",
    "        self.KGE = RESCAL(self.rel_total, self.kge_dim)\n",
    "\n",
    "    def forward(self, triples, return_attention=False):\n",
    "        h_data, t_data, rels = triples\n",
    "\n",
    "        h_data.x = self.initial_norm(h_data.x, h_data.batch)\n",
    "        t_data.x = self.initial_norm(t_data.x, t_data.batch)\n",
    "\n",
    "        repr_h = []\n",
    "        repr_t = []\n",
    "\n",
    "        for i, block in enumerate(self.blocks):\n",
    "            out1, out2 = block(h_data), block(t_data)\n",
    "\n",
    "            h_data = out1[0]\n",
    "            t_data = out2[0]\n",
    "            r_h = out1[1]\n",
    "            r_t = out2[1]\n",
    "\n",
    "            repr_h.append(r_h)\n",
    "            repr_t.append(r_t)\n",
    "\n",
    "            h_data.x = F.elu(self.net_norms[i](h_data.x, h_data.batch))\n",
    "            t_data.x = F.elu(self.net_norms[i](t_data.x, t_data.batch))\n",
    "        \n",
    "        repr_h = torch.stack(repr_h, dim=-2)\n",
    "        repr_t = torch.stack(repr_t, dim=-2)\n",
    "\n",
    "        kge_heads = repr_h\n",
    "        kge_tails = repr_t\n",
    "\n",
    "        attentions = self.co_attention(kge_heads, kge_tails)\n",
    "        \n",
    "        # RESCAL의 4x4 행렬과 숫자 합산된 스코어 반환\n",
    "        scores_matrix, scores = self.KGE(kge_heads, kge_tails, rels, attentions)\n",
    "\n",
    "        if return_attention:\n",
    "            return scores_matrix, rels, scores\n",
    "        return scores"
   ]
  },
  {
   "cell_type": "code",
   "execution_count": null,
   "metadata": {},
   "outputs": [],
   "source": []
  },
  {
   "cell_type": "code",
   "execution_count": null,
   "metadata": {},
   "outputs": [],
   "source": []
  },
  {
   "cell_type": "markdown",
   "metadata": {},
   "source": [
    "#### Train 데이터의 첫번째 배치의 양성쌍을 이용해 Attention Matrix, 최종 Score가 계산되는 Matrix, Relation type matrix를 직접 살펴보자.    \n",
    "\n",
    "원래의 코드에는 없지만 Matrix들을 반환할 수 있도록 return_attention 옵션을 추가하였다.    \n",
    "\n",
    "또한 RESCAL 함수에서 attention matrix과 Score matrix, relation matrix를 출력할 수 있게 수정하였다. "
   ]
  },
  {
   "cell_type": "code",
   "execution_count": 26,
   "metadata": {},
   "outputs": [],
   "source": [
    "class RESCAL(nn.Module):\n",
    "    def __init__(self, n_rels, n_features):\n",
    "        super().__init__()\n",
    "        self.n_rels = n_rels # rel_total = 87\n",
    "        self.n_features = n_features # kge_dim = 64\n",
    "        self.rel_emb = nn.Embedding(self.n_rels, n_features * n_features)\n",
    "        nn.init.xavier_uniform_(self.rel_emb.weight)\n",
    "    \n",
    "    def forward(self, heads, tails, rels, alpha_scores):\n",
    "        # 임베딩 및 정규화\n",
    "        rels = self.rel_emb(rels)\n",
    "        rels = F.normalize(rels, dim=-1)\n",
    "        heads = F.normalize(heads, dim=-1)\n",
    "        tails = F.normalize(tails, dim=-1)\n",
    "        rels = rels.view(-1, self.n_features, self.n_features)\n",
    "        final_rels = rels\n",
    "        # 4x4 행렬 스코어 계산\n",
    "        scores = heads @ rels @ tails.transpose(-2, -1)\n",
    "\n",
    "        # alpha_scores(co-attention 결과) 적용\n",
    "        if alpha_scores is not None:\n",
    "            scores = alpha_scores * scores\n",
    "        \n",
    "        original_scores = scores.clone()\n",
    "\n",
    "        # 스코어 합산하여 숫자 1개로 변환\n",
    "        scores = scores.sum(dim=(-2, -1))\n",
    "        return alpha_scores, original_scores, final_rels, scores \n",
    "    \n",
    "    def __repr__(self):\n",
    "        return f\"{self.__class__.__name__}({self.n_rels}, {self.rel_emb.weight.shape})\""
   ]
  },
  {
   "cell_type": "code",
   "execution_count": 27,
   "metadata": {},
   "outputs": [],
   "source": [
    "class SSI_DDI(nn.Module):\n",
    "    def __init__(self, in_features, hidd_dim, kge_dim, rel_total, heads_out_feat_params, blocks_params):\n",
    "        super().__init__()\n",
    "        self.in_features = in_features\n",
    "        self.hidd_dim = hidd_dim\n",
    "        self.rel_total = rel_total\n",
    "        self.kge_dim = kge_dim\n",
    "        self.n_blocks = len(blocks_params)\n",
    "        \n",
    "        self.initial_norm = LayerNorm(self.in_features)\n",
    "        self.blocks = []\n",
    "        self.net_norms = ModuleList()\n",
    "        for i, (head_out_feats, n_heads) in enumerate(zip(heads_out_feat_params, blocks_params)):\n",
    "            block = SSI_DDI_Block(n_heads, in_features, head_out_feats, final_out_feats=self.hidd_dim)\n",
    "            self.add_module(f\"block{i}\", block)\n",
    "            self.blocks.append(block)\n",
    "            self.net_norms.append(LayerNorm(head_out_feats * n_heads))\n",
    "            in_features = head_out_feats * n_heads\n",
    "        \n",
    "        self.co_attention = CoAttentionLayer(self.kge_dim)\n",
    "        self.KGE = RESCAL(self.rel_total, self.kge_dim)\n",
    "\n",
    "    def forward(self, triples, return_attention=False):\n",
    "        h_data, t_data, rels = triples\n",
    "\n",
    "        h_data.x = self.initial_norm(h_data.x, h_data.batch)\n",
    "        t_data.x = self.initial_norm(t_data.x, t_data.batch)\n",
    "\n",
    "        repr_h = []\n",
    "        repr_t = []\n",
    "\n",
    "        for i, block in enumerate(self.blocks):\n",
    "            out1, out2 = block(h_data), block(t_data)\n",
    "\n",
    "            h_data = out1[0]\n",
    "            t_data = out2[0]\n",
    "            r_h = out1[1]\n",
    "            r_t = out2[1]\n",
    "\n",
    "            repr_h.append(r_h)\n",
    "            repr_t.append(r_t)\n",
    "\n",
    "            h_data.x = F.elu(self.net_norms[i](h_data.x, h_data.batch))\n",
    "            t_data.x = F.elu(self.net_norms[i](t_data.x, t_data.batch))\n",
    "        \n",
    "        repr_h = torch.stack(repr_h, dim=-2)\n",
    "        repr_t = torch.stack(repr_t, dim=-2)\n",
    "\n",
    "        kge_heads = repr_h\n",
    "        kge_tails = repr_t\n",
    "\n",
    "        attentions = self.co_attention(kge_heads, kge_tails)\n",
    "        \n",
    "        # RESCAL의 4x4 행렬과 숫자 합산된 스코어 반환\n",
    "        attention_matrix, original_scores, rels, scores = self.KGE(kge_heads, kge_tails, rels, attentions)\n",
    "\n",
    "        if return_attention:\n",
    "            return attention_matrix, original_scores, rels, scores\n",
    "        return scores"
   ]
  },
  {
   "cell_type": "code",
   "execution_count": 28,
   "metadata": {},
   "outputs": [],
   "source": [
    "# Hyperparameters\n",
    "n_atom_feats = 55\n",
    "n_atom_hid = 64\n",
    "rel_total = 87\n",
    "lr = 1e-2\n",
    "weight_decay = 5e-4\n",
    "n_epochs = 100\n",
    "neg_samples = 1\n",
    "batch_size = 1024\n",
    "data_size_ratio = 1\n",
    "kge_dim = 64"
   ]
  },
  {
   "cell_type": "markdown",
   "metadata": {},
   "source": [
    "Attention Matrix, Score Matrix, Relation Matrix를 출력하기 위해 임시로 모델을 정의하였다.    \n",
    "\n",
    "실제 학습을 위한 모델은 뒤에서 다시 정의할 예정이다.    "
   ]
  },
  {
   "cell_type": "code",
   "execution_count": 29,
   "metadata": {},
   "outputs": [
    {
     "data": {
      "text/plain": [
       "SSI_DDI(\n",
       "  (initial_norm): LayerNorm(55, affine=True, mode=graph)\n",
       "  (net_norms): ModuleList(\n",
       "    (0-3): 4 x LayerNorm(64, affine=True, mode=graph)\n",
       "  )\n",
       "  (block0): SSI_DDI_Block(\n",
       "    (conv): GATConv(55, 32, heads=2)\n",
       "    (readout): SAGPooling(GraphConv, 64, min_score=-1, multiplier=1.0)\n",
       "  )\n",
       "  (block1): SSI_DDI_Block(\n",
       "    (conv): GATConv(64, 32, heads=2)\n",
       "    (readout): SAGPooling(GraphConv, 64, min_score=-1, multiplier=1.0)\n",
       "  )\n",
       "  (block2): SSI_DDI_Block(\n",
       "    (conv): GATConv(64, 32, heads=2)\n",
       "    (readout): SAGPooling(GraphConv, 64, min_score=-1, multiplier=1.0)\n",
       "  )\n",
       "  (block3): SSI_DDI_Block(\n",
       "    (conv): GATConv(64, 32, heads=2)\n",
       "    (readout): SAGPooling(GraphConv, 64, min_score=-1, multiplier=1.0)\n",
       "  )\n",
       "  (co_attention): CoAttentionLayer()\n",
       "  (KGE): RESCAL(87, torch.Size([87, 4096]))\n",
       ")"
      ]
     },
     "execution_count": 29,
     "metadata": {},
     "output_type": "execute_result"
    }
   ],
   "source": [
    "matrix_model = SSI_DDI(n_atom_feats, n_atom_hid, kge_dim, rel_total, heads_out_feat_params=[32, 32, 32, 32], blocks_params=[2, 2, 2, 2])\n",
    "matrix_model"
   ]
  },
  {
   "cell_type": "code",
   "execution_count": 30,
   "metadata": {},
   "outputs": [],
   "source": [
    "matrix_model.eval()\n",
    "for batch in train_data_loader:\n",
    "    positive_triplet, negative_triplet = batch\n",
    "    \n",
    "    with torch.no_grad():\n",
    "        attention_matrix, original_scores, rels, scores_positive = matrix_model(positive_triplet, return_attention=True)\n",
    "    break"
   ]
  },
  {
   "cell_type": "code",
   "execution_count": 31,
   "metadata": {},
   "outputs": [
    {
     "data": {
      "image/png": "[encoded data removed]",
      "text/plain": [
       "<Figure size 1600x500 with 6 Axes>"
      ]
     },
     "metadata": {},
     "output_type": "display_data"
    }
   ],
   "source": [
    "fig, axes = plt.subplots(1, 3, figsize=(16, 5)) \n",
    "\n",
    "sns.heatmap(attention_matrix[0], cmap=\"Blues\", annot=True, ax=axes[0])\n",
    "axes[0].set_title('Attention Matrix')\n",
    "axes[0].set_xlabel('Drug2')\n",
    "axes[0].set_ylabel('Drug1')\n",
    "\n",
    "sns.heatmap(original_scores[0], cmap=\"Blues\", annot=True, ax=axes[1])\n",
    "axes[1].set_title('Scores')\n",
    "axes[1].set_xlabel('Drug2')\n",
    "axes[1].set_ylabel('Drug1')\n",
    "\n",
    "sns.heatmap(rels[0], cmap=\"Blues\", annot=False, ax=axes[2])\n",
    "axes[2].set_title('Relation Type Matrix')\n",
    "\n",
    "plt.tight_layout()\n",
    "plt.show()"
   ]
  },
  {
   "cell_type": "markdown",
   "metadata": {},
   "source": [
    "1. Co-attention으로 생성된 `Attention Matrix`를 살펴보자.    \n",
    "이는 두 약물의 4가지 GNN layer에서의 상호작용 중요도를 나타내는 가중치 값이다.    \n",
    "\n",
    "2. `Score Matrix`는 우선 두 약물과 relation type을 사용하여 계산된다.    \n",
    "이후 Attention Matrix를 곱하여 layer간 중요도를 반영한다.   \n",
    "이 4*4의 score matrix를 sum하여 나온 결과값을 최종 score로 사용하고, postive쌍이면 1에 가깝게, negative쌍이면 0에 가깝게 예측되도록 학습한다.    \n",
    "\n",
    "3. `Relation type Matrix`를 살펴보자.   \n",
    "숫자 1개로 나오는 relation type이 64*64 형태로 표현되어 처리된다. "
   ]
  },
  {
   "cell_type": "code",
   "execution_count": null,
   "metadata": {},
   "outputs": [],
   "source": []
  },
  {
   "cell_type": "markdown",
   "metadata": {},
   "source": [
    "## 3) 모델 학습 실행하기"
   ]
  },
  {
   "cell_type": "markdown",
   "metadata": {},
   "source": [
    "하나의 배치 안에는 Positive Sample쌍과 Negative Sample쌍이 동시에 들어있다. \n",
    "\n",
    "그리고 하나의 Positive/Negative Sample쌍에는 (head, tail, relation type)이 들어있다. \n",
    "\n",
    "do_compute 함수에서는 positive sample쌍과 negative sample쌍을 따로 처리하여 model에 입력하고, \n",
    "\n",
    "p_score과 n_score를 따로 뽑아 loss를 계산한다. "
   ]
  },
  {
   "cell_type": "code",
   "execution_count": 32,
   "metadata": {},
   "outputs": [],
   "source": [
    "def do_compute(batch, device, training=True):\n",
    "        '''\n",
    "            *batch: (pos_tri, neg_tri) \n",
    "            *pos/neg_tri: (batch_h, batch_t, batch_r)\n",
    "        '''\n",
    "        probas_pred, ground_truth = [], []\n",
    "        pos_tri, neg_tri = batch\n",
    "        \n",
    "        pos_tri = [tensor.to(device=device) for tensor in pos_tri]\n",
    "        p_score = model(pos_tri)\n",
    "        probas_pred.append(torch.sigmoid(p_score.detach()).cpu()) # positive sample쌍으로 모델이 예측한 값\n",
    "        ground_truth.append(np.ones(len(p_score))) # positive sample쌍의 정답 label은 1\n",
    "\n",
    "        neg_tri = [tensor.to(device=device) for tensor in neg_tri]\n",
    "        n_score = model(neg_tri)\n",
    "        probas_pred.append(torch.sigmoid(n_score.detach()).cpu()) # negative sample쌍으로 모델이 예측한 값\n",
    "        ground_truth.append(np.zeros(len(n_score))) # negative sample쌍의 정답 label은 0\n",
    "\n",
    "        probas_pred = np.concatenate(probas_pred) # 예측값끼리 concatenate\n",
    "        ground_truth = np.concatenate(ground_truth) # 정답 label끼리 concatenate\n",
    "\n",
    "        return p_score, n_score, probas_pred, ground_truth"
   ]
  },
  {
   "cell_type": "code",
   "execution_count": 33,
   "metadata": {},
   "outputs": [],
   "source": [
    "def do_compute_metrics(probas_pred, target): # 예측값과 정답 label을 이용하여 성능 측정\n",
    "    pred = (probas_pred >= 0.5).astype(int)\n",
    "\n",
    "    acc = metrics.accuracy_score(target, pred)\n",
    "    auc_roc = metrics.roc_auc_score(target, probas_pred)\n",
    "    f1 = metrics.f1_score(target, pred)\n",
    "\n",
    "    precision = metrics.precision_score(target, pred)\n",
    "    recall = metrics.recall_score(target, pred)\n",
    "    p, r, _ = metrics.precision_recall_curve(target, probas_pred)\n",
    "    auc_prc = metrics.auc(r, p)\n",
    "\n",
    "    return acc, auc_roc, precision, recall, f1, auc_prc\n"
   ]
  },
  {
   "cell_type": "markdown",
   "metadata": {},
   "source": [
    "학습할 모델을 정의하였다. "
   ]
  },
  {
   "cell_type": "code",
   "execution_count": 34,
   "metadata": {},
   "outputs": [
    {
     "data": {
      "text/plain": [
       "SSI_DDI(\n",
       "  (initial_norm): LayerNorm(55, affine=True, mode=graph)\n",
       "  (net_norms): ModuleList(\n",
       "    (0-3): 4 x LayerNorm(64, affine=True, mode=graph)\n",
       "  )\n",
       "  (block0): SSI_DDI_Block(\n",
       "    (conv): GATConv(55, 32, heads=2)\n",
       "    (readout): SAGPooling(GraphConv, 64, min_score=-1, multiplier=1.0)\n",
       "  )\n",
       "  (block1): SSI_DDI_Block(\n",
       "    (conv): GATConv(64, 32, heads=2)\n",
       "    (readout): SAGPooling(GraphConv, 64, min_score=-1, multiplier=1.0)\n",
       "  )\n",
       "  (block2): SSI_DDI_Block(\n",
       "    (conv): GATConv(64, 32, heads=2)\n",
       "    (readout): SAGPooling(GraphConv, 64, min_score=-1, multiplier=1.0)\n",
       "  )\n",
       "  (block3): SSI_DDI_Block(\n",
       "    (conv): GATConv(64, 32, heads=2)\n",
       "    (readout): SAGPooling(GraphConv, 64, min_score=-1, multiplier=1.0)\n",
       "  )\n",
       "  (co_attention): CoAttentionLayer()\n",
       "  (KGE): RESCAL(87, torch.Size([87, 4096]))\n",
       ")"
      ]
     },
     "execution_count": 34,
     "metadata": {},
     "output_type": "execute_result"
    }
   ],
   "source": [
    "model = SSI_DDI(n_atom_feats, n_atom_hid, kge_dim, rel_total, heads_out_feat_params=[32, 32, 32, 32], blocks_params=[2, 2, 2, 2])\n",
    "model"
   ]
  },
  {
   "cell_type": "markdown",
   "metadata": {},
   "source": [
    "모델의 loss는 다음과 같이 사용한다. \n",
    "\n",
    "- p_loss : positive sample의 점수   \n",
    "- n_loss : negative sample의 점수\n",
    "\n",
    "F.logsigmoid().mean() 계산을 통해 p_loss는 더 높게, n_loss는 더 낮게 예측하도록 손실값을 조정한다. "
   ]
  },
  {
   "cell_type": "code",
   "execution_count": 35,
   "metadata": {},
   "outputs": [],
   "source": [
    "class SigmoidLoss(nn.Module):\n",
    "    def __init__(self, adv_temperature=None):\n",
    "        super().__init__()\n",
    "        self.adv_temperature = adv_temperature\n",
    "    \n",
    "    def forward(self, p_scores, n_scores):\n",
    "        if self.adv_temperature:\n",
    "            weights= F.softmax(self.adv_temperature * n_scores, dim=-1).detach()\n",
    "            n_scores = weights * n_scores\n",
    "        p_loss = - F.logsigmoid(p_scores).mean()\n",
    "        n_loss = - F.logsigmoid(-n_scores).mean()\n",
    "        \n",
    "        return (p_loss + n_loss) / 2, p_loss, n_loss "
   ]
  },
  {
   "cell_type": "code",
   "execution_count": 36,
   "metadata": {},
   "outputs": [],
   "source": [
    "loss = SigmoidLoss()\n",
    "optimizer = optim.Adam(model.parameters(), lr=lr, weight_decay=weight_decay)\n",
    "scheduler = optim.lr_scheduler.LambdaLR(optimizer, lambda epoch: 0.96 ** (epoch))"
   ]
  },
  {
   "cell_type": "code",
   "execution_count": 37,
   "metadata": {},
   "outputs": [
    {
     "data": {
      "text/plain": [
       "device(type='cuda', index=0)"
      ]
     },
     "execution_count": 37,
     "metadata": {},
     "output_type": "execute_result"
    }
   ],
   "source": [
    "device = torch.device(\"cuda:0\") if torch.cuda.is_available() else torch.device(\"cpu\")\n",
    "device"
   ]
  },
  {
   "cell_type": "markdown",
   "metadata": {},
   "source": [
    "학습과 검증은 다음 train 함수에 의해 이루어진다. \n",
    "\n",
    "전처리된 train_data_loader, valid_data_loader를 사용하여 데이터를 배치 단위로 처리한다.    \n",
    "\n",
    "(1) `Train 단계` (모델을 train 모드로 설정)\n",
    "\n",
    "- 예측 점수(p_score, n_score)와 확률(probas_pred)을 계산\n",
    "- 손실 함수(loss_fn)로 손실(loss, loss_p, loss_n)을 계산\n",
    "- 역전파 및 최적화(optimizer)를 수행하여 모델 파라미터를 업데이트\n",
    "- 각 배치의 손실을 합산하여 총 훈련 손실을 계산\n",
    "\n",
    "(2) `Validation 단계` (모델을 eval 모드로 설정)\n",
    "\n",
    "- 손실과 예측 점수를 계산하여 검증 손실 및 성능 지표(AUC-ROC, AUC-PRC 등)를 평가\n",
    "\n",
    "(3) `metrics 계산`\n",
    "\n",
    "- Train과 Validation 단계에서 수집된 **예측 확률(probas_pred)**과 **정답(ground_truth)**을 사용해 다음 성능 지표를 계산:\n",
    "    - Accuracy: 올바른 예측 비율.\n",
    "    - AUC-ROC: 양성과 음성을 구분하는 능력.\n",
    "    - AUC-PRC: Precision-Recall 커브의 면적.\n",
    "    - Precision, Recall, F1-Score: 모델의 정밀도와 재현율.\n",
    "\n",
    "(4) `Best 모델 저장`\n",
    "\n",
    "- 각 에폭이 끝날 때, val_loss가 현재까지의 최저값보다 낮으면 best_model.pth에 모델의 상태를 저장   \n",
    "\n",
    "(5) `결과 출력`\n",
    "\n",
    "- 에포크마다 손실 및 성능 지표를 출력하여 모델 학습 상태를 확인"
   ]
  },
  {
   "cell_type": "code",
   "execution_count": 38,
   "metadata": {},
   "outputs": [],
   "source": [
    "def train(model, train_data_loader, val_data_loader, loss_fn, optimizer, n_epochs, device, scheduler=None):\n",
    "    print('Starting training at', datetime.today())\n",
    "    best_val_loss = float('inf')\n",
    "    best_model_state = None\n",
    "\n",
    "    for i in range(1, n_epochs + 1):\n",
    "        start = time.time()\n",
    "        train_loss = 0\n",
    "        val_loss = 0\n",
    "        train_probas_pred = []\n",
    "        train_ground_truth = []\n",
    "        val_probas_pred = []\n",
    "        val_ground_truth = []\n",
    "\n",
    "        #### Train 과정 ######################################################################\n",
    "        for batch in train_data_loader:\n",
    "            model.train()\n",
    "            p_score, n_score, probas_pred, ground_truth = do_compute(batch, device)\n",
    "            train_probas_pred.append(probas_pred)\n",
    "            train_ground_truth.append(ground_truth)\n",
    "            loss, _, _ = loss_fn(p_score, n_score)\n",
    "            \n",
    "            optimizer.zero_grad()\n",
    "            loss.backward()\n",
    "            optimizer.step()\n",
    "\n",
    "            train_loss += loss.item() * len(p_score)\n",
    "        train_loss /= len(train_data_loader.dataset)\n",
    "        ######################################################################################\n",
    "\n",
    "        #### Validation 과정 ##################################################################\n",
    "        with torch.no_grad():\n",
    "            train_probas_pred = np.concatenate(train_probas_pred)\n",
    "            train_ground_truth = np.concatenate(train_ground_truth)\n",
    "            train_acc, train_auc_roc, train_precision, train_recall, train_f1, train_auc_prc = do_compute_metrics(train_probas_pred, train_ground_truth)\n",
    "\n",
    "            for batch in val_data_loader:\n",
    "                model.eval()\n",
    "                p_score, n_score, probas_pred, ground_truth = do_compute(batch, device)\n",
    "                val_probas_pred.append(probas_pred)\n",
    "                val_ground_truth.append(ground_truth)\n",
    "                loss, _, _ = loss_fn(p_score, n_score)\n",
    "                val_loss += loss.item() * len(p_score)\n",
    "\n",
    "            val_loss /= len(val_data_loader.dataset)\n",
    "            val_probas_pred = np.concatenate(val_probas_pred)\n",
    "            val_ground_truth = np.concatenate(val_ground_truth)\n",
    "            val_acc, val_auc_roc, val_precision, val_recall, val_f1, val_auc_prc = do_compute_metrics(val_probas_pred, val_ground_truth)\n",
    "        ######################################################################################\n",
    "\n",
    "        #### Best 모델 저장 ####################################################################\n",
    "        if val_loss < best_val_loss:\n",
    "            best_val_loss = val_loss\n",
    "            best_model_state = model.state_dict().copy()\n",
    "            torch.save({k: v.cpu() for k, v in best_model_state.items()}, \"best_model.pth\")\n",
    "        ######################################################################################\n",
    "\n",
    "        #### 학습률 조정 ######################################################################\n",
    "        if scheduler:\n",
    "            scheduler.step()\n",
    "        ######################################################################################\n",
    "\n",
    "        print(f'Epoch: {i}, train_loss: {train_loss:.4f}, val_loss: {val_loss:.4f}, '\n",
    "              f'Validation Accuracy: {val_acc:.4f}, Validation AUC: {val_auc_roc:.4f}, '\n",
    "              f'Validation Precision: {val_precision:.4f}, Validation Recall: {val_recall:.4f}, '\n",
    "              f'Validation F1-score: {val_f1:.4f}, Validation AUPR: {val_auc_prc:.4f}')\n",
    "\n",
    "    # Best 모델 로드\n",
    "    model.load_state_dict(torch.load(\"best_model.pth\", map_location='cuda:0' if torch.cuda.is_available() else 'cpu'))\n",
    "\n",
    "    return model"
   ]
  },
  {
   "cell_type": "code",
   "execution_count": null,
   "metadata": {},
   "outputs": [],
   "source": []
  },
  {
   "cell_type": "markdown",
   "metadata": {},
   "source": [
    "다음 코드를 실행하면 모델이 동작하는 것을 확인할 수 있다. "
   ]
  },
  {
   "cell_type": "code",
   "execution_count": 39,
   "metadata": {},
   "outputs": [],
   "source": [
    "model.to(device=device);"
   ]
  },
  {
   "cell_type": "code",
   "execution_count": 41,
   "metadata": {},
   "outputs": [
    {
     "name": "stdout",
     "output_type": "stream",
     "text": [
      "Starting training at 2024-12-29 20:21:08.777835\n",
      "Epoch: 1, train_loss: 0.6807, val_loss: 0.6936, Validation Accuracy: 0.5160, Validation AUC: 0.5275, Validation Precision: 0.5187, Validation Recall: 0.4446, Validation F1-score: 0.4788, Validation AUPR: 0.5265\n",
      "Epoch: 2, train_loss: 0.6677, val_loss: 0.7008, Validation Accuracy: 0.5167, Validation AUC: 0.5282, Validation Precision: 0.5181, Validation Recall: 0.4789, Validation F1-score: 0.4977, Validation AUPR: 0.5223\n",
      "Epoch: 3, train_loss: 0.6763, val_loss: 0.7013, Validation Accuracy: 0.5063, Validation AUC: 0.5031, Validation Precision: 0.5059, Validation Recall: 0.5409, Validation F1-score: 0.5228, Validation AUPR: 0.4980\n",
      "Epoch: 4, train_loss: 0.6653, val_loss: 0.7441, Validation Accuracy: 0.5112, Validation AUC: 0.5108, Validation Precision: 0.5191, Validation Recall: 0.3051, Validation F1-score: 0.3843, Validation AUPR: 0.5186\n",
      "Epoch: 5, train_loss: 0.6847, val_loss: 0.6923, Validation Accuracy: 0.5190, Validation AUC: 0.5317, Validation Precision: 0.5155, Validation Recall: 0.6298, Validation F1-score: 0.5670, Validation AUPR: 0.5242\n",
      "Epoch: 6, train_loss: 0.6645, val_loss: 0.6946, Validation Accuracy: 0.5148, Validation AUC: 0.5268, Validation Precision: 0.5139, Validation Recall: 0.5476, Validation F1-score: 0.5302, Validation AUPR: 0.5239\n",
      "Epoch: 7, train_loss: 0.6621, val_loss: 0.7576, Validation Accuracy: 0.5175, Validation AUC: 0.5225, Validation Precision: 0.5244, Validation Recall: 0.3771, Validation F1-score: 0.4387, Validation AUPR: 0.5172\n",
      "Epoch: 8, train_loss: 0.6732, val_loss: 0.6955, Validation Accuracy: 0.5221, Validation AUC: 0.5394, Validation Precision: 0.5282, Validation Recall: 0.4132, Validation F1-score: 0.4637, Validation AUPR: 0.5358\n",
      "Epoch: 9, train_loss: 0.6694, val_loss: 0.7078, Validation Accuracy: 0.5157, Validation AUC: 0.5290, Validation Precision: 0.5138, Validation Recall: 0.5879, Validation F1-score: 0.5483, Validation AUPR: 0.5319\n",
      "Epoch: 10, train_loss: 0.6688, val_loss: 0.7051, Validation Accuracy: 0.5303, Validation AUC: 0.5482, Validation Precision: 0.5262, Validation Recall: 0.6093, Validation F1-score: 0.5647, Validation AUPR: 0.5496\n",
      "Epoch: 11, train_loss: 0.6523, val_loss: 0.6882, Validation Accuracy: 0.5656, Validation AUC: 0.5919, Validation Precision: 0.5627, Validation Recall: 0.5885, Validation F1-score: 0.5753, Validation AUPR: 0.5721\n",
      "Epoch: 12, train_loss: 0.6431, val_loss: 0.7165, Validation Accuracy: 0.5431, Validation AUC: 0.5655, Validation Precision: 0.5458, Validation Recall: 0.5133, Validation F1-score: 0.5290, Validation AUPR: 0.5677\n",
      "Epoch: 13, train_loss: 0.6494, val_loss: 0.7292, Validation Accuracy: 0.5028, Validation AUC: 0.5110, Validation Precision: 0.5027, Validation Recall: 0.5205, Validation F1-score: 0.5115, Validation AUPR: 0.5242\n",
      "Epoch: 14, train_loss: 0.6560, val_loss: 0.7091, Validation Accuracy: 0.5133, Validation AUC: 0.5260, Validation Precision: 0.5126, Validation Recall: 0.5401, Validation F1-score: 0.5260, Validation AUPR: 0.5268\n",
      "Epoch: 15, train_loss: 0.6685, val_loss: 0.7032, Validation Accuracy: 0.5058, Validation AUC: 0.5086, Validation Precision: 0.5065, Validation Recall: 0.4498, Validation F1-score: 0.4765, Validation AUPR: 0.5064\n",
      "Epoch: 16, train_loss: 0.6643, val_loss: 0.7232, Validation Accuracy: 0.5216, Validation AUC: 0.5275, Validation Precision: 0.5201, Validation Recall: 0.5603, Validation F1-score: 0.5395, Validation AUPR: 0.5256\n",
      "Epoch: 17, train_loss: 0.6662, val_loss: 0.6885, Validation Accuracy: 0.5411, Validation AUC: 0.5604, Validation Precision: 0.5310, Validation Recall: 0.7028, Validation F1-score: 0.6050, Validation AUPR: 0.5393\n",
      "Epoch: 18, train_loss: 0.6492, val_loss: 0.6958, Validation Accuracy: 0.5330, Validation AUC: 0.5413, Validation Precision: 0.5264, Validation Recall: 0.6575, Validation F1-score: 0.5847, Validation AUPR: 0.5263\n",
      "Epoch: 19, train_loss: 0.6414, val_loss: 0.6940, Validation Accuracy: 0.5308, Validation AUC: 0.5477, Validation Precision: 0.5327, Validation Recall: 0.5010, Validation F1-score: 0.5164, Validation AUPR: 0.5341\n",
      "Epoch: 20, train_loss: 0.6364, val_loss: 0.7167, Validation Accuracy: 0.5444, Validation AUC: 0.5639, Validation Precision: 0.5467, Validation Recall: 0.5192, Validation F1-score: 0.5326, Validation AUPR: 0.5697\n",
      "Epoch: 21, train_loss: 0.6328, val_loss: 0.6902, Validation Accuracy: 0.5576, Validation AUC: 0.5820, Validation Precision: 0.5467, Validation Recall: 0.6738, Validation F1-score: 0.6036, Validation AUPR: 0.5642\n",
      "Epoch: 22, train_loss: 0.6248, val_loss: 0.7393, Validation Accuracy: 0.5416, Validation AUC: 0.5710, Validation Precision: 0.5424, Validation Recall: 0.5320, Validation F1-score: 0.5371, Validation AUPR: 0.5612\n",
      "Epoch: 23, train_loss: 0.6204, val_loss: 0.7650, Validation Accuracy: 0.5507, Validation AUC: 0.5810, Validation Precision: 0.5479, Validation Recall: 0.5803, Validation F1-score: 0.5637, Validation AUPR: 0.5709\n",
      "Epoch: 24, train_loss: 0.6300, val_loss: 0.6961, Validation Accuracy: 0.5883, Validation AUC: 0.6282, Validation Precision: 0.5655, Validation Recall: 0.7624, Validation F1-score: 0.6493, Validation AUPR: 0.6051\n",
      "Epoch: 25, train_loss: 0.6276, val_loss: 0.7073, Validation Accuracy: 0.5761, Validation AUC: 0.6061, Validation Precision: 0.5734, Validation Recall: 0.5942, Validation F1-score: 0.5836, Validation AUPR: 0.5917\n",
      "Epoch: 26, train_loss: 0.6199, val_loss: 0.6681, Validation Accuracy: 0.6043, Validation AUC: 0.6527, Validation Precision: 0.6097, Validation Recall: 0.5795, Validation F1-score: 0.5942, Validation AUPR: 0.6260\n",
      "Epoch: 27, train_loss: 0.6142, val_loss: 0.6844, Validation Accuracy: 0.6139, Validation AUC: 0.6543, Validation Precision: 0.6059, Validation Recall: 0.6516, Validation F1-score: 0.6279, Validation AUPR: 0.6376\n",
      "Epoch: 28, train_loss: 0.6166, val_loss: 0.6819, Validation Accuracy: 0.6168, Validation AUC: 0.6670, Validation Precision: 0.5924, Validation Recall: 0.7494, Validation F1-score: 0.6617, Validation AUPR: 0.6449\n",
      "Epoch: 29, train_loss: 0.6115, val_loss: 0.6859, Validation Accuracy: 0.6225, Validation AUC: 0.6712, Validation Precision: 0.6024, Validation Recall: 0.7205, Validation F1-score: 0.6562, Validation AUPR: 0.6525\n",
      "Epoch: 30, train_loss: 0.6057, val_loss: 0.6739, Validation Accuracy: 0.6193, Validation AUC: 0.6744, Validation Precision: 0.6281, Validation Recall: 0.5851, Validation F1-score: 0.6058, Validation AUPR: 0.6517\n",
      "Epoch: 31, train_loss: 0.6007, val_loss: 0.6688, Validation Accuracy: 0.6312, Validation AUC: 0.6881, Validation Precision: 0.6452, Validation Recall: 0.5832, Validation F1-score: 0.6126, Validation AUPR: 0.6692\n",
      "Epoch: 32, train_loss: 0.5991, val_loss: 0.6815, Validation Accuracy: 0.6140, Validation AUC: 0.6672, Validation Precision: 0.6292, Validation Recall: 0.5551, Validation F1-score: 0.5898, Validation AUPR: 0.6434\n",
      "Epoch: 33, train_loss: 0.6009, val_loss: 0.7142, Validation Accuracy: 0.6168, Validation AUC: 0.6695, Validation Precision: 0.6336, Validation Recall: 0.5539, Validation F1-score: 0.5911, Validation AUPR: 0.6577\n",
      "Epoch: 34, train_loss: 0.5945, val_loss: 0.6860, Validation Accuracy: 0.6215, Validation AUC: 0.6794, Validation Precision: 0.6350, Validation Recall: 0.5713, Validation F1-score: 0.6015, Validation AUPR: 0.6661\n",
      "Epoch: 35, train_loss: 0.5831, val_loss: 0.7493, Validation Accuracy: 0.6059, Validation AUC: 0.6586, Validation Precision: 0.6284, Validation Recall: 0.5184, Validation F1-score: 0.5681, Validation AUPR: 0.6498\n",
      "Epoch: 36, train_loss: 0.5960, val_loss: 0.7075, Validation Accuracy: 0.6171, Validation AUC: 0.6733, Validation Precision: 0.6325, Validation Recall: 0.5588, Validation F1-score: 0.5934, Validation AUPR: 0.6654\n",
      "Epoch: 37, train_loss: 0.6027, val_loss: 0.6567, Validation Accuracy: 0.6356, Validation AUC: 0.6913, Validation Precision: 0.6244, Validation Recall: 0.6802, Validation F1-score: 0.6511, Validation AUPR: 0.6757\n",
      "Epoch: 38, train_loss: 0.5833, val_loss: 0.6679, Validation Accuracy: 0.6385, Validation AUC: 0.6953, Validation Precision: 0.6239, Validation Recall: 0.6975, Validation F1-score: 0.6586, Validation AUPR: 0.6823\n",
      "Epoch: 39, train_loss: 0.5829, val_loss: 0.6698, Validation Accuracy: 0.6322, Validation AUC: 0.6897, Validation Precision: 0.6364, Validation Recall: 0.6170, Validation F1-score: 0.6265, Validation AUPR: 0.6807\n",
      "Epoch: 40, train_loss: 0.5774, val_loss: 0.6818, Validation Accuracy: 0.6223, Validation AUC: 0.6828, Validation Precision: 0.6312, Validation Recall: 0.5886, Validation F1-score: 0.6091, Validation AUPR: 0.6740\n",
      "Epoch: 41, train_loss: 0.5778, val_loss: 0.7017, Validation Accuracy: 0.6278, Validation AUC: 0.6841, Validation Precision: 0.6416, Validation Recall: 0.5790, Validation F1-score: 0.6087, Validation AUPR: 0.6716\n",
      "Epoch: 42, train_loss: 0.5875, val_loss: 0.6363, Validation Accuracy: 0.6613, Validation AUC: 0.7223, Validation Precision: 0.6397, Validation Recall: 0.7385, Validation F1-score: 0.6856, Validation AUPR: 0.7059\n",
      "Epoch: 43, train_loss: 0.5732, val_loss: 0.6769, Validation Accuracy: 0.6455, Validation AUC: 0.7041, Validation Precision: 0.6484, Validation Recall: 0.6358, Validation F1-score: 0.6420, Validation AUPR: 0.6837\n",
      "Epoch: 44, train_loss: 0.5701, val_loss: 0.6516, Validation Accuracy: 0.6549, Validation AUC: 0.7178, Validation Precision: 0.6516, Validation Recall: 0.6660, Validation F1-score: 0.6587, Validation AUPR: 0.7026\n",
      "Epoch: 45, train_loss: 0.5743, val_loss: 0.6431, Validation Accuracy: 0.6586, Validation AUC: 0.7229, Validation Precision: 0.6609, Validation Recall: 0.6517, Validation F1-score: 0.6563, Validation AUPR: 0.7032\n",
      "Epoch: 46, train_loss: 0.5645, val_loss: 0.6404, Validation Accuracy: 0.6593, Validation AUC: 0.7254, Validation Precision: 0.6619, Validation Recall: 0.6511, Validation F1-score: 0.6565, Validation AUPR: 0.7021\n",
      "Epoch: 47, train_loss: 0.5632, val_loss: 0.6637, Validation Accuracy: 0.6551, Validation AUC: 0.7198, Validation Precision: 0.6674, Validation Recall: 0.6184, Validation F1-score: 0.6420, Validation AUPR: 0.6979\n",
      "Epoch: 48, train_loss: 0.5662, val_loss: 0.6280, Validation Accuracy: 0.6719, Validation AUC: 0.7383, Validation Precision: 0.6561, Validation Recall: 0.7228, Validation F1-score: 0.6878, Validation AUPR: 0.7223\n",
      "Epoch: 49, train_loss: 0.5597, val_loss: 0.6160, Validation Accuracy: 0.6775, Validation AUC: 0.7460, Validation Precision: 0.6779, Validation Recall: 0.6761, Validation F1-score: 0.6770, Validation AUPR: 0.7264\n",
      "Epoch: 50, train_loss: 0.5602, val_loss: 0.6669, Validation Accuracy: 0.6629, Validation AUC: 0.7211, Validation Precision: 0.6683, Validation Recall: 0.6467, Validation F1-score: 0.6573, Validation AUPR: 0.6992\n",
      "Epoch: 51, train_loss: 0.5601, val_loss: 0.6318, Validation Accuracy: 0.6741, Validation AUC: 0.7448, Validation Precision: 0.6816, Validation Recall: 0.6536, Validation F1-score: 0.6673, Validation AUPR: 0.7272\n",
      "Epoch: 52, train_loss: 0.5595, val_loss: 0.6059, Validation Accuracy: 0.6825, Validation AUC: 0.7538, Validation Precision: 0.6870, Validation Recall: 0.6707, Validation F1-score: 0.6787, Validation AUPR: 0.7357\n",
      "Epoch: 53, train_loss: 0.5494, val_loss: 0.6034, Validation Accuracy: 0.6917, Validation AUC: 0.7605, Validation Precision: 0.6840, Validation Recall: 0.7129, Validation F1-score: 0.6981, Validation AUPR: 0.7377\n",
      "Epoch: 54, train_loss: 0.5437, val_loss: 0.6091, Validation Accuracy: 0.6881, Validation AUC: 0.7588, Validation Precision: 0.6891, Validation Recall: 0.6853, Validation F1-score: 0.6872, Validation AUPR: 0.7412\n",
      "Epoch: 55, train_loss: 0.5449, val_loss: 0.6072, Validation Accuracy: 0.6920, Validation AUC: 0.7611, Validation Precision: 0.6943, Validation Recall: 0.6861, Validation F1-score: 0.6902, Validation AUPR: 0.7404\n",
      "Epoch: 56, train_loss: 0.5432, val_loss: 0.5903, Validation Accuracy: 0.7025, Validation AUC: 0.7720, Validation Precision: 0.6922, Validation Recall: 0.7292, Validation F1-score: 0.7103, Validation AUPR: 0.7507\n",
      "Epoch: 57, train_loss: 0.5423, val_loss: 0.5916, Validation Accuracy: 0.6999, Validation AUC: 0.7686, Validation Precision: 0.6920, Validation Recall: 0.7203, Validation F1-score: 0.7059, Validation AUPR: 0.7423\n",
      "Epoch: 58, train_loss: 0.5405, val_loss: 0.5713, Validation Accuracy: 0.7102, Validation AUC: 0.7835, Validation Precision: 0.6985, Validation Recall: 0.7399, Validation F1-score: 0.7186, Validation AUPR: 0.7658\n",
      "Epoch: 59, train_loss: 0.5310, val_loss: 0.5737, Validation Accuracy: 0.7115, Validation AUC: 0.7818, Validation Precision: 0.7109, Validation Recall: 0.7131, Validation F1-score: 0.7120, Validation AUPR: 0.7590\n",
      "Epoch: 60, train_loss: 0.5264, val_loss: 0.5825, Validation Accuracy: 0.7063, Validation AUC: 0.7785, Validation Precision: 0.6939, Validation Recall: 0.7383, Validation F1-score: 0.7154, Validation AUPR: 0.7594\n",
      "Epoch: 61, train_loss: 0.5259, val_loss: 0.5782, Validation Accuracy: 0.7109, Validation AUC: 0.7831, Validation Precision: 0.7101, Validation Recall: 0.7127, Validation F1-score: 0.7114, Validation AUPR: 0.7642\n",
      "Epoch: 62, train_loss: 0.5204, val_loss: 0.5796, Validation Accuracy: 0.7101, Validation AUC: 0.7833, Validation Precision: 0.7086, Validation Recall: 0.7137, Validation F1-score: 0.7111, Validation AUPR: 0.7699\n",
      "Epoch: 63, train_loss: 0.5211, val_loss: 0.5813, Validation Accuracy: 0.7141, Validation AUC: 0.7834, Validation Precision: 0.7115, Validation Recall: 0.7202, Validation F1-score: 0.7158, Validation AUPR: 0.7570\n",
      "Epoch: 64, train_loss: 0.5256, val_loss: 0.5622, Validation Accuracy: 0.7152, Validation AUC: 0.7903, Validation Precision: 0.7066, Validation Recall: 0.7359, Validation F1-score: 0.7210, Validation AUPR: 0.7695\n",
      "Epoch: 65, train_loss: 0.5146, val_loss: 0.5533, Validation Accuracy: 0.7240, Validation AUC: 0.7983, Validation Precision: 0.7050, Validation Recall: 0.7702, Validation F1-score: 0.7362, Validation AUPR: 0.7731\n",
      "Epoch: 66, train_loss: 0.5102, val_loss: 0.5896, Validation Accuracy: 0.7066, Validation AUC: 0.7766, Validation Precision: 0.7005, Validation Recall: 0.7220, Validation F1-score: 0.7111, Validation AUPR: 0.7572\n",
      "Epoch: 67, train_loss: 0.5087, val_loss: 0.5442, Validation Accuracy: 0.7267, Validation AUC: 0.8020, Validation Precision: 0.7257, Validation Recall: 0.7288, Validation F1-score: 0.7272, Validation AUPR: 0.7814\n",
      "Epoch: 68, train_loss: 0.5022, val_loss: 0.5504, Validation Accuracy: 0.7266, Validation AUC: 0.8008, Validation Precision: 0.7260, Validation Recall: 0.7277, Validation F1-score: 0.7269, Validation AUPR: 0.7788\n",
      "Epoch: 69, train_loss: 0.5022, val_loss: 0.5396, Validation Accuracy: 0.7329, Validation AUC: 0.8068, Validation Precision: 0.7248, Validation Recall: 0.7508, Validation F1-score: 0.7376, Validation AUPR: 0.7847\n",
      "Epoch: 70, train_loss: 0.5031, val_loss: 0.5374, Validation Accuracy: 0.7350, Validation AUC: 0.8085, Validation Precision: 0.7259, Validation Recall: 0.7553, Validation F1-score: 0.7403, Validation AUPR: 0.7872\n",
      "Epoch: 71, train_loss: 0.5007, val_loss: 0.5339, Validation Accuracy: 0.7332, Validation AUC: 0.8114, Validation Precision: 0.7402, Validation Recall: 0.7184, Validation F1-score: 0.7292, Validation AUPR: 0.7867\n",
      "Epoch: 72, train_loss: 0.4950, val_loss: 0.5317, Validation Accuracy: 0.7323, Validation AUC: 0.8112, Validation Precision: 0.7157, Validation Recall: 0.7709, Validation F1-score: 0.7422, Validation AUPR: 0.7940\n",
      "Epoch: 73, train_loss: 0.4949, val_loss: 0.5266, Validation Accuracy: 0.7351, Validation AUC: 0.8179, Validation Precision: 0.7514, Validation Recall: 0.7028, Validation F1-score: 0.7263, Validation AUPR: 0.7969\n",
      "Epoch: 74, train_loss: 0.4870, val_loss: 0.5311, Validation Accuracy: 0.7393, Validation AUC: 0.8127, Validation Precision: 0.7250, Validation Recall: 0.7710, Validation F1-score: 0.7473, Validation AUPR: 0.7915\n",
      "Epoch: 75, train_loss: 0.4873, val_loss: 0.5215, Validation Accuracy: 0.7385, Validation AUC: 0.8187, Validation Precision: 0.7386, Validation Recall: 0.7383, Validation F1-score: 0.7385, Validation AUPR: 0.7993\n",
      "Epoch: 76, train_loss: 0.4847, val_loss: 0.5320, Validation Accuracy: 0.7361, Validation AUC: 0.8141, Validation Precision: 0.7395, Validation Recall: 0.7292, Validation F1-score: 0.7343, Validation AUPR: 0.7965\n",
      "Epoch: 77, train_loss: 0.4880, val_loss: 0.5304, Validation Accuracy: 0.7323, Validation AUC: 0.8150, Validation Precision: 0.7521, Validation Recall: 0.6930, Validation F1-score: 0.7213, Validation AUPR: 0.7952\n",
      "Epoch: 78, train_loss: 0.4808, val_loss: 0.5355, Validation Accuracy: 0.7317, Validation AUC: 0.8171, Validation Precision: 0.7636, Validation Recall: 0.6711, Validation F1-score: 0.7144, Validation AUPR: 0.8010\n",
      "Epoch: 79, train_loss: 0.4764, val_loss: 0.5160, Validation Accuracy: 0.7465, Validation AUC: 0.8238, Validation Precision: 0.7404, Validation Recall: 0.7591, Validation F1-score: 0.7496, Validation AUPR: 0.8027\n",
      "Epoch: 80, train_loss: 0.4757, val_loss: 0.5331, Validation Accuracy: 0.7329, Validation AUC: 0.8179, Validation Precision: 0.7599, Validation Recall: 0.6810, Validation F1-score: 0.7183, Validation AUPR: 0.8021\n",
      "Epoch: 81, train_loss: 0.4738, val_loss: 0.5101, Validation Accuracy: 0.7491, Validation AUC: 0.8278, Validation Precision: 0.7396, Validation Recall: 0.7691, Validation F1-score: 0.7541, Validation AUPR: 0.8067\n",
      "Epoch: 82, train_loss: 0.4700, val_loss: 0.5216, Validation Accuracy: 0.7375, Validation AUC: 0.8249, Validation Precision: 0.7620, Validation Recall: 0.6906, Validation F1-score: 0.7245, Validation AUPR: 0.8067\n",
      "Epoch: 83, train_loss: 0.4687, val_loss: 0.5112, Validation Accuracy: 0.7530, Validation AUC: 0.8284, Validation Precision: 0.7382, Validation Recall: 0.7840, Validation F1-score: 0.7604, Validation AUPR: 0.8092\n",
      "Epoch: 84, train_loss: 0.4685, val_loss: 0.5152, Validation Accuracy: 0.7419, Validation AUC: 0.8278, Validation Precision: 0.7650, Validation Recall: 0.6982, Validation F1-score: 0.7301, Validation AUPR: 0.8114\n",
      "Epoch: 85, train_loss: 0.4686, val_loss: 0.5151, Validation Accuracy: 0.7451, Validation AUC: 0.8284, Validation Precision: 0.7657, Validation Recall: 0.7063, Validation F1-score: 0.7348, Validation AUPR: 0.8093\n",
      "Epoch: 86, train_loss: 0.4601, val_loss: 0.4950, Validation Accuracy: 0.7549, Validation AUC: 0.8384, Validation Precision: 0.7607, Validation Recall: 0.7437, Validation F1-score: 0.7521, Validation AUPR: 0.8217\n",
      "Epoch: 87, train_loss: 0.4623, val_loss: 0.4974, Validation Accuracy: 0.7559, Validation AUC: 0.8376, Validation Precision: 0.7617, Validation Recall: 0.7449, Validation F1-score: 0.7532, Validation AUPR: 0.8190\n",
      "Epoch: 88, train_loss: 0.4584, val_loss: 0.5008, Validation Accuracy: 0.7554, Validation AUC: 0.8373, Validation Precision: 0.7614, Validation Recall: 0.7441, Validation F1-score: 0.7526, Validation AUPR: 0.8202\n",
      "Epoch: 89, train_loss: 0.4599, val_loss: 0.4862, Validation Accuracy: 0.7599, Validation AUC: 0.8440, Validation Precision: 0.7677, Validation Recall: 0.7453, Validation F1-score: 0.7563, Validation AUPR: 0.8275\n",
      "Epoch: 90, train_loss: 0.4540, val_loss: 0.4873, Validation Accuracy: 0.7594, Validation AUC: 0.8450, Validation Precision: 0.7709, Validation Recall: 0.7382, Validation F1-score: 0.7542, Validation AUPR: 0.8243\n",
      "Epoch: 91, train_loss: 0.4537, val_loss: 0.4822, Validation Accuracy: 0.7645, Validation AUC: 0.8484, Validation Precision: 0.7700, Validation Recall: 0.7545, Validation F1-score: 0.7622, Validation AUPR: 0.8297\n",
      "Epoch: 92, train_loss: 0.4485, val_loss: 0.4819, Validation Accuracy: 0.7620, Validation AUC: 0.8476, Validation Precision: 0.7681, Validation Recall: 0.7508, Validation F1-score: 0.7593, Validation AUPR: 0.8314\n",
      "Epoch: 93, train_loss: 0.4485, val_loss: 0.4838, Validation Accuracy: 0.7593, Validation AUC: 0.8489, Validation Precision: 0.7819, Validation Recall: 0.7193, Validation F1-score: 0.7493, Validation AUPR: 0.8313\n",
      "Epoch: 94, train_loss: 0.4476, val_loss: 0.4820, Validation Accuracy: 0.7661, Validation AUC: 0.8468, Validation Precision: 0.7640, Validation Recall: 0.7701, Validation F1-score: 0.7670, Validation AUPR: 0.8245\n",
      "Epoch: 95, train_loss: 0.4458, val_loss: 0.4831, Validation Accuracy: 0.7612, Validation AUC: 0.8486, Validation Precision: 0.7748, Validation Recall: 0.7364, Validation F1-score: 0.7551, Validation AUPR: 0.8290\n",
      "Epoch: 96, train_loss: 0.4441, val_loss: 0.4736, Validation Accuracy: 0.7708, Validation AUC: 0.8528, Validation Precision: 0.7711, Validation Recall: 0.7702, Validation F1-score: 0.7707, Validation AUPR: 0.8319\n",
      "Epoch: 97, train_loss: 0.4423, val_loss: 0.4737, Validation Accuracy: 0.7678, Validation AUC: 0.8535, Validation Precision: 0.7780, Validation Recall: 0.7495, Validation F1-score: 0.7635, Validation AUPR: 0.8348\n",
      "Epoch: 98, train_loss: 0.4380, val_loss: 0.4677, Validation Accuracy: 0.7774, Validation AUC: 0.8568, Validation Precision: 0.7721, Validation Recall: 0.7871, Validation F1-score: 0.7795, Validation AUPR: 0.8358\n",
      "Epoch: 99, train_loss: 0.4398, val_loss: 0.4806, Validation Accuracy: 0.7625, Validation AUC: 0.8524, Validation Precision: 0.7873, Validation Recall: 0.7194, Validation F1-score: 0.7518, Validation AUPR: 0.8332\n",
      "Epoch: 100, train_loss: 0.4365, val_loss: 0.4712, Validation Accuracy: 0.7723, Validation AUC: 0.8545, Validation Precision: 0.7754, Validation Recall: 0.7667, Validation F1-score: 0.7711, Validation AUPR: 0.8334\n"
     ]
    },
    {
     "data": {
      "text/plain": [
       "SSI_DDI(\n",
       "  (initial_norm): LayerNorm(55, affine=True, mode=graph)\n",
       "  (net_norms): ModuleList(\n",
       "    (0-3): 4 x LayerNorm(64, affine=True, mode=graph)\n",
       "  )\n",
       "  (block0): SSI_DDI_Block(\n",
       "    (conv): GATConv(55, 32, heads=2)\n",
       "    (readout): SAGPooling(GraphConv, 64, min_score=-1, multiplier=1.0)\n",
       "  )\n",
       "  (block1): SSI_DDI_Block(\n",
       "    (conv): GATConv(64, 32, heads=2)\n",
       "    (readout): SAGPooling(GraphConv, 64, min_score=-1, multiplier=1.0)\n",
       "  )\n",
       "  (block2): SSI_DDI_Block(\n",
       "    (conv): GATConv(64, 32, heads=2)\n",
       "    (readout): SAGPooling(GraphConv, 64, min_score=-1, multiplier=1.0)\n",
       "  )\n",
       "  (block3): SSI_DDI_Block(\n",
       "    (conv): GATConv(64, 32, heads=2)\n",
       "    (readout): SAGPooling(GraphConv, 64, min_score=-1, multiplier=1.0)\n",
       "  )\n",
       "  (co_attention): CoAttentionLayer()\n",
       "  (KGE): RESCAL(87, torch.Size([87, 4096]))\n",
       ")"
      ]
     },
     "execution_count": 41,
     "metadata": {},
     "output_type": "execute_result"
    }
   ],
   "source": [
    "train(model, train_data_loader, valid_data_loader, loss, optimizer, n_epochs, device, scheduler)"
   ]
  },
  {
   "cell_type": "code",
   "execution_count": null,
   "metadata": {},
   "outputs": [],
   "source": []
  },
  {
   "cell_type": "markdown",
   "metadata": {},
   "source": [
    "## 4) 모델 Test하고 성능 저장하기\n",
    "\n",
    "Train과 Validation 후 저장된 최적의 모델(best_model.pth)를 불러와 테스트 데이터(test_data_loader)에 대해 최종 성능을 평가하고, 그 결과를 CSV 파일로 저장하는 과정이다.  \n",
    "\n",
    "모델 성능 평가를 위한 최종 단계로, Test 데이터를 기반으로 손실과 다양한 성능 지표를 계산할 수 있다.    \n",
    "\n",
    "아래 코드는 torch.load를 사용하여 저장된 최적의 모델의 가중치를 로드하고, 이 모델로 test를 진행한 후 tabulate와 pandas를 활용해 표 형식으로 출력하게 한다.     \n",
    "또한 성능 지표를 pandas.DataFrame으로 변환한 후 CSV 파일로 저장하게 한다.    "
   ]
  },
  {
   "cell_type": "code",
   "execution_count": 42,
   "metadata": {},
   "outputs": [],
   "source": [
    "def test_and_save(model, test_data_loader, loss_fn, device, best_model_path=\"best_model.pth\", csv_file=\"best_model_results.csv\"):\n",
    "    model.load_state_dict(torch.load(best_model_path, map_location=device))\n",
    "    model.to(device)\n",
    "    model.eval()\n",
    "\n",
    "    test_loss = 0\n",
    "    test_probas_pred = []\n",
    "    test_ground_truth = []\n",
    "\n",
    "    with torch.no_grad():\n",
    "        for batch in test_data_loader:\n",
    "            p_score, n_score, probas_pred, ground_truth = do_compute(batch, device)\n",
    "            test_probas_pred.append(probas_pred)\n",
    "            test_ground_truth.append(ground_truth)\n",
    "            loss, _, _ = loss_fn(p_score, n_score)\n",
    "            test_loss += loss.item() * len(p_score)\n",
    "\n",
    "    test_loss /= len(test_data_loader.dataset)\n",
    "    test_probas_pred = np.concatenate(test_probas_pred)\n",
    "    test_ground_truth = np.concatenate(test_ground_truth)\n",
    "\n",
    "    test_acc, test_auc_roc, test_precision, test_recall, test_f1, test_auc_prc = do_compute_metrics(test_probas_pred, test_ground_truth)\n",
    "\n",
    "    metrics = {\n",
    "        \"Loss\": test_loss,\n",
    "        \"Accuracy\": test_acc,\n",
    "        \"AUC_ROC\": test_auc_roc,\n",
    "        \"Precision\": test_precision,\n",
    "        \"Recall\": test_recall,\n",
    "        \"F1-Score\": test_f1,\n",
    "        \"AUC_PRC\": test_auc_prc\n",
    "    }\n",
    "\n",
    "    print(\"\\n최적 모델의 테스트 데이터 성능:\")\n",
    "    print(tabulate(pd.DataFrame(metrics, index=[\"Metric Value\"]).T, headers=\"keys\", tablefmt=\"fancy_grid\"))\n",
    "\n",
    "    df = pd.DataFrame(metrics, index=[0])\n",
    "    df.to_csv(csv_file, index=False)\n",
    "    print(f\"\\nResults saved to {csv_file}\")\n",
    "\n",
    "    return metrics\n"
   ]
  },
  {
   "cell_type": "code",
   "execution_count": 43,
   "metadata": {},
   "outputs": [
    {
     "name": "stdout",
     "output_type": "stream",
     "text": [
      "\n",
      "최적 모델의 테스트 데이터 성능:\n",
      "╒═══════════╤════════════════╕\n",
      "│           │   Metric Value │\n",
      "╞═══════════╪════════════════╡\n",
      "│ Loss      │       0.468922 │\n",
      "├───────────┼────────────────┤\n",
      "│ Accuracy  │       0.776537 │\n",
      "├───────────┼────────────────┤\n",
      "│ AUC_ROC   │       0.856697 │\n",
      "├───────────┼────────────────┤\n",
      "│ Precision │       0.772257 │\n",
      "├───────────┼────────────────┤\n",
      "│ Recall    │       0.784396 │\n",
      "├───────────┼────────────────┤\n",
      "│ F1-Score  │       0.778279 │\n",
      "├───────────┼────────────────┤\n",
      "│ AUC_PRC   │       0.836649 │\n",
      "╘═══════════╧════════════════╛\n",
      "\n",
      "Results saved to best_model_results.csv\n"
     ]
    }
   ],
   "source": [
    "best_metrics = test_and_save(model, test_data_loader, loss, device)"
   ]
  },
  {
   "cell_type": "code",
   "execution_count": null,
   "metadata": {},
   "outputs": [],
   "source": []
  }
 ],
 "metadata": {
  "kernelspec": {
   "display_name": "mail",
   "language": "python",
   "name": "python3"
  },
  "language_info": {
   "codemirror_mode": {
    "name": "ipython",
    "version": 3
   },
   "file_extension": ".py",
   "mimetype": "text/x-python",
   "name": "python",
   "nbconvert_exporter": "python",
   "pygments_lexer": "ipython3",
   "version": "3.12.7"
  }
 },
 "nbformat": 4,
 "nbformat_minor": 4
}

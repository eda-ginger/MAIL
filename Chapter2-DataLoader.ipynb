{
 "cells": [
  {
   "cell_type": "markdown",
   "id": "7a8cafa8-fd9f-41cd-89b7-eaff76fa5246",
   "metadata": {},
   "source": [
    "# Chapter 2 에서 배울 내용\n",
    "\n",
    "1. **분자 데이터 수집**  \n",
    "   - 공개 데이터셋 다운로드 및 데이터 구조 확인\n",
    "---\n",
    "2. **분자 데이터 변환**  \n",
    "   - SMILES 코드를 활용하여 Task에 적합한 형태로 데이터 변환\n",
    "---\n",
    "3. **데이터 로더 제작**  \n",
    "   - 모델 학습을 위한 데이터 로더 설계 및 구현  \n",
    "   - 분자 데이터 분류를 위한 사전 지식 이해\n"
   ]
  },
  {
   "cell_type": "markdown",
   "id": "6294bcb0-c7ff-4906-aa97-0d63d96e7ab3",
   "metadata": {},
   "source": [
    "### Ignore warnings\n",
    "코드 실행에서 불필요한 경고 문구 해제 "
   ]
  },
  {
   "cell_type": "code",
   "execution_count": 1,
   "id": "9e156edc-63cf-4162-bf7d-ebf06f974434",
   "metadata": {},
   "outputs": [],
   "source": [
    "import warnings\n",
    "from rdkit import RDLogger\n",
    "\n",
    "warnings.simplefilter(action='ignore', category=FutureWarning)\n",
    "RDLogger.DisableLog('rdApp.*')"
   ]
  },
  {
   "cell_type": "markdown",
   "id": "4687ef5a-7bbe-4f05-aa2e-660ac356a99c",
   "metadata": {},
   "source": [
    "### Library Import\n",
    "코드 실행에 필요한 라이브러리를 호출"
   ]
  },
  {
   "cell_type": "code",
   "execution_count": 2,
   "id": "f4f9afab-6502-4d12-8669-1f378cebe631",
   "metadata": {},
   "outputs": [
    {
     "name": "stdout",
     "output_type": "stream",
     "text": [
      "WARNING:tensorflow:From C:\\Users\\PARK\\anaconda3\\envs\\mail\\Lib\\site-packages\\tensorflow\\python\\util\\deprecation.py:588: calling function (from tensorflow.python.eager.polymorphic_function.polymorphic_function) with experimental_relax_shapes is deprecated and will be removed in a future version.\n",
      "Instructions for updating:\n",
      "experimental_relax_shapes is deprecated, use reduce_retracing instead\n",
      "2024.03.6\n"
     ]
    }
   ],
   "source": [
    "import os\n",
    "import rdkit\n",
    "import torch\n",
    "import random\n",
    "import numpy as np\n",
    "import pandas as pd\n",
    "\n",
    "from rdkit import Chem\n",
    "from deepchem.feat.smiles_tokenizer import BasicSmilesTokenizer\n",
    "from rdkit.Chem import AllChem, Descriptors, rdDepictor, rdDistGeom, MACCSkeys, rdMolDescriptors\n",
    "\n",
    "from torch.utils.data import Dataset\n",
    "from torch_geometric import utils as pyg_utils\n",
    "from torch_geometric.data import InMemoryDataset, download_url, extract_gz, Data, DataLoader, Batch\n",
    "\n",
    "# 작업을 위한 별도의 함수 불러오기\n",
    "from utils.splitters import random_split, scaffold_split ## split\n",
    "from utils.download_preprocess import CustomMoleculeNet, atom_features, EDGE_FEATURES\n",
    "\n",
    "# 시각화를 위한 라이브러리\n",
    "import matplotlib.pyplot as plt\n",
    "import seaborn as sns\n",
    "\n",
    "print(rdkit.__version__)"
   ]
  },
  {
   "cell_type": "markdown",
   "id": "2e67c065-654f-454f-8ba5-e4b30e7d6da7",
   "metadata": {},
   "source": [
    "## 1) 분자 데이터 수집\n",
    "\n",
    "**MoleculeNet**은 화학 및 생물학적 데이터 분석과 모델링을 위한 벤치마크 데이터셋 모음이다.\n",
    "\n",
    "주로 분자 특성 예측 및 약물 설계와 같은 분야에서 활용되며, 다양한 분자 특성과 데이터 분포를 포함하고 있다.\n",
    "\n",
    "torch_geometric은 MoleculeNet 데이터를 간단하게 다운로드하고 처리할 수 있도록 지원한다.\n",
    "\n",
    "이를 편리하게 이용할 수 있도록 본 예제 코드에서는 별도로 제작한 `CustomMoleculeNet` 함수를 이용한다.\n",
    "\n",
    "MoleculeNet에서 제공하는 데이터셋은 목적에 따라 **Classification**과 **Regression**으로 분류할 수 있다.\n",
    "\n",
    "아래 표는 MoleculeNet에서 제공하는 주요 데이터셋에 대해 정리한 표다.\n",
    "\n",
    "출처: https://moleculenet.org/datasets-1\n",
    "\n",
    "---\n",
    "\n",
    "| 데이터셋 이름   | 문제 유형      | 설명                           |\n",
    "|-----------------|---------------|--------------------------------|\n",
    "| **HIV**         | Classification | 항바이러스 물질 활성 예측 (이진 분류) |\n",
    "| **BACE**        | Classification | 알츠하이머 치료 물질 활성 예측 (이진 분류) |\n",
    "| **BBBP**        | Classification | 혈액-뇌 장벽 투과성 예측 (이진 분류) |\n",
    "| **Tox21**       | Classification | 화합물 독성 예측 (이진 분류)   |\n",
    "| **ToxCast**     | Classification | 생물학적 독성 예측 (이진 분류) |\n",
    "| **SIDER**       | Classification | 부작용 예측 (다중 클래스 분류) |\n",
    "| **ClinTox**     | Classification | 독성 및 허가 여부 예측 (이진 분류) |\n",
    "| **ESOL**        | Regression     | 분자의 용해도 예측            |\n",
    "| **FreeSolv**    | Regression     | 분자의 수화 에너지 예측       |\n",
    "| **Lipo**        | Regression     | 소수성(LogD) 예측             |\n",
    "\n",
    "---\n",
    "\n",
    "이번 실습에서는 **Classification 작업**을 위한 **BACE 데이터셋**과 **Regression 작업**을 위한 **ESOL 데이터셋**을 다운로드하여 활용한다.\n"
   ]
  },
  {
   "cell_type": "markdown",
   "id": "b185c499-ed3c-4a3b-9e8e-0079b2ae6f8c",
   "metadata": {},
   "source": [
    "### 데이터 다운로드\n",
    "\n",
    "`CustomMoleculeNet`을 이용하여 원하는 데이터셋을 다운로드해 보자.\n",
    "\n",
    "아래 실습 코드에서는 다운로드한 파일을 'dataset' 폴더에 저장하도록 설정하였다.\n",
    "\n",
    "- **BACE**: 분류 작업을 위한 데이터셋으로, 라벨은 0 또는 1의 이진 값으로 구성된다.\n",
    "- **ESOL**: 회귀 작업을 위한 데이터셋으로, 라벨은 연속형 값으로 구성된다."
   ]
  },
  {
   "cell_type": "code",
   "execution_count": 3,
   "id": "65cbe79e-0a63-41dc-b2e9-ed102204e765",
   "metadata": {},
   "outputs": [
    {
     "name": "stdout",
     "output_type": "stream",
     "text": [
      "Data processed and saved successfully.\n",
      "Data processed and saved successfully.\n"
     ]
    },
    {
     "name": "stderr",
     "output_type": "stream",
     "text": [
      "Processing...\n",
      "Done!\n",
      "Processing...\n",
      "Done!\n"
     ]
    }
   ],
   "source": [
    "# smiles와 label을 정보를 내려받음\n",
    "bace = CustomMoleculeNet('dataset', name='BACE')\n",
    "esol = CustomMoleculeNet('dataset', name='ESOL')"
   ]
  },
  {
   "cell_type": "markdown",
   "id": "a4f9ffb9-5f6e-434f-892f-2bffabcc0390",
   "metadata": {},
   "source": [
    "### 데이터 구조 확인\n",
    "\n",
    "다운로드한 데이터셋의 구조를 확인해보자. 데이터 구조를 살펴보는 작업은 기초적이면서도 중요한 단계로, 이후 데이터 전처리와 모델 학습 결과 해석에 큰 영향을 미친다.\n",
    "\n",
    "- **분자의 개수**: 데이터셋에 포함된 분자의 총 수를 확인한다.\n",
    "- **포함된 정보**: 각 분자에 대한 정보(예: SMILES 문자열, 화학적 특성 등)가 어떻게 구성되어 있는지 파악한다.\n",
    "- **라벨의 분포**: 라벨이 어떻게 분포되어 있는지 확인하여, 데이터가 균형 잡혀 있는지 혹은 불균형한지 점검한다. 이는 모델 설계 및 학습에 중요한 영향을 미칠 수 있다."
   ]
  },
  {
   "cell_type": "code",
   "execution_count": 4,
   "id": "b16fa1d8-3c03-4668-96a1-a989511af379",
   "metadata": {},
   "outputs": [],
   "source": [
    "# 다운로드한 데이터셋 정보 불러오기\n",
    "bace_data = torch.load('dataset/' + 'BACE' + '/processed/smiles_labels.pt')\n",
    "esol_data = torch.load('dataset/' + 'ESOL' + '/processed/smiles_labels.pt')"
   ]
  },
  {
   "cell_type": "code",
   "execution_count": 5,
   "id": "0191a653-43a3-4567-81a8-dd7e862dee25",
   "metadata": {},
   "outputs": [
    {
     "name": "stdout",
     "output_type": "stream",
     "text": [
      "BACE 데이터셋:\n",
      "분자 개수: 1513\n",
      "[{'smiles': 'O1CC[C@@H](NC(=O)[C@@H](Cc2cc3cc(ccc3nc2N)-c2ccccc2C)C)CC1(C)C', 'label': [[1.0]]}, {'smiles': 'Fc1cc(cc(F)c1)C[C@H](NC(=O)[C@@H](N1CC[C@](NC(=O)C)(CC(C)C)C1=O)CCc1ccccc1)[C@H](O)[C@@H]1[NH2+]C[C@H](OCCC)C1', 'label': [[1.0]]}]\n",
      "------------------------------------------------------------------------------------------\n",
      "ESOL 데이터셋:\n",
      "분자 개수: 1128\n",
      "[{'smiles': 'OCC3OC(OCC2OC(OC(C#N)c1ccccc1)C(O)C(O)C2O)C(O)C(O)C3O ', 'label': [[-0.7699999809265137]]}, {'smiles': 'Cc1occc1C(=O)Nc2ccccc2', 'label': [[-3.299999952316284]]}]\n"
     ]
    }
   ],
   "source": [
    "# 분자의 개수, 포함된 정보 확인\n",
    "print('BACE 데이터셋:')\n",
    "print(f'분자 개수: {len(bace_data)}')\n",
    "print(bace_data[:2])\n",
    "print('---'*30)\n",
    "print('ESOL 데이터셋:')\n",
    "print(f'분자 개수: {len(esol_data)}')\n",
    "print(esol_data[:2])"
   ]
  },
  {
   "cell_type": "code",
   "execution_count": 6,
   "id": "ac908875-5dac-458b-9eb0-a39686ad0e90",
   "metadata": {},
   "outputs": [
    {
     "data": {
      "image/png": "[encoded data removed]",
      "text/plain": [
       "<Figure size 640x480 with 1 Axes>"
      ]
     },
     "metadata": {},
     "output_type": "display_data"
    }
   ],
   "source": [
    "# 라벨의 분포\n",
    "from collections import Counter\n",
    "\n",
    "# BACE 라벨 리스트 (이진 벡터)\n",
    "data = [smi['label'][0][0] for smi in bace_data]\n",
    "\n",
    "# 데이터의 분포를 계산\n",
    "counter = Counter(data)\n",
    "\n",
    "# 막대 그래프 그리기\n",
    "plt.bar(counter.keys(), counter.values(), color=['tab:orange', 'tab:blue'])\n",
    "\n",
    "# x축 라벨을 0과 1로 설정\n",
    "plt.xticks([0, 1])\n",
    "\n",
    "# 그래프 제목과 레이블 추가\n",
    "plt.title('Distribution of BACE')\n",
    "plt.xlabel('Label')\n",
    "plt.ylabel('Frequency')\n",
    "\n",
    "# 그래프 표시\n",
    "plt.show()"
   ]
  },
  {
   "cell_type": "code",
   "execution_count": 7,
   "id": "e28088f1-29cc-40eb-ab76-63750be06408",
   "metadata": {},
   "outputs": [
    {
     "data": {
      "image/png": "[encoded data removed]",
      "text/plain": [
       "<Figure size 1000x600 with 1 Axes>"
      ]
     },
     "metadata": {},
     "output_type": "display_data"
    }
   ],
   "source": [
    "# ESOL 라벨 데이터 (연속형)\n",
    "data = [smi['label'][0][0] for smi in esol_data]\n",
    "\n",
    "# 히스토그램과 KDE(커널 밀도 추정)를 함께 그리기\n",
    "plt.figure(figsize=(10, 6))\n",
    "sns.histplot(data, kde=True, bins=10, color='steelblue', alpha=0.6)\n",
    "\n",
    "# 그래프 제목과 레이블 추가\n",
    "plt.title('Distribution of ESOL')\n",
    "plt.xlabel('Label')\n",
    "plt.ylabel('Frequency')\n",
    "\n",
    "# 그래프 표시\n",
    "plt.show()"
   ]
  },
  {
   "cell_type": "markdown",
   "id": "2afe8de1-6f7b-46aa-beb6-61e1500cecb7",
   "metadata": {},
   "source": [
    "## 2) 분자 데이터 변환\n",
    "\n",
    "**Chapter 1**에서 배운 내용을 바탕으로, 분자 데이터를 목적에 맞게 변환해 보자.\n",
    "\n",
    "아래 표는 목적에 맞는 다양한 분자 데이터 형태를 간단히 정리한 것이다.\n",
    "\n",
    "---\n",
    "\n",
    "| 데이터 형태  |  용도   | 설명                                                 |\n",
    "|-----------------|-----------------|------------------------------------------------------|\n",
    "| **SMILES**      | 문자열 처리     | 분자의 구조를 텍스트 형식으로 표현하며, 모델 입력을 위한 벡터화 과정이 필요함 |\n",
    "| **Fingerprints** | 구조적 특징 벡터 | 분자의 구조적 특징 유무를 이진 벡터로 변환하여, 주로 분자 간의 유사도 계산에 사용됨 |\n",
    "| **Descriptors** | 수치화된 화학적 특성 | 분자의 화학적 및 물리적 특성을 수치화한 값으로, 주로 분자 특성 예측에 사용됨 |\n",
    "| **Image**      | 이미지 학습 | 분자의 2D/3D 구조를 이미지로 변환하여 합성곱 신경망(CNN)을 통한 학습을 수행 |\n",
    "| **Graph**      | 그래프 학습      | 분자의 원자와 결합을 노드와 엣지로 표현하여, 그래프 신경망(GNN)을 통한 구조적 관계 학습에 활용 |\n",
    "\n",
    "---\n",
    "\n",
    "각 방법은 해당 작업의 목적에 맞는 데이터 표현 방식을 제공하며, 목표로 하는 예측 작업에 맞게 적절히 활용될 수 있다."
   ]
  },
  {
   "cell_type": "markdown",
   "id": "01db3dff-6987-4c45-8f00-a55ec57fdbe4",
   "metadata": {},
   "source": [
    "### SMILES 변환 함수 \n",
    "\n",
    "**Chapter 1**에서 설계한 함수를 활용해보자.\n",
    "\n",
    "#### 주요 수정 및 추가 사항:\n",
    "- **출력 형식 변경**: 변환된 데이터는 `torch_geometric`의 `Data` 객체로 반환된다.  \n",
    "- **라벨 처리 추가**: 입력으로 제공된 `label` 정보를 `Data` 객체의 `y` 값으로 함께 처리한다.  \n",
    "- **SMILES 원본 표시**: 변환된 데이터가 어떤 SMILES에서 생성되었는지 추적 가능하도록 구현했다."
   ]
  },
  {
   "cell_type": "code",
   "execution_count": 8,
   "id": "7657922a-5c20-4ad1-aff3-a17d35ca001d",
   "metadata": {},
   "outputs": [],
   "source": [
    "from torch_geometric.data import Data\n",
    "\n",
    "def transform_mol(molecule_smiles, labels, choice):\n",
    "    mols = [Chem.MolFromSmiles(mol) for mol in molecule_smiles if mol]\n",
    "    \n",
    "    # string tokenization\n",
    "    if choice == 'string_tokenization': # vocab dictionary, encoded smiles를 출력\n",
    "        vocab = []\n",
    "        max_len = 0\n",
    "        tokenizer = BasicSmilesTokenizer()\n",
    "        for smi in molecule_smiles:\n",
    "            tokens = tokenizer.tokenize(smi)\n",
    "            max_len = max(max_len, len(tokens))\n",
    "            vocab += tokens\n",
    "            \n",
    "        uniq_vocab = sorted(set(vocab))\n",
    "        smiles_vocab = {v: i for i, v in enumerate(uniq_vocab)}\n",
    "        smiles_vocab['Unk'] = len(smiles_vocab)\n",
    "        \n",
    "        encoded_smiles = [[smiles_vocab.get(token, smiles_vocab['Unk']) for token in tokenizer.tokenize(smi)] for smi in molecule_smiles]\n",
    "        smiles_vec = []\n",
    "        for vec, l, smi in zip(encoded_smiles, labels, molecule_smiles):\n",
    "            pad_len = max_len - len(vec)\n",
    "            vec = vec + ([0] * pad_len)\n",
    "            smiles_vec.append(Data(x=torch.tensor(vec).view(1, -1), y=torch.tensor([l], dtype=torch.float).view(1, -1), smiles=smi))\n",
    "        return smiles_vocab, smiles_vec\n",
    "\n",
    "    # 2D Graph\n",
    "    elif choice == '2D_graph':\n",
    "        graph_data = [pyg_utils.from_smiles(smi) for smi in molecule_smiles]\n",
    "\n",
    "        graph_2d = []\n",
    "        for g, l, smi in zip(graph_data, labels, molecule_smiles):\n",
    "            g.y = torch.tensor([l], dtype=torch.float).view(1, -1)\n",
    "            g.smiles = smi\n",
    "            graph_2d.append(g)\n",
    "        return graph_2d\n",
    "\n",
    "    # 3D Graph\n",
    "    elif choice == '3D_graph':\n",
    "        graph_3d = []\n",
    "        for smi, l in zip(molecule_smiles, labels):\n",
    "            graph_data = pyg_utils.from_smiles(smi)\n",
    "            \n",
    "            mol = Chem.MolFromSmiles(smi)\n",
    "            atom_info = [(atom.GetIdx(), atom.GetSymbol()) for atom in mol.GetAtoms()]\n",
    "                     \n",
    "            mol = AllChem.AddHs(mol, addCoords=True)\n",
    "            rdDistGeom.EmbedMolecule(mol)\n",
    "    \n",
    "            conf = mol.GetConformer()\n",
    "            pos = np.array([conf.GetAtomPosition(idx) for idx, symbol in atom_info])\n",
    "            graph_data.pos = pos\n",
    "            graph_data.y = torch.tensor([l], dtype=torch.float).view(1, -1)\n",
    "            graph_data.smiles = smi\n",
    "            graph_3d.append(graph_data)\n",
    "        return graph_3d\n",
    "    \n",
    "    # Fingerprint\n",
    "    elif 'fingerprint' in choice:\n",
    "        if choice == 'rdkit_fingerprint':\n",
    "            fp = [Chem.RDKFingerprint(mol) for mol in mols]\n",
    "        \n",
    "        elif choice == 'maccs_fingerprint':\n",
    "            fp = [MACCSkeys.GenMACCSKeys(mol) for mol in mols]\n",
    "        \n",
    "        elif choice == 'morgan_fingerprint':\n",
    "            fp = [AllChem.GetMorganFingerprintAsBitVect(mol, radius=2, nBits=1024) for mol in mols]\n",
    "\n",
    "        fps = [Data(x=torch.tensor(f).view(1, -1), y=torch.tensor([l], dtype=torch.float).view(1, -1), smiles=smi) for f, l, smi in zip(fp, labels, molecule_smiles)]\n",
    "        return fps\n",
    "\n",
    "    # Descriptors\n",
    "    elif choice == 'descriptors':\n",
    "        # 모델 학습을 위해서는 스케일링 작업이 별도로 필요하다는 것을 기억하자!\n",
    "        desc = []\n",
    "        for mol, l, smi in zip(mols, labels, molecule_smiles):\n",
    "            x = torch.tensor(list(Descriptors.CalcMolDescriptors(mol).values()), dtype=torch.float).view(1, -1)\n",
    "            y = torch.tensor([l], dtype=torch.float).view(1, -1)\n",
    "            desc.append(Data(x=x, y=y, smiles=smi))\n",
    "        return desc"
   ]
  },
  {
   "cell_type": "code",
   "execution_count": 9,
   "id": "bb15377b-5836-48cc-b1d1-d7c6b8b6f5e8",
   "metadata": {},
   "outputs": [],
   "source": [
    "# smiles와 label 데이터 분리\n",
    "bace_smis = [item['smiles'] for item in bace_data]\n",
    "bace_labels = [item['label'] for item in bace_data]\n",
    "\n",
    "esol_smis = [item['smiles'] for item in esol_data]\n",
    "esol_labels = [item['label'] for item in esol_data]"
   ]
  },
  {
   "cell_type": "markdown",
   "id": "d11179bc-502c-4f29-a8a2-24aa7f162518",
   "metadata": {},
   "source": [
    "### String tokenization"
   ]
  },
  {
   "cell_type": "code",
   "execution_count": 10,
   "id": "fb9b2a7b-4180-4eab-a03a-866421d16d47",
   "metadata": {},
   "outputs": [
    {
     "name": "stdout",
     "output_type": "stream",
     "text": [
      "BACE 단어집 : {'(': 0, ')': 1, '-': 2, '/': 3, '1': 4, '2': 5, '3': 6, '4': 7, '=': 8, 'Br': 9, 'C': 10, 'Cl': 11, 'F': 12, 'I': 13, 'N': 14, 'O': 15, 'S': 16, '[C@@H]': 17, '[C@@]': 18, '[C@H]': 19, '[C@]': 20, '[N+]': 21, '[N-]': 22, '[N@@H+]': 23, '[N@H+]': 24, '[NH+]': 25, '[NH2+]': 26, '[NH3+]': 27, '[O-]': 28, '[n+]': 29, '[n-]': 30, '[nH]': 31, '\\\\': 32, 'c': 33, 'n': 34, 'o': 35, 's': 36, 'Unk': 37} \n",
      "\n",
      "Token으로 변환된 BACE 데이터 :\n"
     ]
    },
    {
     "data": {
      "text/plain": [
       "[Data(x=[1, 178], y=[1, 1], smiles='O1CC[C@@H](NC(=O)[C@@H](Cc2cc3cc(ccc3nc2N)-c2ccccc2C)C)CC1(C)C'),\n",
       " Data(x=[1, 178], y=[1, 1], smiles='Fc1cc(cc(F)c1)C[C@H](NC(=O)[C@@H](N1CC[C@](NC(=O)C)(CC(C)C)C1=O)CCc1ccccc1)[C@H](O)[C@@H]1[NH2+]C[C@H](OCCC)C1'),\n",
       " Data(x=[1, 178], y=[1, 1], smiles='S1(=O)(=O)N(c2cc(cc3c2n(cc3CC)CC1)C(=O)N[C@H]([C@H](O)C[NH2+]Cc1cc(OC)ccc1)Cc1ccccc1)C'),\n",
       " Data(x=[1, 178], y=[1, 1], smiles='S1(=O)(=O)C[C@@H](Cc2cc(O[C@H](COCC)C(F)(F)F)c(N)c(F)c2)[C@H](O)[C@@H]([NH2+]Cc2cc(ccc2)C(C)(C)C)C1'),\n",
       " Data(x=[1, 178], y=[1, 1], smiles='S1(=O)(=O)N(c2cc(cc3c2n(cc3CC)CC1)C(=O)N[C@H]([C@H](O)C[NH2+]Cc1cc(ccc1)C(F)(F)F)Cc1ccccc1)C')]"
      ]
     },
     "execution_count": 10,
     "metadata": {},
     "output_type": "execute_result"
    }
   ],
   "source": [
    "bace_vocab, bace_token = transform_mol(bace_smis, bace_labels, 'string_tokenization')\n",
    "print('BACE 단어집 :', bace_vocab, '\\n')\n",
    "print('Token으로 변환된 BACE 데이터 :')\n",
    "bace_token[:5]"
   ]
  },
  {
   "cell_type": "code",
   "execution_count": 11,
   "id": "8af496e1-9864-4672-9c44-beed808d19f9",
   "metadata": {},
   "outputs": [
    {
     "name": "stdout",
     "output_type": "stream",
     "text": [
      "ESOL 단어집 : {'(': 0, ')': 1, '/': 2, '1': 3, '2': 4, '3': 5, '4': 6, '5': 7, '6': 8, '7': 9, '8': 10, '=': 11, 'Br': 12, 'C': 13, 'Cl': 14, 'F': 15, 'I': 16, 'N': 17, 'O': 18, 'P': 19, 'S': 20, '[nH]': 21, '\\\\': 22, 'c': 23, 'n': 24, 'o': 25, 's': 26, 'Unk': 27} \n",
      "\n",
      "Token으로 변환된 ESOL 데이터 :\n"
     ]
    },
    {
     "data": {
      "text/plain": [
       "[Data(x=[1, 97], y=[1, 1], smiles='OCC3OC(OCC2OC(OC(C#N)c1ccccc1)C(O)C(O)C2O)C(O)C(O)C3O '),\n",
       " Data(x=[1, 97], y=[1, 1], smiles='Cc1occc1C(=O)Nc2ccccc2'),\n",
       " Data(x=[1, 97], y=[1, 1], smiles='CC(C)=CCCC(C)=CC(=O)'),\n",
       " Data(x=[1, 97], y=[1, 1], smiles='c1ccc2c(c1)ccc3c2ccc4c5ccccc5ccc43'),\n",
       " Data(x=[1, 97], y=[1, 1], smiles='c1ccsc1')]"
      ]
     },
     "execution_count": 11,
     "metadata": {},
     "output_type": "execute_result"
    }
   ],
   "source": [
    "esol_vocab, esol_token = transform_mol(esol_smis, bace_labels, 'string_tokenization')\n",
    "print('ESOL 단어집 :', esol_vocab, '\\n')\n",
    "print('Token으로 변환된 ESOL 데이터 :')\n",
    "esol_token[:5]"
   ]
  },
  {
   "cell_type": "markdown",
   "id": "4bde07e2-34df-45b5-be61-99742b978041",
   "metadata": {},
   "source": [
    "### Fingerprint"
   ]
  },
  {
   "cell_type": "code",
   "execution_count": 12,
   "id": "b922426f-b2c0-4c22-ac6d-926fe1caecf8",
   "metadata": {},
   "outputs": [
    {
     "name": "stdout",
     "output_type": "stream",
     "text": [
      "Fingerprint로 변환된 BACE 데이터 :\n"
     ]
    },
    {
     "data": {
      "text/plain": [
       "[Data(x=[1, 1024], y=[1, 1], smiles='O1CC[C@@H](NC(=O)[C@@H](Cc2cc3cc(ccc3nc2N)-c2ccccc2C)C)CC1(C)C'),\n",
       " Data(x=[1, 1024], y=[1, 1], smiles='Fc1cc(cc(F)c1)C[C@H](NC(=O)[C@@H](N1CC[C@](NC(=O)C)(CC(C)C)C1=O)CCc1ccccc1)[C@H](O)[C@@H]1[NH2+]C[C@H](OCCC)C1'),\n",
       " Data(x=[1, 1024], y=[1, 1], smiles='S1(=O)(=O)N(c2cc(cc3c2n(cc3CC)CC1)C(=O)N[C@H]([C@H](O)C[NH2+]Cc1cc(OC)ccc1)Cc1ccccc1)C'),\n",
       " Data(x=[1, 1024], y=[1, 1], smiles='S1(=O)(=O)C[C@@H](Cc2cc(O[C@H](COCC)C(F)(F)F)c(N)c(F)c2)[C@H](O)[C@@H]([NH2+]Cc2cc(ccc2)C(C)(C)C)C1'),\n",
       " Data(x=[1, 1024], y=[1, 1], smiles='S1(=O)(=O)N(c2cc(cc3c2n(cc3CC)CC1)C(=O)N[C@H]([C@H](O)C[NH2+]Cc1cc(ccc1)C(F)(F)F)Cc1ccccc1)C')]"
      ]
     },
     "execution_count": 12,
     "metadata": {},
     "output_type": "execute_result"
    }
   ],
   "source": [
    "bace_fps = transform_mol(bace_smis, bace_labels, 'morgan_fingerprint')\n",
    "print('Fingerprint로 변환된 BACE 데이터 :')\n",
    "bace_fps[:5]"
   ]
  },
  {
   "cell_type": "code",
   "execution_count": 13,
   "id": "ec8aa338-ae88-423b-9ac8-5c66b99b2266",
   "metadata": {},
   "outputs": [
    {
     "name": "stdout",
     "output_type": "stream",
     "text": [
      "Fingerprint로 변환된 ESOL 데이터 :\n"
     ]
    },
    {
     "data": {
      "text/plain": [
       "[Data(x=[1, 1024], y=[1, 1], smiles='OCC3OC(OCC2OC(OC(C#N)c1ccccc1)C(O)C(O)C2O)C(O)C(O)C3O '),\n",
       " Data(x=[1, 1024], y=[1, 1], smiles='Cc1occc1C(=O)Nc2ccccc2'),\n",
       " Data(x=[1, 1024], y=[1, 1], smiles='CC(C)=CCCC(C)=CC(=O)'),\n",
       " Data(x=[1, 1024], y=[1, 1], smiles='c1ccc2c(c1)ccc3c2ccc4c5ccccc5ccc43'),\n",
       " Data(x=[1, 1024], y=[1, 1], smiles='c1ccsc1')]"
      ]
     },
     "execution_count": 13,
     "metadata": {},
     "output_type": "execute_result"
    }
   ],
   "source": [
    "esol_fps = transform_mol(esol_smis, esol_labels, 'morgan_fingerprint')\n",
    "print('Fingerprint로 변환된 ESOL 데이터 :')\n",
    "esol_fps[:5]"
   ]
  },
  {
   "cell_type": "markdown",
   "id": "b1a6cd86-f6cb-4ab4-8a07-4354cd0c075b",
   "metadata": {},
   "source": [
    "### Descriptor"
   ]
  },
  {
   "cell_type": "code",
   "execution_count": 14,
   "id": "29675273-5d0f-4a79-87fe-91c68ee42074",
   "metadata": {},
   "outputs": [
    {
     "name": "stdout",
     "output_type": "stream",
     "text": [
      "Descriptor로 변환된 BACE 데이터 :\n"
     ]
    },
    {
     "data": {
      "text/plain": [
       "[Data(x=[1, 210], y=[1, 1], smiles='O1CC[C@@H](NC(=O)[C@@H](Cc2cc3cc(ccc3nc2N)-c2ccccc2C)C)CC1(C)C'),\n",
       " Data(x=[1, 210], y=[1, 1], smiles='Fc1cc(cc(F)c1)C[C@H](NC(=O)[C@@H](N1CC[C@](NC(=O)C)(CC(C)C)C1=O)CCc1ccccc1)[C@H](O)[C@@H]1[NH2+]C[C@H](OCCC)C1'),\n",
       " Data(x=[1, 210], y=[1, 1], smiles='S1(=O)(=O)N(c2cc(cc3c2n(cc3CC)CC1)C(=O)N[C@H]([C@H](O)C[NH2+]Cc1cc(OC)ccc1)Cc1ccccc1)C'),\n",
       " Data(x=[1, 210], y=[1, 1], smiles='S1(=O)(=O)C[C@@H](Cc2cc(O[C@H](COCC)C(F)(F)F)c(N)c(F)c2)[C@H](O)[C@@H]([NH2+]Cc2cc(ccc2)C(C)(C)C)C1'),\n",
       " Data(x=[1, 210], y=[1, 1], smiles='S1(=O)(=O)N(c2cc(cc3c2n(cc3CC)CC1)C(=O)N[C@H]([C@H](O)C[NH2+]Cc1cc(ccc1)C(F)(F)F)Cc1ccccc1)C')]"
      ]
     },
     "execution_count": 14,
     "metadata": {},
     "output_type": "execute_result"
    }
   ],
   "source": [
    "bace_desc = transform_mol(bace_smis, bace_labels, 'descriptors')\n",
    "print('Descriptor로 변환된 BACE 데이터 :')\n",
    "bace_desc[:5]"
   ]
  },
  {
   "cell_type": "code",
   "execution_count": 15,
   "id": "e9c589b4-f6fc-46ce-b97a-e1cb0dd13a47",
   "metadata": {},
   "outputs": [
    {
     "name": "stdout",
     "output_type": "stream",
     "text": [
      "Descriptor로 변환된 ESOL 데이터 :\n"
     ]
    },
    {
     "data": {
      "text/plain": [
       "[Data(x=[1, 210], y=[1, 1], smiles='OCC3OC(OCC2OC(OC(C#N)c1ccccc1)C(O)C(O)C2O)C(O)C(O)C3O '),\n",
       " Data(x=[1, 210], y=[1, 1], smiles='Cc1occc1C(=O)Nc2ccccc2'),\n",
       " Data(x=[1, 210], y=[1, 1], smiles='CC(C)=CCCC(C)=CC(=O)'),\n",
       " Data(x=[1, 210], y=[1, 1], smiles='c1ccc2c(c1)ccc3c2ccc4c5ccccc5ccc43'),\n",
       " Data(x=[1, 210], y=[1, 1], smiles='c1ccsc1')]"
      ]
     },
     "execution_count": 15,
     "metadata": {},
     "output_type": "execute_result"
    }
   ],
   "source": [
    "esol_desc = transform_mol(esol_smis, esol_labels, 'descriptors')\n",
    "print('Descriptor로 변환된 ESOL 데이터 :')\n",
    "esol_desc[:5]"
   ]
  },
  {
   "cell_type": "markdown",
   "id": "f2685994-4a6a-47d5-82b2-b2ef6d7df4e6",
   "metadata": {},
   "source": [
    "### Graph"
   ]
  },
  {
   "cell_type": "code",
   "execution_count": 16,
   "id": "74604026-f511-4842-88e9-d300a563ce0f",
   "metadata": {},
   "outputs": [
    {
     "name": "stdout",
     "output_type": "stream",
     "text": [
      "Graph로 변환된 BACE 데이터 :\n"
     ]
    },
    {
     "data": {
      "text/plain": [
       "[Data(x=[32, 9], edge_index=[2, 70], edge_attr=[70, 3], smiles='O1CC[C@@H](NC(=O)[C@@H](Cc2cc3cc(ccc3nc2N)-c2ccccc2C)C)CC1(C)C', y=[1, 1]),\n",
       " Data(x=[47, 9], edge_index=[2, 100], edge_attr=[100, 3], smiles='Fc1cc(cc(F)c1)C[C@H](NC(=O)[C@@H](N1CC[C@](NC(=O)C)(CC(C)C)C1=O)CCc1ccccc1)[C@H](O)[C@@H]1[NH2+]C[C@H](OCCC)C1', y=[1, 1]),\n",
       " Data(x=[42, 9], edge_index=[2, 92], edge_attr=[92, 3], smiles='S1(=O)(=O)N(c2cc(cc3c2n(cc3CC)CC1)C(=O)N[C@H]([C@H](O)C[NH2+]Cc1cc(OC)ccc1)Cc1ccccc1)C', y=[1, 1]),\n",
       " Data(x=[40, 9], edge_index=[2, 84], edge_attr=[84, 3], smiles='S1(=O)(=O)C[C@@H](Cc2cc(O[C@H](COCC)C(F)(F)F)c(N)c(F)c2)[C@H](O)[C@@H]([NH2+]Cc2cc(ccc2)C(C)(C)C)C1', y=[1, 1]),\n",
       " Data(x=[44, 9], edge_index=[2, 96], edge_attr=[96, 3], smiles='S1(=O)(=O)N(c2cc(cc3c2n(cc3CC)CC1)C(=O)N[C@H]([C@H](O)C[NH2+]Cc1cc(ccc1)C(F)(F)F)Cc1ccccc1)C', y=[1, 1])]"
      ]
     },
     "execution_count": 16,
     "metadata": {},
     "output_type": "execute_result"
    }
   ],
   "source": [
    "bace_graph = transform_mol(bace_smis, bace_labels, '2D_graph')\n",
    "print('Graph로 변환된 BACE 데이터 :')\n",
    "bace_graph[:5]"
   ]
  },
  {
   "cell_type": "code",
   "execution_count": 17,
   "id": "191e6cd3-0c55-46f1-9b98-47f681727945",
   "metadata": {},
   "outputs": [
    {
     "name": "stdout",
     "output_type": "stream",
     "text": [
      "Graph로 변환된 ESOL 데이터 :\n"
     ]
    },
    {
     "data": {
      "text/plain": [
       "[Data(x=[32, 9], edge_index=[2, 68], edge_attr=[68, 3], smiles='OCC3OC(OCC2OC(OC(C#N)c1ccccc1)C(O)C(O)C2O)C(O)C(O)C3O ', y=[1, 1]),\n",
       " Data(x=[15, 9], edge_index=[2, 32], edge_attr=[32, 3], smiles='Cc1occc1C(=O)Nc2ccccc2', y=[1, 1]),\n",
       " Data(x=[11, 9], edge_index=[2, 20], edge_attr=[20, 3], smiles='CC(C)=CCCC(C)=CC(=O)', y=[1, 1]),\n",
       " Data(x=[22, 9], edge_index=[2, 52], edge_attr=[52, 3], smiles='c1ccc2c(c1)ccc3c2ccc4c5ccccc5ccc43', y=[1, 1]),\n",
       " Data(x=[5, 9], edge_index=[2, 10], edge_attr=[10, 3], smiles='c1ccsc1', y=[1, 1])]"
      ]
     },
     "execution_count": 17,
     "metadata": {},
     "output_type": "execute_result"
    }
   ],
   "source": [
    "esol_graph = transform_mol(esol_smis, esol_labels, '2D_graph')\n",
    "print('Graph로 변환된 ESOL 데이터 :')\n",
    "esol_graph[:5]"
   ]
  },
  {
   "cell_type": "markdown",
   "id": "6097ee7a-f6c9-4626-9feb-69f9e1290420",
   "metadata": {},
   "source": [
    "## 3) 데이터 로더 제작\n",
    "\n",
    "데이터 로더(Data Loader)는 머신러닝/딥러닝 모델 학습에서 데이터를 효율적으로 불러오고 처리하기 위한 도구다. \n",
    "\n",
    "일반적으로 `PyTorch`와 같은 프레임워크에서 제공되며, 대규모 데이터셋을 다룰 때 데이터를 배치 단위로 나누거나 전처리 작업을 자동화하는 데 사용된다.\n",
    "\n",
    "데이터 로더를 사용하는 이유는 크게 다음과 같다.\n",
    "\n",
    "---\n",
    "1. **미니배치 생성**  \n",
    "   - 데이터를 미니배치 단위로 나누어 처리하여 학습 속도와 메모리 효율성을 높임.\n",
    "\n",
    "2. **데이터 셔플링**  \n",
    "   - 학습 데이터 순서를 매 에포크마다 변경해 모델의 일반화 성능을 향상.\n",
    "\n",
    "3. **병렬 데이터 로드**  \n",
    "   - 멀티스레딩/멀티프로세싱을 통해 데이터 로드와 학습 과정을 병렬로 처리.\n",
    "---\n"
   ]
  },
  {
   "cell_type": "code",
   "execution_count": 18,
   "id": "6d614ce3-7783-44bb-96c0-1b3d858b2a17",
   "metadata": {},
   "outputs": [],
   "source": [
    "# seed 설정 (데이터 로더를 재생성할 때 동일한 환경으로 실험 가능)\n",
    "seed = 42\n",
    "torch.manual_seed(seed)\n",
    "np.random.seed(seed)\n",
    "random.seed(seed)"
   ]
  },
  {
   "cell_type": "markdown",
   "id": "9c94f29d-1882-479c-aeac-e6e863893778",
   "metadata": {},
   "source": [
    "### 데이터 분할 (Split)\n",
    "\n",
    "**데이터 분할**은 전체 데이터셋을 학습(train), 검증(validation), 테스트(test) 데이터셋으로 나누는 과정으로,  \n",
    "모델 학습과 평가를 독립적으로 수행하기 위해 반드시 필요한 단계다.\n",
    "\n",
    "분자 데이터를 다룰 때는 주로 다음 두 가지 방식으로 분할을 수행한다:\n",
    "\n",
    "---\n",
    "\n",
    "#### 1. **Random Split**\n",
    "- 데이터를 무작위로 섞어 학습, 검증, 테스트 데이터셋으로 나누는 방식.  \n",
    "- **특징**:  \n",
    "  - 데이터가 균일하게 분포되어 있다면 적합하다.  \n",
    "  - 하지만, **특정 패턴**이나 **데이터 분포**가 있는 경우 성능 저하의 원인이 될 수 있다.\n",
    "\n",
    "#### 2. **Scaffold Split**  \n",
    "- 특정 분자의 중심이 되는 구조적 골격(Scaffold)를 기준으로 데이터를 분할하는 방식.\n",
    "  - Scaffold는 다양한 작용기나 치환기가 결합된 상태에서 변경되지 않는 고정된 부분을 의미한다. \n",
    "  - 같은 Scaffold를 가진 분자는 동일한 데이터셋에 포함되도록 처리한다.  \n",
    "- **특징**:  \n",
    "  - 훈련과 테스트 간의 **구조적 중복**을 방지해, 모델이 새로운 Scaffold에 대해 일반화할 수 있는지 평가한다.  \n",
    "  - 신약 개발과 같은 실제 환경에 가까운 평가를 제공한다.  \n",
    "  - 단, 데이터 불균형이나 분할의 복잡성이 있을 수 있다.\n",
    "\n",
    "---\n",
    "\n",
    "MoleculeNet 지침에 따르면, 데이터셋은 **8:1:1** 비율로 학습(train), 검증(validation), 테스트(test) 데이터셋으로 분할하는 것을 권장한다.\n",
    "\n",
    "특히, 데이터셋의 특성에 따라 분할 방식이 달라지며, BACE 데이터셋은 **Scaffold 분할**을, ESOL 데이터셋은 **Random 분할**을 사용하는 것이 지향된다."
   ]
  },
  {
   "cell_type": "code",
   "execution_count": 19,
   "id": "2a6a3e3e-5748-44cd-81ef-419e7dc4f84f",
   "metadata": {},
   "outputs": [],
   "source": [
    "train_dataset, valid_dataset, test_dataset = random_split(esol_fps, null_value=0, frac_train=0.8, frac_valid=0.1, frac_test=0.1, seed=seed)"
   ]
  },
  {
   "cell_type": "code",
   "execution_count": 20,
   "id": "9a7a64ae-c203-46a7-a7a5-5d7c3aabeb9e",
   "metadata": {},
   "outputs": [],
   "source": [
    "bace_mols = {'Token': bace_token, 'Fingerprint': bace_fps, 'Descriptors': bace_desc, 'Graph': bace_graph}\n",
    "esol_mols = {'Token': esol_token, 'Fingerprint': esol_fps, 'Descriptors': esol_desc, 'Graph': esol_graph}"
   ]
  },
  {
   "cell_type": "code",
   "execution_count": 21,
   "id": "ddf2cadb-64e8-43b8-8d75-6e31737dbf94",
   "metadata": {},
   "outputs": [],
   "source": [
    "# bace_split = {k: scaffold_split(v, null_value=0, frac_train=0.8, frac_valid=0.1, frac_test=0.1) for k, v in bace_mols.items()} # error 발생\n",
    "esol_split = {k: random_split(v, null_value=0, frac_train=0.8, frac_valid=0.1, frac_test=0.1, seed=seed) for k, v in esol_mols.items()}"
   ]
  },
  {
   "cell_type": "markdown",
   "id": "74550c50-797e-43fb-8ffe-40024f96a444",
   "metadata": {},
   "source": [
    "### Split 시각화\n",
    "\n",
    "- Random 분할했을 때\n",
    "- Scaffold 분할했을 때"
   ]
  },
  {
   "cell_type": "code",
   "execution_count": null,
   "id": "ff1dac46-4143-43d9-b9cd-4d831efb35a7",
   "metadata": {},
   "outputs": [],
   "source": []
  },
  {
   "cell_type": "markdown",
   "id": "22da803d-437c-4b4d-8b05-e5a2c4670de4",
   "metadata": {},
   "source": [
    "### 데이터 로더 생성\n",
    "- batch_size란?\n",
    "- shuffle을 하는 이유?\n",
    "- batch 하나를 출력한 뒤 데이터 형태에 대한 해석"
   ]
  },
  {
   "cell_type": "code",
   "execution_count": 22,
   "id": "464a6d0d-9c68-4e88-8632-bc9859efbaa5",
   "metadata": {},
   "outputs": [],
   "source": [
    "def loader_dataset(data_list, batch_size, shuffle=False):\n",
    "    \"\"\"\n",
    "    DataLoader로 변경\n",
    "    \"\"\"\n",
    "    collate = Batch.from_data_list(data_list)\n",
    "    loader = DataLoader(data_list, batch_size=batch_size, collate_fn=collate, shuffle=shuffle)\n",
    "\n",
    "    return loader"
   ]
  },
  {
   "cell_type": "code",
   "execution_count": 23,
   "id": "3f18747c-1a8c-446e-9f08-b22ddd9ed1a4",
   "metadata": {},
   "outputs": [
    {
     "data": {
      "text/plain": [
       "{'Token': [<torch_geometric.deprecation.DataLoader at 0x1c3447893d0>,\n",
       "  <torch_geometric.deprecation.DataLoader at 0x1c34448f380>,\n",
       "  <torch_geometric.deprecation.DataLoader at 0x1c3441ed160>],\n",
       " 'Fingerprint': [<torch_geometric.deprecation.DataLoader at 0x1c344254290>,\n",
       "  <torch_geometric.deprecation.DataLoader at 0x1c34414caa0>,\n",
       "  <torch_geometric.deprecation.DataLoader at 0x1c343fcc350>],\n",
       " 'Descriptors': [<torch_geometric.deprecation.DataLoader at 0x1c344788350>,\n",
       "  <torch_geometric.deprecation.DataLoader at 0x1c3440ea660>,\n",
       "  <torch_geometric.deprecation.DataLoader at 0x1c344750ce0>],\n",
       " 'Graph': [<torch_geometric.deprecation.DataLoader at 0x1c34481de50>,\n",
       "  <torch_geometric.deprecation.DataLoader at 0x1c34481fd70>,\n",
       "  <torch_geometric.deprecation.DataLoader at 0x1c34425a1b0>]}"
      ]
     },
     "execution_count": 23,
     "metadata": {},
     "output_type": "execute_result"
    }
   ],
   "source": [
    "batch_size = 256\n",
    "esol_preprocessed = {}\n",
    "for k, v in esol_split.items():\n",
    "    train_loader = loader_dataset(data_list=v[0], batch_size=batch_size, shuffle=True)\n",
    "    valid_loader = loader_dataset(data_list=v[1], batch_size=batch_size, shuffle=False) \n",
    "    test_loader = loader_dataset(data_list=v[2], batch_size=batch_size, shuffle=False)\n",
    "    esol_preprocessed[k] = [train_loader, valid_loader, test_loader]\n",
    "esol_preprocessed"
   ]
  },
  {
   "cell_type": "code",
   "execution_count": 24,
   "id": "50ac6f74-a9a0-4e51-b570-a035b34fa708",
   "metadata": {},
   "outputs": [
    {
     "name": "stdout",
     "output_type": "stream",
     "text": [
      "DataBatch(x=[3583, 9], edge_index=[2, 7386], edge_attr=[7386, 3], smiles=[256], y=[256, 1], batch=[3583], ptr=[257])\n"
     ]
    }
   ],
   "source": [
    "# loader 확인\n",
    "for batch in train_loader:\n",
    "    print(batch)\n",
    "    break"
   ]
  },
  {
   "cell_type": "markdown",
   "id": "b29c8e64-a93b-4423-8e74-3b28afb731f2",
   "metadata": {},
   "source": [
    "### 분할된 데이터 저장\n",
    "\n",
    "- {데이터셋 명칭}_{데이터 형식}.pt 파일로 저장하기"
   ]
  },
  {
   "cell_type": "code",
   "execution_count": null,
   "id": "27685395-3e7c-411b-840f-d62581389beb",
   "metadata": {},
   "outputs": [],
   "source": []
  }
 ],
 "metadata": {
  "kernelspec": {
   "display_name": "Python 3 (ipykernel)",
   "language": "python",
   "name": "python3"
  },
  "language_info": {
   "codemirror_mode": {
    "name": "ipython",
    "version": 3
   },
   "file_extension": ".py",
   "mimetype": "text/x-python",
   "name": "python",
   "nbconvert_exporter": "python",
   "pygments_lexer": "ipython3",
   "version": "3.12.7"
  }
 },
 "nbformat": 4,
 "nbformat_minor": 5
}

{
 "cells": [
  {
   "cell_type": "markdown",
   "id": "039db339-50ad-4a62-a0f2-e89dff130846",
   "metadata": {},
   "source": [
    "# Chapter 3 에서 배울 내용\n",
    "\n",
    "1. **데이터 로더 제작**  \n",
    "   - 모델 학습을 위한 데이터 로더 설계 및 구현  \n",
    "   - 분자 데이터 분류를 위한 사전 지식 이해\n",
    "\n",
    "---\n",
    "2. **모델 제작**  \n",
    "    - 분자 특성 분류/회귀 예측을 위한 모델 아키텍처 설계 \n",
    "    - MLP, CNN, RNN, GNN 등 다양한 모델 활용 방법  \n",
    "    - 입력 데이터 처리 및 모델에 맞는 출력 형식 설정\n",
    "\n",
    "---\n",
    "3. **학습 및 평가**\n",
    "   - 모델 학습을 위한 손실 함수와 최적화 알고리즘 설정  \n",
    "   - 교차 검증, 정확도, 정밀도, 재현율, F1 스코어 등 다양한 평가 지표 활용  \n",
    "   - 과적합 방지를 위한 기법 (예: Dropout, 정규화, 데이터 증강 등)\n",
    "   - 모델 성능 평가 \n",
    "    \n",
    "---\n",
    "4. **결과 저장**\n",
    "    - 학습 로그 및 평가 결과 기록  \n",
    "    - 결과 시각화 및 분석 도구 사용 (예: Loss/Accuracy 그래프, confusion matrix 등)\n",
    "    - 모델을 실험적 환경에서 재사용할 수 있도록 파일 포맷으로 저장 (예: `.pt`, `.h5` 등) \n",
    "    \n",
    "---"
   ]
  },
  {
   "cell_type": "code",
   "execution_count": null,
   "id": "21ce8d66-dbbb-41c8-a303-485769f9c746",
   "metadata": {},
   "outputs": [],
   "source": []
  },
  {
   "cell_type": "markdown",
   "id": "5bf86b5c-da09-4700-9d76-378eb4087c28",
   "metadata": {},
   "source": [
    "## 1) 데이터 로더 제작\n",
    "\n",
    "데이터 로더(Data Loader)는 머신러닝/딥러닝 모델 학습에서 데이터를 효율적으로 불러오고 처리하기 위한 도구다. \n",
    "\n",
    "일반적으로 `PyTorch`와 같은 프레임워크에서 제공되며, 대규모 데이터셋을 다룰 때 데이터를 배치 단위로 나누거나 전처리 작업을 자동화하는 데 사용된다.\n",
    "\n",
    "데이터 로더를 사용하는 이유는 크게 다음과 같다.\n",
    "\n",
    "---\n",
    "1. **미니배치 생성**  \n",
    "   - 데이터를 미니배치 단위로 나누어 처리하여 학습 속도와 메모리 효율성을 높임\n",
    "   - 배치 크기가 작으면 메모리 사용량이 적으나, 학습 시간이 길어질 수 있음\n",
    "   - 배치 크기가 크면 학습 속도가 빨라질 수 있으나, 메모리 사용량이 증가함\n",
    "\n",
    "2. **데이터 셔플링**  \n",
    "   - 학습 데이터 순서를 매 에포크마다 변경해 모델의 일반화 성능을 향상\n",
    "   - 학습 시 특정 순서나 패턴으로 인해 모델이 편향되거나 과적합되지 않도록 하기 위해 사용됨.\n",
    "   - 검증 및 테스트 데이터에서는 **shuffle을 사용하지 않음** (결과 재현성을 위해)"
   ]
  },
  {
   "cell_type": "code",
   "execution_count": null,
   "id": "619051fe-e66a-45dd-b436-6dbb30890aeb",
   "metadata": {},
   "outputs": [],
   "source": [
    "def loader_dataset(data_list, batch_size, shuffle=False):\n",
    "    \"\"\"\n",
    "    DataLoader로 변경\n",
    "    \"\"\"\n",
    "    collate = Batch.from_data_list(data_list)\n",
    "    loader = DataLoader(data_list, batch_size=batch_size, collate_fn=collate, shuffle=shuffle)\n",
    "\n",
    "    return loader"
   ]
  },
  {
   "cell_type": "code",
   "execution_count": null,
   "id": "aa8dedb8-5c4a-4055-bc48-65ab51fa1834",
   "metadata": {},
   "outputs": [],
   "source": [
    "batch_size = 256\n",
    "esol_loaders = {}\n",
    "for k, v in esol_split.items():\n",
    "    train_loader = loader_dataset(data_list=v[0], batch_size=batch_size, shuffle=True)\n",
    "    valid_loader = loader_dataset(data_list=v[1], batch_size=batch_size, shuffle=False) \n",
    "    test_loader = loader_dataset(data_list=v[2], batch_size=batch_size, shuffle=False)\n",
    "    esol_loaders[k] = [train_loader, valid_loader, test_loader]\n",
    "esol_loaders"
   ]
  },
  {
   "cell_type": "markdown",
   "id": "5d22cdf9-95f6-44fc-b560-35ada156618a",
   "metadata": {},
   "source": [
    "#### Graph Loader\n",
    "- x: 그래프의 노드 feature\n",
    "- edge_index: 그래프의 두 노드 간 연결(edge) 정보\n",
    "- edge_index : 노드 간 연결(edge)의 feature\n",
    "- smiles : 그래프가 표현하는 분자의 smiles\n",
    "- y : task에 대한 label\n",
    "- batch : batch 내의 총 노드 개수\n",
    "- ptr : 각 그래프의 시작 노드의 위치. 그래프 개수(batch size) + 1 의 길이이며, 마지막 값은 batch에 포함된 전체 노드의 개수를 의미."
   ]
  },
  {
   "cell_type": "code",
   "execution_count": null,
   "id": "44f70bdd-14d0-452b-bafd-0c03dcee9008",
   "metadata": {},
   "outputs": [],
   "source": [
    "# Graph Loader 확인\n",
    "for loader in esol_preprocessed['Graph']:\n",
    "    for batch in loader:\n",
    "        print(batch)"
   ]
  },
  {
   "cell_type": "code",
   "execution_count": null,
   "id": "53165f34-e30a-4b4f-91b0-f8ff13e26eb0",
   "metadata": {},
   "outputs": [],
   "source": []
  }
 ],
 "metadata": {
  "kernelspec": {
   "display_name": "Python 3 (ipykernel)",
   "language": "python",
   "name": "python3"
  },
  "language_info": {
   "codemirror_mode": {
    "name": "ipython",
    "version": 3
   },
   "file_extension": ".py",
   "mimetype": "text/x-python",
   "name": "python",
   "nbconvert_exporter": "python",
   "pygments_lexer": "ipython3",
   "version": "3.12.7"
  }
 },
 "nbformat": 4,
 "nbformat_minor": 5
}
